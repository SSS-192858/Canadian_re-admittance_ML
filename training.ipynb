{
 "cells": [
  {
   "cell_type": "code",
   "execution_count": null,
   "metadata": {},
   "outputs": [],
   "source": [
    "import pandas as pd\n",
    "import numpy as np\n",
    "import seaborn as sns\n",
    "import matplotlib.pyplot as plt\n",
    "\n",
    "from sklearn.model_selection import train_test_split\n",
    "from sklearn.preprocessing import StandardScaler, PolynomialFeatures\n",
    "from sklearn.linear_model import LogisticRegression\n",
    "from sklearn.neighbors import KNeighborsClassifier\n",
    "from sklearn.tree import DecisionTreeClassifier\n",
    "from sklearn.ensemble import RandomForestClassifier\n",
    "from sklearn.ensemble import GradientBoostingClassifier\n",
    "from sklearn.naive_bayes import GaussianNB\n",
    "import xgboost as xgb\n",
    "from sklearn.metrics import accuracy_score\n",
    "pd.options.display.max_rows = 4000"
   ]
  },
  {
   "cell_type": "code",
   "execution_count": null,
   "metadata": {},
   "outputs": [],
   "source": [
    "df = pd.read_csv('./canadian-hospital-re-admittance-challenge/train.csv')\n",
    "test_df = pd.read_csv('./canadian-hospital-re-admittance-challenge/test.csv')\n",
    "df"
   ]
  },
  {
   "cell_type": "code",
   "execution_count": null,
   "metadata": {},
   "outputs": [],
   "source": [
    "percent_missing = df.isnull().sum() * 100 / len(df)\n",
    "\n",
    "percentages_df = pd.DataFrame({\n",
    "    'percent_missing': percent_missing\n",
    "})\n",
    "\n",
    "percentages_df"
   ]
  },
  {
   "cell_type": "code",
   "execution_count": null,
   "metadata": {},
   "outputs": [],
   "source": [
    "max_glu_serum_group = df.groupby(by=['max_glu_serum'])\n",
    "max_glu_serum_group.count()['enc_id']"
   ]
  },
  {
   "cell_type": "code",
   "execution_count": null,
   "metadata": {},
   "outputs": [],
   "source": [
    "a1c_result_group = df.groupby(by=['A1Cresult'])\n",
    "a1c_result_group.count()['enc_id']"
   ]
  },
  {
   "cell_type": "code",
   "execution_count": null,
   "metadata": {},
   "outputs": [],
   "source": [
    "specialty_group = df.groupby(by=['medical_specialty'])\n",
    "specialty_group.count()['enc_id']"
   ]
  },
  {
   "cell_type": "code",
   "execution_count": null,
   "metadata": {},
   "outputs": [],
   "source": [
    "race_group = df.groupby(by=['race'])\n",
    "race_group.count()['enc_id']"
   ]
  },
  {
   "cell_type": "code",
   "execution_count": null,
   "metadata": {},
   "outputs": [],
   "source": [
    "df[\"max_glu_serum\"].fillna(\"Norm\", inplace = True)\n",
    "df[\"A1Cresult\"].fillna(\"Norm\",inplace=True)\n",
    "df[\"medical_specialty\"].fillna(\"No-Admitting-Physician\", inplace=True)\n",
    "df[\"race\"].fillna(\"Other\", inplace=True)\n",
    "\n",
    "test_df[\"max_glu_serum\"].fillna(\"Norm\", inplace = True)\n",
    "test_df[\"A1Cresult\"].fillna(\"Norm\",inplace=True)\n",
    "test_df[\"medical_specialty\"].fillna(\"No-Admitting-Physician\", inplace=True)\n",
    "test_df[\"race\"].fillna(\"Other\", inplace=True)"
   ]
  },
  {
   "cell_type": "code",
   "execution_count": null,
   "metadata": {},
   "outputs": [],
   "source": [
    "df.drop(columns=['enc_id','patient_id','weight','payer_code'],inplace=True)\n",
    "test_df.drop(columns=['enc_id','patient_id','weight','payer_code'],inplace=True)"
   ]
  },
  {
   "cell_type": "code",
   "execution_count": null,
   "metadata": {},
   "outputs": [],
   "source": [
    "percent_missing = df.isnull().sum() * 100 / len(df)\n",
    "\n",
    "percentages_df = pd.DataFrame({\n",
    "    'percent_missing': percent_missing\n",
    "})\n",
    "\n",
    "percentages_df"
   ]
  },
  {
   "cell_type": "code",
   "execution_count": null,
   "metadata": {},
   "outputs": [],
   "source": [
    "df.loc[df['diag_1'].notnull(), 'diag_1'] = 4\n",
    "df.loc[df['diag_2'].notnull(), 'diag_2'] = 2\n",
    "df.loc[df['diag_3'].notnull(), 'diag_3'] = 1\n",
    "\n",
    "df['diag_1'].fillna(0,inplace=True)\n",
    "df['diag_2'].fillna(0,inplace=True)\n",
    "df['diag_3'].fillna(0,inplace=True)\n",
    "\n",
    "test_df.loc[test_df['diag_1'].notnull(), 'diag_1'] = 4\n",
    "test_df.loc[test_df['diag_2'].notnull(), 'diag_2'] = 2\n",
    "test_df.loc[test_df['diag_3'].notnull(), 'diag_3'] = 1\n",
    "\n",
    "test_df['diag_1'].fillna(0,inplace=True)\n",
    "test_df['diag_2'].fillna(0,inplace=True)\n",
    "test_df['diag_3'].fillna(0,inplace=True)\n",
    "\n",
    "df.loc[:,'diag_1':'diag_3']"
   ]
  },
  {
   "cell_type": "code",
   "execution_count": null,
   "metadata": {},
   "outputs": [],
   "source": [
    "new_col = df['diag_1']+df['diag_2']+df['diag_3']\n",
    "df.insert(loc = len(df.columns)-1, column = 'Number_of_Diagnosis', value=new_col)\n",
    "\n",
    "new_col = test_df['diag_1']+test_df['diag_2']+test_df['diag_3']\n",
    "test_df.insert(loc = len(test_df.columns), column = 'Number_of_Diagnosis', value=new_col)\n"
   ]
  },
  {
   "cell_type": "code",
   "execution_count": null,
   "metadata": {},
   "outputs": [],
   "source": [
    "diag_groups = df.groupby(by=['Number_of_Diagnosis'])\n",
    "diag_groups.count()"
   ]
  },
  {
   "cell_type": "code",
   "execution_count": null,
   "metadata": {},
   "outputs": [],
   "source": [
    "df.drop(columns=['diag_1','diag_2','diag_3'], inplace=True)\n",
    "test_df.drop(columns=['diag_1','diag_2','diag_3'], inplace=True)"
   ]
  },
  {
   "cell_type": "code",
   "execution_count": null,
   "metadata": {},
   "outputs": [],
   "source": [
    "admission_grouping_dict = {\n",
    "    1 : [1],\n",
    "    2 : [2],\n",
    "    3 : [3],\n",
    "    4 : [4],\n",
    "    5 : [5,6,8], \n",
    "    6 : [7]\n",
    "}\n",
    "\n",
    "def admission_group(row):\n",
    "    for j in admission_grouping_dict.keys():\n",
    "        if row['admission_type_id'] in admission_grouping_dict[j]:\n",
    "            return j\n",
    "\n",
    "new_col = df.apply(admission_group, axis=1)\n",
    "df.insert(loc = len(df.columns)-1, column = 'admission_type_id_new', value=new_col)\n",
    "df.drop(columns=['admission_type_id'], inplace=True)\n",
    "\n",
    "new_col = test_df.apply(admission_group, axis=1)\n",
    "test_df.insert(loc = len(test_df.columns), column = 'admission_type_id_new', value=new_col)\n",
    "test_df.drop(columns=['admission_type_id'], inplace=True)\n",
    "\n",
    "temp_df = df.groupby(by=['admission_type_id_new'])\n",
    "temp_df.count()"
   ]
  },
  {
   "cell_type": "code",
   "execution_count": null,
   "metadata": {},
   "outputs": [],
   "source": [
    "discharge_grouping_dict = {\n",
    "    1 : [11,19,20,21],\n",
    "    2 : [18,25,26],\n",
    "    3 : [7],\n",
    "    4 : [1,6,8,13,14],\n",
    "    5 : [2,3,4,5,10,16,22,23,24,30,27,28,29],\n",
    "    6 : [9,12,15,17]\n",
    "}\n",
    "\n",
    "def discharge_group(row):\n",
    "    for j in discharge_grouping_dict.keys():\n",
    "        if row['discharge_disposition_id'] in discharge_grouping_dict[j]:\n",
    "            return j\n",
    "        \n",
    "new_col = df.apply(discharge_group, axis=1)\n",
    "df.insert(loc = len(df.columns)-1, column = 'discharge_type_id_new', value=new_col)\n",
    "df.drop(columns=['discharge_disposition_id'], inplace=True)\n",
    "\n",
    "new_col = test_df.apply(discharge_group, axis=1)\n",
    "test_df.insert(loc = len(test_df.columns), column = 'discharge_type_id_new', value=new_col)\n",
    "test_df.drop(columns=['discharge_disposition_id'], inplace=True)\n",
    "\n",
    "temp_df = df.groupby(by=['discharge_type_id_new'])\n",
    "temp_df.count()"
   ]
  },
  {
   "cell_type": "code",
   "execution_count": null,
   "metadata": {},
   "outputs": [],
   "source": [
    "source_grouping_dict = {\n",
    "    1 : [4,5,6,10,18,22,25,26],\n",
    "    2 : [1,2,3],\n",
    "    3 : [11,12,13,14],\n",
    "    4 : [9,15,17,20,21],\n",
    "    5 : [7],\n",
    "    6 : [8]\n",
    "}\n",
    "\n",
    "def source_group(row):\n",
    "    for j in source_grouping_dict.keys():\n",
    "        if row['admission_source_id'] in source_grouping_dict[j]:\n",
    "            return j\n",
    "\n",
    "new_col = df.apply(source_group, axis=1)\n",
    "df.insert(loc = len(df.columns)-1, column = 'admission_source_id_new', value=new_col)\n",
    "df.drop(columns=['admission_source_id'], inplace=True)\n",
    "\n",
    "new_col = test_df.apply(source_group, axis=1)\n",
    "test_df.insert(loc = len(test_df.columns), column = 'admission_source_id_new', value=new_col)\n",
    "test_df.drop(columns=['admission_source_id'], inplace=True)\n",
    "\n",
    "temp_df = df.groupby(by=['admission_source_id_new'])\n",
    "temp_df.count()"
   ]
  },
  {
   "cell_type": "code",
   "execution_count": null,
   "metadata": {},
   "outputs": [],
   "source": [
    "for col in df.loc[:,'metformin':'diabetesMed']:\n",
    "    med_groups = df.groupby(by=[col])\n",
    "    print(med_groups.count().iloc[:, 0])"
   ]
  },
  {
   "cell_type": "code",
   "execution_count": null,
   "metadata": {},
   "outputs": [],
   "source": [
    "df.drop(columns=['chlorpropamide', 'tolbutamide', 'miglitol', 'acarbose', 'tolazamide', 'acetohexamide', 'troglitazone', 'examide', 'citoglipton', 'glipizide-metformin', 'glimepiride-pioglitazone', 'metformin-rosiglitazone', 'metformin-pioglitazone', 'glyburide-metformin'], inplace=True)\n",
    "test_df.drop(columns=['chlorpropamide', 'tolbutamide', 'miglitol', 'acarbose', 'tolazamide', 'acetohexamide', 'troglitazone', 'examide', 'citoglipton', 'glipizide-metformin', 'glimepiride-pioglitazone', 'metformin-rosiglitazone', 'metformin-pioglitazone', 'glyburide-metformin'], inplace=True)\n",
    "df.columns.size"
   ]
  },
  {
   "cell_type": "code",
   "execution_count": null,
   "metadata": {},
   "outputs": [],
   "source": [
    "def count_changes(row):\n",
    "    count =0\n",
    "    for col in ['metformin','repaglinide','nateglinide','glimepiride','glipizide','glyburide','pioglitazone','rosiglitazone','insulin']:\n",
    "        if(row[col]=='Up' or row[col]=='Down'):\n",
    "            count+=1\n",
    "    if(row['change']=='change'):count+=1\n",
    "    return count\n",
    "\n",
    "new_col = df.apply(count_changes, axis=1)\n",
    "df.insert(loc = len(df.columns)-1, column = 'changes', value=new_col)\n",
    "\n",
    "new_col = test_df.apply(count_changes, axis=1)\n",
    "test_df.insert(loc = len(test_df.columns), column = 'changes', value=new_col)\n"
   ]
  },
  {
   "cell_type": "code",
   "execution_count": null,
   "metadata": {},
   "outputs": [],
   "source": [
    "df.drop(columns=['metformin','repaglinide','nateglinide','glimepiride','glipizide','glyburide','pioglitazone','rosiglitazone','insulin','change'], inplace=True)\n",
    "test_df.drop(columns=['metformin','repaglinide','nateglinide','glimepiride','glipizide','glyburide','pioglitazone','rosiglitazone','insulin','change'], inplace=True)\n",
    "\n",
    "df.columns.size\n"
   ]
  },
  {
   "cell_type": "code",
   "execution_count": null,
   "metadata": {},
   "outputs": [],
   "source": [
    "plt.figure(figsize=(20,20))\n",
    "corr = df.loc[:, [\"time_in_hospital\",\"num_lab_procedures\",\"num_procedures\",\"num_medications\",\"number_outpatient\",\"number_emergency\",\"number_inpatient\",\"number_diagnoses\",\"changes\", \"readmission_id\"]].corr()\n",
    "sns.heatmap(corr,annot=True)"
   ]
  },
  {
   "cell_type": "code",
   "execution_count": null,
   "metadata": {},
   "outputs": [],
   "source": [
    "# for col in df.loc[:,'metformin':'diabetesMed']:\n",
    "#     df_grouped = df.groupby(by=col)['readmission_id'].value_counts(normalize=True).unstack('readmission_id')\n",
    "#     df_grouped.plot.bar(stacked=True)"
   ]
  },
  {
   "cell_type": "code",
   "execution_count": null,
   "metadata": {},
   "outputs": [],
   "source": [
    "df_grouped = df.groupby(by=['race'])['readmission_id'].value_counts(normalize=True).unstack('readmission_id')\n",
    "df_grouped.plot.bar(stacked=True)"
   ]
  },
  {
   "cell_type": "code",
   "execution_count": null,
   "metadata": {},
   "outputs": [],
   "source": [
    "df_grouped = df.groupby(by=['gender'])['readmission_id'].value_counts(normalize=True).unstack('readmission_id')\n",
    "df_grouped.plot.bar(stacked=True)"
   ]
  },
  {
   "cell_type": "code",
   "execution_count": null,
   "metadata": {},
   "outputs": [],
   "source": [
    "df_grouped = df.groupby(by=['age'])['readmission_id'].value_counts(normalize=True).unstack('readmission_id')\n",
    "df_grouped.plot.bar(stacked=True)"
   ]
  },
  {
   "cell_type": "code",
   "execution_count": null,
   "metadata": {},
   "outputs": [],
   "source": [
    "df.columns"
   ]
  },
  {
   "cell_type": "code",
   "execution_count": null,
   "metadata": {},
   "outputs": [],
   "source": [
    "test_df.columns"
   ]
  },
  {
   "cell_type": "code",
   "execution_count": null,
   "metadata": {},
   "outputs": [],
   "source": [
    "input = df.loc[:, \"race\":\"changes\"]\n",
    "labels = df.loc[:, \"readmission_id\"]\n",
    "input.columns"
   ]
  },
  {
   "cell_type": "code",
   "execution_count": null,
   "metadata": {},
   "outputs": [],
   "source": [
    "input_encoded = pd.get_dummies(input, columns=['race', 'gender', 'age',\n",
    "       'medical_specialty', 'max_glu_serum', 'A1Cresult', 'diabetesMed', 'Number_of_Diagnosis',\n",
    "       'admission_type_id_new', 'discharge_type_id_new', 'admission_source_id_new'])\n",
    "\n",
    "print(input_encoded.columns)"
   ]
  },
  {
   "cell_type": "code",
   "execution_count": null,
   "metadata": {},
   "outputs": [],
   "source": [
    "test_encoded = pd.get_dummies(test_df, columns=['race', 'gender', 'age',\n",
    "       'medical_specialty', 'max_glu_serum', 'A1Cresult', 'diabetesMed', 'Number_of_Diagnosis',\n",
    "       'admission_type_id_new', 'discharge_type_id_new', 'admission_source_id_new'])\n",
    "\n",
    "print(test_encoded.columns)"
   ]
  },
  {
   "cell_type": "code",
   "execution_count": null,
   "metadata": {},
   "outputs": [],
   "source": [
    "for i in input_encoded.columns:\n",
    "    if i not in test_encoded.columns:\n",
    "       test_encoded[i] = 0\n",
    "\n",
    "for i in test_encoded.columns:\n",
    "    if i not in input_encoded.columns:\n",
    "       test_encoded.drop(columns=[i], inplace=True)\n",
    "\n",
    "input_encoded.sort_index(axis=1, inplace=True)\n",
    "test_encoded.sort_index(axis=1, inplace=True)"
   ]
  },
  {
   "cell_type": "code",
   "execution_count": null,
   "metadata": {},
   "outputs": [],
   "source": [
    "print(input_encoded.columns)\n",
    "print(test_encoded.columns)"
   ]
  },
  {
   "cell_type": "code",
   "execution_count": null,
   "metadata": {},
   "outputs": [],
   "source": [
    "input_encoded1 = input_encoded.loc[:, :]"
   ]
  },
  {
   "cell_type": "code",
   "execution_count": null,
   "metadata": {},
   "outputs": [],
   "source": [
    "scaler = StandardScaler()\n",
    "input_encoded1[['time_in_hospital', 'num_lab_procedures', 'num_procedures', 'num_medications', 'number_outpatient', 'number_emergency', 'number_inpatient', 'number_diagnoses']] = scaler.fit_transform(input_encoded1[['time_in_hospital', 'num_lab_procedures', 'num_procedures', 'num_medications', 'number_outpatient', 'number_emergency', 'number_inpatient', 'number_diagnoses']].to_numpy())"
   ]
  },
  {
   "cell_type": "code",
   "execution_count": null,
   "metadata": {},
   "outputs": [],
   "source": [
    "X_train,X_test,Y_train,Y_test = train_test_split(input_encoded, labels, test_size=0.25, random_state=42)"
   ]
  },
  {
   "cell_type": "code",
   "execution_count": null,
   "metadata": {},
   "outputs": [],
   "source": [
    "lr = LogisticRegression(random_state=42, multi_class=\"multinomial\")\n",
    "lr.fit(X_train,Y_train)\n",
    "\n",
    "y_pred = lr.predict(X_test)\n",
    "print(accuracy_score(y_pred, Y_test))"
   ]
  },
  {
   "cell_type": "code",
   "execution_count": null,
   "metadata": {},
   "outputs": [],
   "source": [
    "nb = GaussianNB()\n",
    "nb.fit(X_train,Y_train)\n",
    "\n",
    "y_pred = nb.predict(X_test)\n",
    "print(accuracy_score(y_pred, Y_test))"
   ]
  },
  {
   "cell_type": "code",
   "execution_count": null,
   "metadata": {},
   "outputs": [],
   "source": [
    "tree = DecisionTreeClassifier(max_depth=20,random_state=42)\n",
    "tree.fit(X_train,Y_train)\n",
    "\n",
    "y_pred = tree.predict(X_test)\n",
    "print(accuracy_score(y_pred, Y_test))"
   ]
  },
  {
   "cell_type": "code",
   "execution_count": null,
   "metadata": {},
   "outputs": [],
   "source": [
    "rf = RandomForestClassifier(n_estimators= 100,max_depth=20,random_state=42)\n",
    "rf.fit(X_train,Y_train)\n",
    "\n",
    "y_pred = rf.predict(X_test)\n",
    "print(accuracy_score(y_pred, Y_test))"
   ]
  },
  {
   "cell_type": "code",
   "execution_count": null,
   "metadata": {},
   "outputs": [],
   "source": [
    "gbc = GradientBoostingClassifier(n_estimators=100,learning_rate=0.1,max_depth=4,random_state=42)\n",
    "gbc.fit(X_train,Y_train)\n",
    "\n",
    "y_pred = gbc.predict(X_test)\n",
    "print(accuracy_score(y_pred, Y_test))"
   ]
  },
  {
   "cell_type": "code",
   "execution_count": null,
   "metadata": {},
   "outputs": [],
   "source": [
    "test_Y = gbc.predict(test_encoded)\n",
    "\n",
    "df_output = pd.read_csv(\"./canadian-hospital-re-admittance-challenge/sample_submission.csv\")\n",
    "df_output[\"readmission_id\"] = test_Y\n",
    "df_output.to_csv(\"submission.csv\", index=False)"
   ]
  }
 ],
 "metadata": {
  "kernelspec": {
   "display_name": "base",
   "language": "python",
   "name": "python3"
  },
  "language_info": {
   "codemirror_mode": {
    "name": "ipython",
    "version": 3
   },
   "file_extension": ".py",
   "mimetype": "text/x-python",
   "name": "python",
   "nbconvert_exporter": "python",
   "pygments_lexer": "ipython3",
   "version": "3.10.9"
  }
 },
 "nbformat": 4,
 "nbformat_minor": 2
}
