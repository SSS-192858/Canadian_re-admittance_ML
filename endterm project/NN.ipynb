{
 "cells": [
  {
   "cell_type": "code",
   "execution_count": 294,
   "metadata": {},
   "outputs": [],
   "source": [
    "import numpy as np\n",
    "import pandas as pd\n",
    "import matplotlib.pyplot as plt\n",
    "import seaborn as sns\n",
    "from sklearn.model_selection import train_test_split\n",
    "from sklearn.metrics import accuracy_score,f1_score\n",
    "from sklearn.preprocessing import LabelEncoder\n",
    "from sklearn.preprocessing import OneHotEncoder\n",
    "from sklearn.metrics import accuracy_score\n",
    "from pprint import pprint\n",
    "\n",
    "import torch\n",
    "import torch.nn as nn\n",
    "from torch.utils.data import Dataset, DataLoader\n",
    "from tqdm import tqdm\n",
    "import optuna\n",
    "\n",
    "import gc\n",
    "import time\n",
    "\n",
    "device = torch.device('cuda' if torch.cuda.is_available() else 'cpu')"
   ]
  },
  {
   "cell_type": "code",
   "execution_count": 295,
   "metadata": {},
   "outputs": [],
   "source": [
    "df = pd.read_csv(\"./processed_data.csv\")"
   ]
  },
  {
   "cell_type": "code",
   "execution_count": 296,
   "metadata": {},
   "outputs": [],
   "source": [
    "X = df.iloc[:, :-1]\n",
    "Y = df.iloc[:, -1]\n",
    "\n",
    "# for col in X.columns:\n",
    "#     if (col == 'readmission_id'):\n",
    "#         print(col)"
   ]
  },
  {
   "cell_type": "code",
   "execution_count": 297,
   "metadata": {},
   "outputs": [],
   "source": [
    "class ANN(nn.Module):\n",
    "    def __init__(\n",
    "        self,\n",
    "        in_dim: int,\n",
    "        hidden_dim_1: int,\n",
    "        hidden_dim_2: int,\n",
    "        hidden_dim_3: int,\n",
    "        hidden_dim_4: int,\n",
    "        n_classes:int = 3,\n",
    "        dropout: float = 0.3\n",
    "    ):\n",
    "        super().__init__()\n",
    "\n",
    "        self.layer1 = nn.Sequential(\n",
    "            nn.Linear(in_features=in_dim, out_features=hidden_dim_1),\n",
    "            nn.ReLU(),\n",
    "            nn.BatchNorm1d(hidden_dim_1),\n",
    "            nn.Dropout(dropout),\n",
    "        )\n",
    "        self.layer2 = nn.Sequential(\n",
    "            nn.Linear(in_features=hidden_dim_1, out_features=hidden_dim_2),\n",
    "            nn.ReLU(),\n",
    "            nn.BatchNorm1d(hidden_dim_2),\n",
    "            nn.Dropout(dropout),\n",
    "        )\n",
    "        self.layer3 = nn.Sequential(\n",
    "            nn.Linear(in_features=hidden_dim_2, out_features=hidden_dim_3),\n",
    "            nn.ReLU(),\n",
    "            nn.BatchNorm1d(hidden_dim_3),\n",
    "            nn.Dropout(dropout),\n",
    "        )\n",
    "        self.layer4 = nn.Sequential(\n",
    "            nn.Linear(in_features=hidden_dim_3, out_features=hidden_dim_4),\n",
    "            nn.ReLU(),\n",
    "            nn.BatchNorm1d(hidden_dim_4),\n",
    "            nn.Dropout(dropout),\n",
    "        )\n",
    "        self.output_layer = nn.Linear(in_features=hidden_dim_4, out_features=n_classes)\n",
    "\n",
    "    def forward(self, x: torch.Tensor) -> torch.Tensor:\n",
    "        \"\"\"\n",
    "            Args:\n",
    "                x (torch.Tensor): (batch_size, in_dim) the input\n",
    "\n",
    "            Output:\n",
    "                (torch.Tensor): (batch_size, n_classes) the output\n",
    "        \"\"\"\n",
    "        x = self.layer1(x)\n",
    "        x = self.layer2(x)\n",
    "        x = self.layer3(x)\n",
    "        x = self.layer4(x)\n",
    "        x = self.output_layer(x)\n",
    "\n",
    "        return x"
   ]
  },
  {
   "cell_type": "code",
   "execution_count": 298,
   "metadata": {},
   "outputs": [],
   "source": [
    "class Data(Dataset):\n",
    "    def __init__(\n",
    "        self,\n",
    "        data\n",
    "    ):\n",
    "        n = data.shape[1]\n",
    "        self.features = torch.tensor(data.iloc[:, 0:n-1].values.astype(np.int64), dtype=torch.float32)\n",
    "        self.labels = torch.tensor(data.iloc[:, -1].values.astype(np.int64), dtype=torch.int64)\n",
    "    # def _build(self):\n",
    "        # scaler = MinMaxScaler(feature_range=())\n",
    "        # scaler = StandardScaler()\n",
    "\n",
    "    def __getitem__(self, index):\n",
    "        return self.features[index], self.labels[index]\n",
    "\n",
    "    def __len__(self):\n",
    "        return len(self.features)"
   ]
  },
  {
   "cell_type": "code",
   "execution_count": 299,
   "metadata": {},
   "outputs": [],
   "source": [
    "X_train, X_test, Y_train, Y_test = train_test_split(X, Y, test_size=0.2, random_state=0, stratify=Y)\n",
    "X_train = pd.DataFrame(X_train)\n",
    "Y_train = pd.DataFrame(Y_train)\n",
    "X_test = pd.DataFrame(X_test)\n",
    "Y_test = pd.DataFrame(Y_test)\n",
    "\n",
    "X_train = pd.concat([X_train, Y_train], axis=1)\n",
    "X_test = pd.concat([X_test, Y_test], axis=1)"
   ]
  },
  {
   "cell_type": "code",
   "execution_count": 300,
   "metadata": {},
   "outputs": [
    {
     "name": "stdout",
     "output_type": "stream",
     "text": [
      "admission_source_id_new_1     bool\n",
      "admission_source_id_new_2     bool\n",
      "admission_source_id_new_3     bool\n",
      "admission_source_id_new_4     bool\n",
      "admission_source_id_new_5     bool\n",
      "                             ...  \n",
      "number_outpatient            int64\n",
      "patient_id_new               int64\n",
      "service_utilization          int64\n",
      "time_in_hospital             int64\n",
      "readmission_id               int64\n",
      "Length: 137, dtype: object\n"
     ]
    }
   ],
   "source": [
    "print(X_train.dtypes)"
   ]
  },
  {
   "cell_type": "code",
   "execution_count": 301,
   "metadata": {},
   "outputs": [],
   "source": [
    "train_dataset = Data(data=X_train)\n",
    "test_dataset = Data(data=X_test)"
   ]
  },
  {
   "cell_type": "code",
   "execution_count": 302,
   "metadata": {},
   "outputs": [],
   "source": [
    "train_batchsize = 512\n",
    "val_batchsize = 512"
   ]
  },
  {
   "cell_type": "code",
   "execution_count": 303,
   "metadata": {},
   "outputs": [],
   "source": [
    "train_dataloader = DataLoader(dataset=train_dataset, batch_size=train_batchsize, shuffle=True)\n",
    "test_dataloader = DataLoader(dataset=test_dataset, batch_size=val_batchsize, shuffle=True)"
   ]
  },
  {
   "cell_type": "code",
   "execution_count": 304,
   "metadata": {},
   "outputs": [],
   "source": [
    "n_epochs = 5"
   ]
  },
  {
   "cell_type": "code",
   "execution_count": 305,
   "metadata": {},
   "outputs": [
    {
     "data": {
      "text/plain": [
       "136"
      ]
     },
     "execution_count": 305,
     "metadata": {},
     "output_type": "execute_result"
    }
   ],
   "source": [
    "in_dim = X.shape[1]\n",
    "in_dim"
   ]
  },
  {
   "cell_type": "code",
   "execution_count": 306,
   "metadata": {},
   "outputs": [],
   "source": [
    "model = ANN(\n",
    "    in_dim=in_dim,\n",
    "    hidden_dim_1=in_dim//2,\n",
    "    hidden_dim_2=in_dim//4,\n",
    "    hidden_dim_3=in_dim//8,\n",
    "    hidden_dim_4=3\n",
    ").to(device)"
   ]
  },
  {
   "cell_type": "code",
   "execution_count": 307,
   "metadata": {},
   "outputs": [],
   "source": [
    "lr = 1e-3\n",
    "optimiser = torch.optim.Adam(model.parameters(), lr=lr)\n",
    "\n",
    "loss_fn = torch.nn.CrossEntropyLoss()"
   ]
  },
  {
   "cell_type": "code",
   "execution_count": 308,
   "metadata": {},
   "outputs": [],
   "source": [
    "sanity_check=False"
   ]
  },
  {
   "cell_type": "code",
   "execution_count": 309,
   "metadata": {},
   "outputs": [],
   "source": [
    "def train_epoch(\n",
    "    model,\n",
    "    dataloader,\n",
    "    optimiser\n",
    "):\n",
    "    model.train()\n",
    "\n",
    "    for batch in tqdm(dataloader):\n",
    "        x, y = batch[0], batch[1]\n",
    "\n",
    "        output = model(x)\n",
    "        output = nn.Softmax(dim=-1)(output)\n",
    "        loss = loss_fn(output, y)\n",
    "\n",
    "        optimiser.zero_grad()\n",
    "        loss.backward()\n",
    "        optimiser.step()\n",
    "\n",
    "        if sanity_check:\n",
    "            break\n",
    "\n",
    "def validate(\n",
    "    model,\n",
    "    dataloader\n",
    "):\n",
    "    model.eval()\n",
    "    total_loss = 0\n",
    "    predictions = []\n",
    "    truths = []\n",
    "\n",
    "    with torch.no_grad():\n",
    "        for batch in tqdm(dataloader):\n",
    "            x, y = batch[0], batch[1]\n",
    "\n",
    "            output = model(x)\n",
    "            output = nn.Softmax(dim=-1)(output)\n",
    "            loss = loss_fn(output, y)\n",
    "            total_loss += loss.detach().cpu().item()/len(dataloader)\n",
    "\n",
    "            preds = torch.argmax(output, dim=-1)\n",
    "            predictions.extend(preds.cpu())\n",
    "            truths.extend(y.cpu())\n",
    "\n",
    "            if sanity_check:\n",
    "                break\n",
    "\n",
    "    acc = accuracy_score(y_true=truths, y_pred=predictions)\n",
    "    f1 = f1_score(y_true=truths, y_pred=predictions, average='macro')\n",
    "\n",
    "    return total_loss, acc, f1"
   ]
  },
  {
   "cell_type": "code",
   "execution_count": 310,
   "metadata": {},
   "outputs": [],
   "source": [
    "def train_model(\n",
    "    model,\n",
    "    train_dataloader,\n",
    "    test_dataloader,\n",
    "    optimiser\n",
    "):\n",
    "    for epoch in range(1, n_epochs+1):\n",
    "        start_time = time.time()\n",
    "\n",
    "        print(f\"========= EPOCH {epoch} STARTED =========\")\n",
    "        train_epoch(model=model, dataloader=train_dataloader, optimiser=optimiser)\n",
    "\n",
    "        print(f\"========= TRAIN EVALUATION STARTED =========\")\n",
    "        train_val_op = validate(model=model, dataloader=train_dataloader)\n",
    "\n",
    "        print(f\"========= TEST EVALUATION STARTED =========\")\n",
    "        test_val_op = validate(model=model, dataloader=test_dataloader)\n",
    "\n",
    "        print(f\"END OF {epoch} EPOCH\")\n",
    "        print(f\"| Time taken: {time.time() - start_time: 7.3f} |\")\n",
    "        print(f\"| Train Loss: {train_val_op[0]: 7.3f} | Train acc: {train_val_op[1]: 1.5f} | Train f1: {train_val_op[2]: 1.5f} |\")\n",
    "        print(f\"| Test Loss: {test_val_op[0]: 7.3f}  | Test acc: {test_val_op[1]: 1.5f}  | Test f1: {test_val_op[2]: 1.5f}  |\")\n",
    "\n",
    "        if sanity_check:\n",
    "            break"
   ]
  },
  {
   "cell_type": "code",
   "execution_count": 311,
   "metadata": {},
   "outputs": [
    {
     "name": "stdout",
     "output_type": "stream",
     "text": [
      "========= EPOCH 1 STARTED =========\n"
     ]
    },
    {
     "name": "stderr",
     "output_type": "stream",
     "text": [
      "100%|██████████| 112/112 [00:01<00:00, 70.20it/s]\n"
     ]
    },
    {
     "name": "stdout",
     "output_type": "stream",
     "text": [
      "========= TRAIN EVALUATION STARTED =========\n"
     ]
    },
    {
     "name": "stderr",
     "output_type": "stream",
     "text": [
      "100%|██████████| 112/112 [00:00<00:00, 119.64it/s]\n"
     ]
    },
    {
     "name": "stdout",
     "output_type": "stream",
     "text": [
      "========= TEST EVALUATION STARTED =========\n"
     ]
    },
    {
     "name": "stderr",
     "output_type": "stream",
     "text": [
      "100%|██████████| 28/28 [00:00<00:00, 120.19it/s]\n"
     ]
    },
    {
     "name": "stdout",
     "output_type": "stream",
     "text": [
      "END OF 1 EPOCH\n",
      "| Time taken:   9.857 |\n",
      "| Train Loss:   0.972 | Train acc:  0.63045 | Train f1:  0.44329 |\n",
      "| Test Loss:   0.972  | Test acc:  0.63104  | Test f1:  0.44373  |\n",
      "========= EPOCH 2 STARTED =========\n"
     ]
    },
    {
     "name": "stderr",
     "output_type": "stream",
     "text": [
      "100%|██████████| 112/112 [00:01<00:00, 94.68it/s]\n"
     ]
    },
    {
     "name": "stdout",
     "output_type": "stream",
     "text": [
      "========= TRAIN EVALUATION STARTED =========\n"
     ]
    },
    {
     "name": "stderr",
     "output_type": "stream",
     "text": [
      "100%|██████████| 112/112 [00:01<00:00, 91.84it/s]\n"
     ]
    },
    {
     "name": "stdout",
     "output_type": "stream",
     "text": [
      "========= TEST EVALUATION STARTED =========\n"
     ]
    },
    {
     "name": "stderr",
     "output_type": "stream",
     "text": [
      "100%|██████████| 28/28 [00:00<00:00, 162.26it/s]\n"
     ]
    },
    {
     "name": "stdout",
     "output_type": "stream",
     "text": [
      "END OF 2 EPOCH\n",
      "| Time taken:   9.421 |\n",
      "| Train Loss:   0.871 | Train acc:  0.69423 | Train f1:  0.46956 |\n",
      "| Test Loss:   0.873  | Test acc:  0.69111  | Test f1:  0.46617  |\n",
      "========= EPOCH 3 STARTED =========\n"
     ]
    },
    {
     "name": "stderr",
     "output_type": "stream",
     "text": [
      "100%|██████████| 112/112 [00:01<00:00, 82.27it/s] \n"
     ]
    },
    {
     "name": "stdout",
     "output_type": "stream",
     "text": [
      "========= TRAIN EVALUATION STARTED =========\n"
     ]
    },
    {
     "name": "stderr",
     "output_type": "stream",
     "text": [
      "100%|██████████| 112/112 [00:00<00:00, 139.61it/s]\n"
     ]
    },
    {
     "name": "stdout",
     "output_type": "stream",
     "text": [
      "========= TEST EVALUATION STARTED =========\n"
     ]
    },
    {
     "name": "stderr",
     "output_type": "stream",
     "text": [
      "100%|██████████| 28/28 [00:00<00:00, 143.98it/s]\n"
     ]
    },
    {
     "name": "stdout",
     "output_type": "stream",
     "text": [
      "END OF 3 EPOCH\n",
      "| Time taken:   9.543 |\n",
      "| Train Loss:   0.847 | Train acc:  0.71464 | Train f1:  0.48601 |\n",
      "| Test Loss:   0.851  | Test acc:  0.70957  | Test f1:  0.48128  |\n",
      "========= EPOCH 4 STARTED =========\n"
     ]
    },
    {
     "name": "stderr",
     "output_type": "stream",
     "text": [
      "100%|██████████| 112/112 [00:01<00:00, 97.20it/s]\n"
     ]
    },
    {
     "name": "stdout",
     "output_type": "stream",
     "text": [
      "========= TRAIN EVALUATION STARTED =========\n"
     ]
    },
    {
     "name": "stderr",
     "output_type": "stream",
     "text": [
      "100%|██████████| 112/112 [00:00<00:00, 145.91it/s]\n"
     ]
    },
    {
     "name": "stdout",
     "output_type": "stream",
     "text": [
      "========= TEST EVALUATION STARTED =========\n"
     ]
    },
    {
     "name": "stderr",
     "output_type": "stream",
     "text": [
      "100%|██████████| 28/28 [00:00<00:00, 148.84it/s]\n"
     ]
    },
    {
     "name": "stdout",
     "output_type": "stream",
     "text": [
      "END OF 4 EPOCH\n",
      "| Time taken:   9.377 |\n",
      "| Train Loss:   0.840 | Train acc:  0.71555 | Train f1:  0.48640 |\n",
      "| Test Loss:   0.845  | Test acc:  0.71077  | Test f1:  0.48200  |\n",
      "========= EPOCH 5 STARTED =========\n"
     ]
    },
    {
     "name": "stderr",
     "output_type": "stream",
     "text": [
      "100%|██████████| 112/112 [00:01<00:00, 86.52it/s]\n"
     ]
    },
    {
     "name": "stdout",
     "output_type": "stream",
     "text": [
      "========= TRAIN EVALUATION STARTED =========\n"
     ]
    },
    {
     "name": "stderr",
     "output_type": "stream",
     "text": [
      "100%|██████████| 112/112 [00:01<00:00, 100.58it/s]\n"
     ]
    },
    {
     "name": "stdout",
     "output_type": "stream",
     "text": [
      "========= TEST EVALUATION STARTED =========\n"
     ]
    },
    {
     "name": "stderr",
     "output_type": "stream",
     "text": [
      "100%|██████████| 28/28 [00:00<00:00, 131.90it/s]\n"
     ]
    },
    {
     "name": "stdout",
     "output_type": "stream",
     "text": [
      "END OF 5 EPOCH\n",
      "| Time taken:   9.230 |\n",
      "| Train Loss:   0.839 | Train acc:  0.71591 | Train f1:  0.48673 |\n",
      "| Test Loss:   0.845  | Test acc:  0.71105  | Test f1:  0.48229  |\n"
     ]
    }
   ],
   "source": [
    "train_model(\n",
    "    model=model,\n",
    "    train_dataloader=train_dataloader,\n",
    "    test_dataloader=test_dataloader,\n",
    "    optimiser=optimiser\n",
    ")"
   ]
  },
  {
   "cell_type": "code",
   "execution_count": 312,
   "metadata": {},
   "outputs": [
    {
     "name": "stdout",
     "output_type": "stream",
     "text": [
      "tensor([[-2.1971, -2.7765,  3.0607],\n",
      "        [ 0.4649,  3.0798, -2.5471],\n",
      "        [-2.2170, -2.8264,  3.1072],\n",
      "        ...,\n",
      "        [ 0.9484,  3.9823, -3.2686],\n",
      "        [ 0.1518,  2.4330, -1.9150],\n",
      "        [-2.0864, -2.5203,  2.8366]], grad_fn=<AddmmBackward0>)\n"
     ]
    }
   ],
   "source": [
    "test_data = torch.tensor(X_test.iloc[:, 0:-1].values.astype(np.int64), dtype=torch.float32)\n",
    "print(model.forward(test_data))"
   ]
  },
  {
   "cell_type": "code",
   "execution_count": 313,
   "metadata": {},
   "outputs": [
    {
     "data": {
      "text/plain": [
       "tensor([[5.1649e-03, 2.8935e-03, 9.9194e-01],\n",
       "        [6.7952e-02, 9.2871e-01, 3.3428e-03],\n",
       "        [4.8360e-03, 2.6290e-03, 9.9253e-01],\n",
       "        ...,\n",
       "        [4.5888e-02, 9.5344e-01, 6.7651e-04],\n",
       "        [9.1613e-02, 8.9679e-01, 1.1598e-02],\n",
       "        [7.1908e-03, 4.6597e-03, 9.8815e-01]], grad_fn=<SoftmaxBackward0>)"
      ]
     },
     "execution_count": 313,
     "metadata": {},
     "output_type": "execute_result"
    }
   ],
   "source": [
    "output_probs = nn.Softmax(dim=-1)(model(test_data))\n",
    "output_probs"
   ]
  },
  {
   "cell_type": "code",
   "execution_count": 314,
   "metadata": {},
   "outputs": [
    {
     "name": "stdout",
     "output_type": "stream",
     "text": [
      "[2 1 2 ... 1 1 2]\n"
     ]
    }
   ],
   "source": [
    "preds = torch.max(output_probs.data, 1)\n",
    "# print(preds)\n",
    "vals = preds.indices.numpy()\n",
    "print(vals)"
   ]
  },
  {
   "cell_type": "code",
   "execution_count": 315,
   "metadata": {},
   "outputs": [
    {
     "data": {
      "text/plain": [
       "array([1, 1, 1, ..., 1, 1, 0])"
      ]
     },
     "execution_count": 315,
     "metadata": {},
     "output_type": "execute_result"
    }
   ],
   "source": [
    "actual = Y_test['readmission_id'].to_numpy()\n",
    "actual"
   ]
  },
  {
   "cell_type": "code",
   "execution_count": 316,
   "metadata": {},
   "outputs": [
    {
     "name": "stdout",
     "output_type": "stream",
     "text": [
      "0.7110471645143178\n"
     ]
    }
   ],
   "source": [
    "print(accuracy_score(vals, actual))"
   ]
  },
  {
   "cell_type": "code",
   "execution_count": 317,
   "metadata": {},
   "outputs": [],
   "source": [
    "def objective(trial):\n",
    "    in_dim = X.shape[1]\n",
    "    hidden_dim_1 = trial.suggest_int('hidden_dim_1', in_dim // 4, in_dim // 2)\n",
    "    hidden_dim_2 = trial.suggest_int('hidden_dim_2', in_dim // 8, in_dim // 4)\n",
    "    hidden_dim_3 = trial.suggest_int('hidden_dim_3', in_dim // 16, in_dim // 8)\n",
    "    dropout = trial.suggest_float('dropout', 0.2, 0.5)\n",
    "    lr = trial.suggest_float('lr', 1e-5, 1e-2, log=True)  # Logarithmic scale for lr\n",
    "\n",
    "    model = ANN(\n",
    "        in_dim=in_dim,\n",
    "        hidden_dim_1=hidden_dim_1,\n",
    "        hidden_dim_2=hidden_dim_2,\n",
    "        hidden_dim_3=hidden_dim_3,\n",
    "        hidden_dim_4=3,\n",
    "        dropout=dropout\n",
    "    ).to(device)\n",
    "\n",
    "    optimiser = torch.optim.Adam(model.parameters(), lr=lr)\n",
    "\n",
    "    train_model(model, train_dataloader, test_dataloader, optimiser)\n",
    "\n",
    "    _, acc, _ = validate(model=model, dataloader=test_dataloader)\n",
    "    return acc\n"
   ]
  },
  {
   "cell_type": "code",
   "execution_count": 318,
   "metadata": {},
   "outputs": [],
   "source": [
    "def objective1(trial):\n",
    "    in_dim = X.shape[1]\n",
    "    num_layers = trial.suggest_int('num_layers', 2, 5)  # Number of layers to optimize\n",
    "    layer_units = [in_dim] + [trial.suggest_int(f'layer_units_{i}', in_dim // 2**(i+1), in_dim // 2**i) for i in range(num_layers)]\n",
    "    dropout = trial.suggest_float('dropout', 0.2, 0.5)\n",
    "    lr = trial.suggest_float('lr', 1e-5, 1e-2, log=True)\n",
    "\n",
    "    layers = []\n",
    "    for i in range(num_layers):\n",
    "        layers.append(nn.Linear(layer_units[i], layer_units[i + 1]))\n",
    "        layers.append(nn.ReLU())\n",
    "        layers.append(nn.BatchNorm1d(layer_units[i + 1]))\n",
    "        layers.append(nn.Dropout(dropout))\n",
    "\n",
    "    layers.append(nn.Linear(layer_units[-1], 3))  # Assuming 3 output classes\n",
    "    model = nn.Sequential(*layers).to(device)\n",
    "\n",
    "    optimiser = torch.optim.Adam(model.parameters(), lr=lr)\n",
    "\n",
    "    train_model(model, train_dataloader, test_dataloader, optimiser)\n",
    "\n",
    "    _, acc, _ = validate(model=model, dataloader=test_dataloader)\n",
    "    return acc\n"
   ]
  },
  {
   "cell_type": "code",
   "execution_count": 319,
   "metadata": {},
   "outputs": [
    {
     "name": "stderr",
     "output_type": "stream",
     "text": [
      "[I 2023-12-15 17:41:16,214] A new study created in memory with name: no-name-79019a2e-93bd-42e5-ab45-d835f48bf10b\n"
     ]
    },
    {
     "name": "stdout",
     "output_type": "stream",
     "text": [
      "========= EPOCH 1 STARTED =========\n"
     ]
    },
    {
     "name": "stderr",
     "output_type": "stream",
     "text": [
      "100%|██████████| 112/112 [00:01<00:00, 69.41it/s]\n"
     ]
    },
    {
     "name": "stdout",
     "output_type": "stream",
     "text": [
      "========= TRAIN EVALUATION STARTED =========\n"
     ]
    },
    {
     "name": "stderr",
     "output_type": "stream",
     "text": [
      "100%|██████████| 112/112 [00:01<00:00, 90.24it/s]\n"
     ]
    },
    {
     "name": "stdout",
     "output_type": "stream",
     "text": [
      "========= TEST EVALUATION STARTED =========\n"
     ]
    },
    {
     "name": "stderr",
     "output_type": "stream",
     "text": [
      "100%|██████████| 28/28 [00:00<00:00, 43.80it/s]\n"
     ]
    },
    {
     "name": "stdout",
     "output_type": "stream",
     "text": [
      "END OF 1 EPOCH\n",
      "| Time taken:  10.338 |\n",
      "| Train Loss:   0.844 | Train acc:  0.70597 | Train f1:  0.47727 |\n",
      "| Test Loss:   0.849  | Test acc:  0.70101  | Test f1:  0.47249  |\n",
      "========= EPOCH 2 STARTED =========\n"
     ]
    },
    {
     "name": "stderr",
     "output_type": "stream",
     "text": [
      "100%|██████████| 112/112 [00:01<00:00, 92.31it/s]\n"
     ]
    },
    {
     "name": "stdout",
     "output_type": "stream",
     "text": [
      "========= TRAIN EVALUATION STARTED =========\n"
     ]
    },
    {
     "name": "stderr",
     "output_type": "stream",
     "text": [
      "100%|██████████| 112/112 [00:01<00:00, 96.86it/s]\n"
     ]
    },
    {
     "name": "stdout",
     "output_type": "stream",
     "text": [
      "========= TEST EVALUATION STARTED =========\n"
     ]
    },
    {
     "name": "stderr",
     "output_type": "stream",
     "text": [
      "100%|██████████| 28/28 [00:00<00:00, 144.75it/s]\n"
     ]
    },
    {
     "name": "stdout",
     "output_type": "stream",
     "text": [
      "END OF 2 EPOCH\n",
      "| Time taken:   9.189 |\n",
      "| Train Loss:   0.838 | Train acc:  0.71333 | Train f1:  0.48442 |\n",
      "| Test Loss:   0.842  | Test acc:  0.70915  | Test f1:  0.48059  |\n",
      "========= EPOCH 3 STARTED =========\n"
     ]
    },
    {
     "name": "stderr",
     "output_type": "stream",
     "text": [
      "100%|██████████| 112/112 [00:01<00:00, 73.59it/s]\n"
     ]
    },
    {
     "name": "stdout",
     "output_type": "stream",
     "text": [
      "========= TRAIN EVALUATION STARTED =========\n"
     ]
    },
    {
     "name": "stderr",
     "output_type": "stream",
     "text": [
      "100%|██████████| 112/112 [00:00<00:00, 152.52it/s]\n"
     ]
    },
    {
     "name": "stdout",
     "output_type": "stream",
     "text": [
      "========= TEST EVALUATION STARTED =========\n"
     ]
    },
    {
     "name": "stderr",
     "output_type": "stream",
     "text": [
      "100%|██████████| 28/28 [00:00<00:00, 121.24it/s]\n"
     ]
    },
    {
     "name": "stdout",
     "output_type": "stream",
     "text": [
      "END OF 3 EPOCH\n",
      "| Time taken:   9.801 |\n",
      "| Train Loss:   0.838 | Train acc:  0.71331 | Train f1:  0.48415 |\n",
      "| Test Loss:   0.842  | Test acc:  0.70929  | Test f1:  0.48059  |\n",
      "========= EPOCH 4 STARTED =========\n"
     ]
    },
    {
     "name": "stderr",
     "output_type": "stream",
     "text": [
      "100%|██████████| 112/112 [00:01<00:00, 93.12it/s]\n"
     ]
    },
    {
     "name": "stdout",
     "output_type": "stream",
     "text": [
      "========= TRAIN EVALUATION STARTED =========\n"
     ]
    },
    {
     "name": "stderr",
     "output_type": "stream",
     "text": [
      "100%|██████████| 112/112 [00:01<00:00, 85.61it/s]\n"
     ]
    },
    {
     "name": "stdout",
     "output_type": "stream",
     "text": [
      "========= TEST EVALUATION STARTED =========\n"
     ]
    },
    {
     "name": "stderr",
     "output_type": "stream",
     "text": [
      "100%|██████████| 28/28 [00:00<00:00, 123.85it/s]\n"
     ]
    },
    {
     "name": "stdout",
     "output_type": "stream",
     "text": [
      "END OF 4 EPOCH\n",
      "| Time taken:   9.283 |\n",
      "| Train Loss:   0.836 | Train acc:  0.71520 | Train f1:  0.48609 |\n",
      "| Test Loss:   0.841  | Test acc:  0.71091  | Test f1:  0.48231  |\n",
      "========= EPOCH 5 STARTED =========\n"
     ]
    },
    {
     "name": "stderr",
     "output_type": "stream",
     "text": [
      "100%|██████████| 112/112 [00:01<00:00, 92.41it/s] \n"
     ]
    },
    {
     "name": "stdout",
     "output_type": "stream",
     "text": [
      "========= TRAIN EVALUATION STARTED =========\n"
     ]
    },
    {
     "name": "stderr",
     "output_type": "stream",
     "text": [
      "100%|██████████| 112/112 [00:01<00:00, 103.33it/s]\n"
     ]
    },
    {
     "name": "stdout",
     "output_type": "stream",
     "text": [
      "========= TEST EVALUATION STARTED =========\n"
     ]
    },
    {
     "name": "stderr",
     "output_type": "stream",
     "text": [
      "100%|██████████| 28/28 [00:00<00:00, 101.39it/s]\n"
     ]
    },
    {
     "name": "stdout",
     "output_type": "stream",
     "text": [
      "END OF 5 EPOCH\n",
      "| Time taken:   9.801 |\n",
      "| Train Loss:   0.866 | Train acc:  0.68365 | Train f1:  0.45426 |\n",
      "| Test Loss:   0.867  | Test acc:  0.68248  | Test f1:  0.45264  |\n"
     ]
    },
    {
     "name": "stderr",
     "output_type": "stream",
     "text": [
      "100%|██████████| 28/28 [00:00<00:00, 117.87it/s]\n",
      "[I 2023-12-15 17:42:06,308] Trial 0 finished with value: 0.6824817518248175 and parameters: {'num_layers': 3, 'layer_units_0': 83, 'layer_units_1': 50, 'layer_units_2': 26, 'dropout': 0.48298607698273266, 'lr': 0.007537890875311412}. Best is trial 0 with value: 0.6824817518248175.\n"
     ]
    },
    {
     "name": "stdout",
     "output_type": "stream",
     "text": [
      "========= EPOCH 1 STARTED =========\n"
     ]
    },
    {
     "name": "stderr",
     "output_type": "stream",
     "text": [
      "100%|██████████| 112/112 [00:01<00:00, 89.72it/s]\n"
     ]
    },
    {
     "name": "stdout",
     "output_type": "stream",
     "text": [
      "========= TRAIN EVALUATION STARTED =========\n"
     ]
    },
    {
     "name": "stderr",
     "output_type": "stream",
     "text": [
      "100%|██████████| 112/112 [00:01<00:00, 100.80it/s]\n"
     ]
    },
    {
     "name": "stdout",
     "output_type": "stream",
     "text": [
      "========= TEST EVALUATION STARTED =========\n"
     ]
    },
    {
     "name": "stderr",
     "output_type": "stream",
     "text": [
      "100%|██████████| 28/28 [00:00<00:00, 58.02it/s] \n"
     ]
    },
    {
     "name": "stdout",
     "output_type": "stream",
     "text": [
      "END OF 1 EPOCH\n",
      "| Time taken:   9.580 |\n",
      "| Train Loss:   1.113 | Train acc:  0.27809 | Train f1:  0.26735 |\n",
      "| Test Loss:   1.114  | Test acc:  0.27316  | Test f1:  0.26386  |\n",
      "========= EPOCH 2 STARTED =========\n"
     ]
    },
    {
     "name": "stderr",
     "output_type": "stream",
     "text": [
      "100%|██████████| 112/112 [00:01<00:00, 76.13it/s]\n"
     ]
    },
    {
     "name": "stdout",
     "output_type": "stream",
     "text": [
      "========= TRAIN EVALUATION STARTED =========\n"
     ]
    },
    {
     "name": "stderr",
     "output_type": "stream",
     "text": [
      "100%|██████████| 112/112 [00:01<00:00, 90.46it/s]\n"
     ]
    },
    {
     "name": "stdout",
     "output_type": "stream",
     "text": [
      "========= TEST EVALUATION STARTED =========\n"
     ]
    },
    {
     "name": "stderr",
     "output_type": "stream",
     "text": [
      "100%|██████████| 28/28 [00:00<00:00, 139.40it/s]\n"
     ]
    },
    {
     "name": "stdout",
     "output_type": "stream",
     "text": [
      "END OF 2 EPOCH\n",
      "| Time taken:   9.732 |\n",
      "| Train Loss:   1.105 | Train acc:  0.32860 | Train f1:  0.30709 |\n",
      "| Test Loss:   1.106  | Test acc:  0.32496  | Test f1:  0.30436  |\n",
      "========= EPOCH 3 STARTED =========\n"
     ]
    },
    {
     "name": "stderr",
     "output_type": "stream",
     "text": [
      "100%|██████████| 112/112 [00:01<00:00, 62.29it/s]\n"
     ]
    },
    {
     "name": "stdout",
     "output_type": "stream",
     "text": [
      "========= TRAIN EVALUATION STARTED =========\n"
     ]
    },
    {
     "name": "stderr",
     "output_type": "stream",
     "text": [
      "100%|██████████| 112/112 [00:01<00:00, 110.53it/s]\n"
     ]
    },
    {
     "name": "stdout",
     "output_type": "stream",
     "text": [
      "========= TEST EVALUATION STARTED =========\n"
     ]
    },
    {
     "name": "stderr",
     "output_type": "stream",
     "text": [
      "100%|██████████| 28/28 [00:00<00:00, 122.15it/s]\n"
     ]
    },
    {
     "name": "stdout",
     "output_type": "stream",
     "text": [
      "END OF 3 EPOCH\n",
      "| Time taken:  10.049 |\n",
      "| Train Loss:   1.093 | Train acc:  0.40637 | Train f1:  0.35485 |\n",
      "| Test Loss:   1.094  | Test acc:  0.40455  | Test f1:  0.35423  |\n",
      "========= EPOCH 4 STARTED =========\n"
     ]
    },
    {
     "name": "stderr",
     "output_type": "stream",
     "text": [
      "100%|██████████| 112/112 [00:01<00:00, 84.96it/s]\n"
     ]
    },
    {
     "name": "stdout",
     "output_type": "stream",
     "text": [
      "========= TRAIN EVALUATION STARTED =========\n"
     ]
    },
    {
     "name": "stderr",
     "output_type": "stream",
     "text": [
      "100%|██████████| 112/112 [00:00<00:00, 142.67it/s]\n"
     ]
    },
    {
     "name": "stdout",
     "output_type": "stream",
     "text": [
      "========= TEST EVALUATION STARTED =========\n"
     ]
    },
    {
     "name": "stderr",
     "output_type": "stream",
     "text": [
      "100%|██████████| 28/28 [00:00<00:00, 120.27it/s]\n"
     ]
    },
    {
     "name": "stdout",
     "output_type": "stream",
     "text": [
      "END OF 4 EPOCH\n",
      "| Time taken:   9.298 |\n",
      "| Train Loss:   1.086 | Train acc:  0.44448 | Train f1:  0.37957 |\n",
      "| Test Loss:   1.086  | Test acc:  0.44280  | Test f1:  0.37930  |\n",
      "========= EPOCH 5 STARTED =========\n"
     ]
    },
    {
     "name": "stderr",
     "output_type": "stream",
     "text": [
      "100%|██████████| 112/112 [00:01<00:00, 85.38it/s]\n"
     ]
    },
    {
     "name": "stdout",
     "output_type": "stream",
     "text": [
      "========= TRAIN EVALUATION STARTED =========\n"
     ]
    },
    {
     "name": "stderr",
     "output_type": "stream",
     "text": [
      "100%|██████████| 112/112 [00:01<00:00, 84.02it/s] \n"
     ]
    },
    {
     "name": "stdout",
     "output_type": "stream",
     "text": [
      "========= TEST EVALUATION STARTED =========\n"
     ]
    },
    {
     "name": "stderr",
     "output_type": "stream",
     "text": [
      "100%|██████████| 28/28 [00:00<00:00, 118.47it/s]\n"
     ]
    },
    {
     "name": "stdout",
     "output_type": "stream",
     "text": [
      "END OF 5 EPOCH\n",
      "| Time taken:   9.595 |\n",
      "| Train Loss:   1.076 | Train acc:  0.48143 | Train f1:  0.40095 |\n",
      "| Test Loss:   1.076  | Test acc:  0.48344  | Test f1:  0.40412  |\n"
     ]
    },
    {
     "name": "stderr",
     "output_type": "stream",
     "text": [
      "100%|██████████| 28/28 [00:00<00:00, 110.90it/s]\n",
      "[I 2023-12-15 17:42:56,172] Trial 1 finished with value: 0.48343627175743964 and parameters: {'num_layers': 3, 'layer_units_0': 131, 'layer_units_1': 64, 'layer_units_2': 27, 'dropout': 0.2327755503141099, 'lr': 1.3733777141903732e-05}. Best is trial 0 with value: 0.6824817518248175.\n"
     ]
    },
    {
     "name": "stdout",
     "output_type": "stream",
     "text": [
      "========= EPOCH 1 STARTED =========\n"
     ]
    },
    {
     "name": "stderr",
     "output_type": "stream",
     "text": [
      "100%|██████████| 112/112 [00:01<00:00, 77.49it/s]\n"
     ]
    },
    {
     "name": "stdout",
     "output_type": "stream",
     "text": [
      "========= TRAIN EVALUATION STARTED =========\n"
     ]
    },
    {
     "name": "stderr",
     "output_type": "stream",
     "text": [
      "100%|██████████| 112/112 [00:01<00:00, 90.05it/s] \n"
     ]
    },
    {
     "name": "stdout",
     "output_type": "stream",
     "text": [
      "========= TEST EVALUATION STARTED =========\n"
     ]
    },
    {
     "name": "stderr",
     "output_type": "stream",
     "text": [
      "100%|██████████| 28/28 [00:00<00:00, 123.12it/s]\n"
     ]
    },
    {
     "name": "stdout",
     "output_type": "stream",
     "text": [
      "END OF 1 EPOCH\n",
      "| Time taken:   9.834 |\n",
      "| Train Loss:   1.034 | Train acc:  0.54585 | Train f1:  0.35927 |\n",
      "| Test Loss:   1.034  | Test acc:  0.54815  | Test f1:  0.36383  |\n",
      "========= EPOCH 2 STARTED =========\n"
     ]
    },
    {
     "name": "stderr",
     "output_type": "stream",
     "text": [
      "100%|██████████| 112/112 [00:01<00:00, 85.49it/s]\n"
     ]
    },
    {
     "name": "stdout",
     "output_type": "stream",
     "text": [
      "========= TRAIN EVALUATION STARTED =========\n"
     ]
    },
    {
     "name": "stderr",
     "output_type": "stream",
     "text": [
      "100%|██████████| 112/112 [00:01<00:00, 101.52it/s]\n"
     ]
    },
    {
     "name": "stdout",
     "output_type": "stream",
     "text": [
      "========= TEST EVALUATION STARTED =========\n"
     ]
    },
    {
     "name": "stderr",
     "output_type": "stream",
     "text": [
      "100%|██████████| 28/28 [00:00<00:00, 115.91it/s]\n"
     ]
    },
    {
     "name": "stdout",
     "output_type": "stream",
     "text": [
      "END OF 2 EPOCH\n",
      "| Time taken:  10.131 |\n",
      "| Train Loss:   0.949 | Train acc:  0.63338 | Train f1:  0.44058 |\n",
      "| Test Loss:   0.949  | Test acc:  0.63223  | Test f1:  0.43715  |\n",
      "========= EPOCH 3 STARTED =========\n"
     ]
    },
    {
     "name": "stderr",
     "output_type": "stream",
     "text": [
      "100%|██████████| 112/112 [00:01<00:00, 78.90it/s]\n"
     ]
    },
    {
     "name": "stdout",
     "output_type": "stream",
     "text": [
      "========= TRAIN EVALUATION STARTED =========\n"
     ]
    },
    {
     "name": "stderr",
     "output_type": "stream",
     "text": [
      "100%|██████████| 112/112 [00:01<00:00, 93.40it/s] \n"
     ]
    },
    {
     "name": "stdout",
     "output_type": "stream",
     "text": [
      "========= TEST EVALUATION STARTED =========\n"
     ]
    },
    {
     "name": "stderr",
     "output_type": "stream",
     "text": [
      "100%|██████████| 28/28 [00:00<00:00, 87.23it/s]\n"
     ]
    },
    {
     "name": "stdout",
     "output_type": "stream",
     "text": [
      "END OF 3 EPOCH\n",
      "| Time taken:   9.644 |\n",
      "| Train Loss:   0.896 | Train acc:  0.67583 | Train f1:  0.47745 |\n",
      "| Test Loss:   0.900  | Test acc:  0.67139  | Test f1:  0.47430  |\n",
      "========= EPOCH 4 STARTED =========\n"
     ]
    },
    {
     "name": "stderr",
     "output_type": "stream",
     "text": [
      "100%|██████████| 112/112 [00:01<00:00, 83.79it/s]\n"
     ]
    },
    {
     "name": "stdout",
     "output_type": "stream",
     "text": [
      "========= TRAIN EVALUATION STARTED =========\n"
     ]
    },
    {
     "name": "stderr",
     "output_type": "stream",
     "text": [
      "100%|██████████| 112/112 [00:01<00:00, 103.00it/s]\n"
     ]
    },
    {
     "name": "stdout",
     "output_type": "stream",
     "text": [
      "========= TEST EVALUATION STARTED =========\n"
     ]
    },
    {
     "name": "stderr",
     "output_type": "stream",
     "text": [
      "100%|██████████| 28/28 [00:00<00:00, 120.21it/s]\n"
     ]
    },
    {
     "name": "stdout",
     "output_type": "stream",
     "text": [
      "END OF 4 EPOCH\n",
      "| Time taken:   9.772 |\n",
      "| Train Loss:   0.866 | Train acc:  0.69318 | Train f1:  0.48312 |\n",
      "| Test Loss:   0.869  | Test acc:  0.68908  | Test f1:  0.47871  |\n",
      "========= EPOCH 5 STARTED =========\n"
     ]
    },
    {
     "name": "stderr",
     "output_type": "stream",
     "text": [
      "100%|██████████| 112/112 [00:01<00:00, 81.60it/s]\n"
     ]
    },
    {
     "name": "stdout",
     "output_type": "stream",
     "text": [
      "========= TRAIN EVALUATION STARTED =========\n"
     ]
    },
    {
     "name": "stderr",
     "output_type": "stream",
     "text": [
      "100%|██████████| 112/112 [00:01<00:00, 89.12it/s] \n"
     ]
    },
    {
     "name": "stdout",
     "output_type": "stream",
     "text": [
      "========= TEST EVALUATION STARTED =========\n"
     ]
    },
    {
     "name": "stderr",
     "output_type": "stream",
     "text": [
      "100%|██████████| 28/28 [00:00<00:00, 131.43it/s]\n"
     ]
    },
    {
     "name": "stdout",
     "output_type": "stream",
     "text": [
      "END OF 5 EPOCH\n",
      "| Time taken:   9.452 |\n",
      "| Train Loss:   0.844 | Train acc:  0.71159 | Train f1:  0.49025 |\n",
      "| Test Loss:   0.849  | Test acc:  0.70670  | Test f1:  0.48529  |\n"
     ]
    },
    {
     "name": "stderr",
     "output_type": "stream",
     "text": [
      "100%|██████████| 28/28 [00:00<00:00, 145.62it/s]\n",
      "[I 2023-12-15 17:43:46,586] Trial 2 finished with value: 0.7066956765861875 and parameters: {'num_layers': 5, 'layer_units_0': 108, 'layer_units_1': 55, 'layer_units_2': 19, 'layer_units_3': 15, 'layer_units_4': 8, 'dropout': 0.4359961487526097, 'lr': 0.0007259129425107955}. Best is trial 2 with value: 0.7066956765861875.\n"
     ]
    },
    {
     "name": "stdout",
     "output_type": "stream",
     "text": [
      "========= EPOCH 1 STARTED =========\n"
     ]
    },
    {
     "name": "stderr",
     "output_type": "stream",
     "text": [
      "100%|██████████| 112/112 [00:01<00:00, 102.06it/s]\n"
     ]
    },
    {
     "name": "stdout",
     "output_type": "stream",
     "text": [
      "========= TRAIN EVALUATION STARTED =========\n"
     ]
    },
    {
     "name": "stderr",
     "output_type": "stream",
     "text": [
      "100%|██████████| 112/112 [00:01<00:00, 99.29it/s] \n"
     ]
    },
    {
     "name": "stdout",
     "output_type": "stream",
     "text": [
      "========= TEST EVALUATION STARTED =========\n"
     ]
    },
    {
     "name": "stderr",
     "output_type": "stream",
     "text": [
      "100%|██████████| 28/28 [00:00<00:00, 41.20it/s]\n"
     ]
    },
    {
     "name": "stdout",
     "output_type": "stream",
     "text": [
      "END OF 1 EPOCH\n",
      "| Time taken:   9.567 |\n",
      "| Train Loss:   0.926 | Train acc:  0.63526 | Train f1:  0.42452 |\n",
      "| Test Loss:   0.927  | Test acc:  0.63384  | Test f1:  0.42334  |\n",
      "========= EPOCH 2 STARTED =========\n"
     ]
    },
    {
     "name": "stderr",
     "output_type": "stream",
     "text": [
      "100%|██████████| 112/112 [00:01<00:00, 93.94it/s] \n"
     ]
    },
    {
     "name": "stdout",
     "output_type": "stream",
     "text": [
      "========= TRAIN EVALUATION STARTED =========\n"
     ]
    },
    {
     "name": "stderr",
     "output_type": "stream",
     "text": [
      "100%|██████████| 112/112 [00:01<00:00, 94.79it/s]\n"
     ]
    },
    {
     "name": "stdout",
     "output_type": "stream",
     "text": [
      "========= TEST EVALUATION STARTED =========\n"
     ]
    },
    {
     "name": "stderr",
     "output_type": "stream",
     "text": [
      "100%|██████████| 28/28 [00:00<00:00, 137.06it/s]\n"
     ]
    },
    {
     "name": "stdout",
     "output_type": "stream",
     "text": [
      "END OF 2 EPOCH\n",
      "| Time taken:   9.088 |\n",
      "| Train Loss:   0.868 | Train acc:  0.68841 | Train f1:  0.47097 |\n",
      "| Test Loss:   0.870  | Test acc:  0.68522  | Test f1:  0.46665  |\n",
      "========= EPOCH 3 STARTED =========\n"
     ]
    },
    {
     "name": "stderr",
     "output_type": "stream",
     "text": [
      "100%|██████████| 112/112 [00:01<00:00, 81.40it/s] \n"
     ]
    },
    {
     "name": "stdout",
     "output_type": "stream",
     "text": [
      "========= TRAIN EVALUATION STARTED =========\n"
     ]
    },
    {
     "name": "stderr",
     "output_type": "stream",
     "text": [
      "100%|██████████| 112/112 [00:00<00:00, 124.85it/s]\n"
     ]
    },
    {
     "name": "stdout",
     "output_type": "stream",
     "text": [
      "========= TEST EVALUATION STARTED =========\n"
     ]
    },
    {
     "name": "stderr",
     "output_type": "stream",
     "text": [
      "100%|██████████| 28/28 [00:00<00:00, 142.08it/s]\n"
     ]
    },
    {
     "name": "stdout",
     "output_type": "stream",
     "text": [
      "END OF 3 EPOCH\n",
      "| Time taken:   9.407 |\n",
      "| Train Loss:   0.843 | Train acc:  0.71217 | Train f1:  0.48821 |\n",
      "| Test Loss:   0.848  | Test acc:  0.70677  | Test f1:  0.48224  |\n",
      "========= EPOCH 4 STARTED =========\n"
     ]
    },
    {
     "name": "stderr",
     "output_type": "stream",
     "text": [
      "100%|██████████| 112/112 [00:00<00:00, 114.73it/s]\n"
     ]
    },
    {
     "name": "stdout",
     "output_type": "stream",
     "text": [
      "========= TRAIN EVALUATION STARTED =========\n"
     ]
    },
    {
     "name": "stderr",
     "output_type": "stream",
     "text": [
      "100%|██████████| 112/112 [00:00<00:00, 138.74it/s]\n"
     ]
    },
    {
     "name": "stdout",
     "output_type": "stream",
     "text": [
      "========= TEST EVALUATION STARTED =========\n"
     ]
    },
    {
     "name": "stderr",
     "output_type": "stream",
     "text": [
      "100%|██████████| 28/28 [00:00<00:00, 156.87it/s]\n"
     ]
    },
    {
     "name": "stdout",
     "output_type": "stream",
     "text": [
      "END OF 4 EPOCH\n",
      "| Time taken:   8.789 |\n",
      "| Train Loss:   0.840 | Train acc:  0.71375 | Train f1:  0.49161 |\n",
      "| Test Loss:   0.845  | Test acc:  0.70775  | Test f1:  0.48508  |\n",
      "========= EPOCH 5 STARTED =========\n"
     ]
    },
    {
     "name": "stderr",
     "output_type": "stream",
     "text": [
      "100%|██████████| 112/112 [00:00<00:00, 121.78it/s]\n"
     ]
    },
    {
     "name": "stdout",
     "output_type": "stream",
     "text": [
      "========= TRAIN EVALUATION STARTED =========\n"
     ]
    },
    {
     "name": "stderr",
     "output_type": "stream",
     "text": [
      "100%|██████████| 112/112 [00:01<00:00, 97.05it/s]\n"
     ]
    },
    {
     "name": "stdout",
     "output_type": "stream",
     "text": [
      "========= TEST EVALUATION STARTED =========\n"
     ]
    },
    {
     "name": "stderr",
     "output_type": "stream",
     "text": [
      "100%|██████████| 28/28 [00:00<00:00, 131.82it/s]\n"
     ]
    },
    {
     "name": "stdout",
     "output_type": "stream",
     "text": [
      "END OF 5 EPOCH\n",
      "| Time taken:   9.092 |\n",
      "| Train Loss:   0.837 | Train acc:  0.71634 | Train f1:  0.49216 |\n",
      "| Test Loss:   0.841  | Test acc:  0.71070  | Test f1:  0.48657  |\n"
     ]
    },
    {
     "name": "stderr",
     "output_type": "stream",
     "text": [
      "100%|██████████| 28/28 [00:00<00:00, 140.15it/s]\n",
      "[I 2023-12-15 17:44:34,075] Trial 3 finished with value: 0.7106962380685008 and parameters: {'num_layers': 2, 'layer_units_0': 76, 'layer_units_1': 36, 'dropout': 0.3256988107802178, 'lr': 0.000497632776155282}. Best is trial 3 with value: 0.7106962380685008.\n"
     ]
    },
    {
     "name": "stdout",
     "output_type": "stream",
     "text": [
      "========= EPOCH 1 STARTED =========\n"
     ]
    },
    {
     "name": "stderr",
     "output_type": "stream",
     "text": [
      "100%|██████████| 112/112 [00:01<00:00, 98.10it/s]\n"
     ]
    },
    {
     "name": "stdout",
     "output_type": "stream",
     "text": [
      "========= TRAIN EVALUATION STARTED =========\n"
     ]
    },
    {
     "name": "stderr",
     "output_type": "stream",
     "text": [
      "100%|██████████| 112/112 [00:01<00:00, 89.92it/s] \n"
     ]
    },
    {
     "name": "stdout",
     "output_type": "stream",
     "text": [
      "========= TEST EVALUATION STARTED =========\n"
     ]
    },
    {
     "name": "stderr",
     "output_type": "stream",
     "text": [
      "100%|██████████| 28/28 [00:00<00:00, 128.46it/s]\n"
     ]
    },
    {
     "name": "stdout",
     "output_type": "stream",
     "text": [
      "END OF 1 EPOCH\n",
      "| Time taken:   9.552 |\n",
      "| Train Loss:   0.889 | Train acc:  0.65459 | Train f1:  0.42677 |\n",
      "| Test Loss:   0.889  | Test acc:  0.65364  | Test f1:  0.42495  |\n",
      "========= EPOCH 2 STARTED =========\n"
     ]
    },
    {
     "name": "stderr",
     "output_type": "stream",
     "text": [
      "100%|██████████| 112/112 [00:00<00:00, 115.28it/s]\n"
     ]
    },
    {
     "name": "stdout",
     "output_type": "stream",
     "text": [
      "========= TRAIN EVALUATION STARTED =========\n"
     ]
    },
    {
     "name": "stderr",
     "output_type": "stream",
     "text": [
      "100%|██████████| 112/112 [00:01<00:00, 106.40it/s]\n"
     ]
    },
    {
     "name": "stdout",
     "output_type": "stream",
     "text": [
      "========= TEST EVALUATION STARTED =========\n"
     ]
    },
    {
     "name": "stderr",
     "output_type": "stream",
     "text": [
      "100%|██████████| 28/28 [00:00<00:00, 133.29it/s]\n"
     ]
    },
    {
     "name": "stdout",
     "output_type": "stream",
     "text": [
      "END OF 2 EPOCH\n",
      "| Time taken:   9.227 |\n",
      "| Train Loss:   0.844 | Train acc:  0.70778 | Train f1:  0.48239 |\n",
      "| Test Loss:   0.850  | Test acc:  0.70108  | Test f1:  0.47501  |\n",
      "========= EPOCH 3 STARTED =========\n"
     ]
    },
    {
     "name": "stderr",
     "output_type": "stream",
     "text": [
      "100%|██████████| 112/112 [00:01<00:00, 106.13it/s]\n"
     ]
    },
    {
     "name": "stdout",
     "output_type": "stream",
     "text": [
      "========= TRAIN EVALUATION STARTED =========\n"
     ]
    },
    {
     "name": "stderr",
     "output_type": "stream",
     "text": [
      "100%|██████████| 112/112 [00:01<00:00, 92.22it/s]\n"
     ]
    },
    {
     "name": "stdout",
     "output_type": "stream",
     "text": [
      "========= TEST EVALUATION STARTED =========\n"
     ]
    },
    {
     "name": "stderr",
     "output_type": "stream",
     "text": [
      "100%|██████████| 28/28 [00:00<00:00, 134.62it/s]\n"
     ]
    },
    {
     "name": "stdout",
     "output_type": "stream",
     "text": [
      "END OF 3 EPOCH\n",
      "| Time taken:   9.153 |\n",
      "| Train Loss:   0.842 | Train acc:  0.71361 | Train f1:  0.48788 |\n",
      "| Test Loss:   0.848  | Test acc:  0.70719  | Test f1:  0.48160  |\n",
      "========= EPOCH 4 STARTED =========\n"
     ]
    },
    {
     "name": "stderr",
     "output_type": "stream",
     "text": [
      "100%|██████████| 112/112 [00:01<00:00, 106.64it/s]\n"
     ]
    },
    {
     "name": "stdout",
     "output_type": "stream",
     "text": [
      "========= TRAIN EVALUATION STARTED =========\n"
     ]
    },
    {
     "name": "stderr",
     "output_type": "stream",
     "text": [
      "100%|██████████| 112/112 [00:01<00:00, 105.59it/s]\n"
     ]
    },
    {
     "name": "stdout",
     "output_type": "stream",
     "text": [
      "========= TEST EVALUATION STARTED =========\n"
     ]
    },
    {
     "name": "stderr",
     "output_type": "stream",
     "text": [
      "100%|██████████| 28/28 [00:00<00:00, 151.38it/s]\n"
     ]
    },
    {
     "name": "stdout",
     "output_type": "stream",
     "text": [
      "END OF 4 EPOCH\n",
      "| Time taken:   9.070 |\n",
      "| Train Loss:   0.852 | Train acc:  0.70225 | Train f1:  0.48326 |\n",
      "| Test Loss:   0.857  | Test acc:  0.69736  | Test f1:  0.47868  |\n",
      "========= EPOCH 5 STARTED =========\n"
     ]
    },
    {
     "name": "stderr",
     "output_type": "stream",
     "text": [
      "100%|██████████| 112/112 [00:01<00:00, 101.39it/s]\n"
     ]
    },
    {
     "name": "stdout",
     "output_type": "stream",
     "text": [
      "========= TRAIN EVALUATION STARTED =========\n"
     ]
    },
    {
     "name": "stderr",
     "output_type": "stream",
     "text": [
      "100%|██████████| 112/112 [00:01<00:00, 88.42it/s] \n"
     ]
    },
    {
     "name": "stdout",
     "output_type": "stream",
     "text": [
      "========= TEST EVALUATION STARTED =========\n"
     ]
    },
    {
     "name": "stderr",
     "output_type": "stream",
     "text": [
      "100%|██████████| 28/28 [00:00<00:00, 120.27it/s]\n"
     ]
    },
    {
     "name": "stdout",
     "output_type": "stream",
     "text": [
      "END OF 5 EPOCH\n",
      "| Time taken:   9.141 |\n",
      "| Train Loss:   0.835 | Train acc:  0.71619 | Train f1:  0.49186 |\n",
      "| Test Loss:   0.840  | Test acc:  0.71091  | Test f1:  0.48473  |\n"
     ]
    },
    {
     "name": "stderr",
     "output_type": "stream",
     "text": [
      "100%|██████████| 28/28 [00:00<00:00, 122.74it/s]\n",
      "[I 2023-12-15 17:45:21,911] Trial 4 finished with value: 0.710906793935991 and parameters: {'num_layers': 2, 'layer_units_0': 69, 'layer_units_1': 40, 'dropout': 0.33324467180858974, 'lr': 0.0014441788221137082}. Best is trial 4 with value: 0.710906793935991.\n"
     ]
    },
    {
     "name": "stdout",
     "output_type": "stream",
     "text": [
      "========= EPOCH 1 STARTED =========\n"
     ]
    },
    {
     "name": "stderr",
     "output_type": "stream",
     "text": [
      "100%|██████████| 112/112 [00:01<00:00, 106.82it/s]\n"
     ]
    },
    {
     "name": "stdout",
     "output_type": "stream",
     "text": [
      "========= TRAIN EVALUATION STARTED =========\n"
     ]
    },
    {
     "name": "stderr",
     "output_type": "stream",
     "text": [
      "100%|██████████| 112/112 [00:01<00:00, 86.24it/s]\n"
     ]
    },
    {
     "name": "stdout",
     "output_type": "stream",
     "text": [
      "========= TEST EVALUATION STARTED =========\n"
     ]
    },
    {
     "name": "stderr",
     "output_type": "stream",
     "text": [
      "100%|██████████| 28/28 [00:00<00:00, 63.25it/s]\n"
     ]
    },
    {
     "name": "stdout",
     "output_type": "stream",
     "text": [
      "END OF 1 EPOCH\n",
      "| Time taken:   9.298 |\n",
      "| Train Loss:   1.043 | Train acc:  0.54740 | Train f1:  0.41082 |\n",
      "| Test Loss:   1.041  | Test acc:  0.55327  | Test f1:  0.41729  |\n",
      "========= EPOCH 2 STARTED =========\n"
     ]
    },
    {
     "name": "stderr",
     "output_type": "stream",
     "text": [
      "100%|██████████| 112/112 [00:01<00:00, 97.78it/s] \n"
     ]
    },
    {
     "name": "stdout",
     "output_type": "stream",
     "text": [
      "========= TRAIN EVALUATION STARTED =========\n"
     ]
    },
    {
     "name": "stderr",
     "output_type": "stream",
     "text": [
      "100%|██████████| 112/112 [00:01<00:00, 80.86it/s]\n"
     ]
    },
    {
     "name": "stdout",
     "output_type": "stream",
     "text": [
      "========= TEST EVALUATION STARTED =========\n"
     ]
    },
    {
     "name": "stderr",
     "output_type": "stream",
     "text": [
      "100%|██████████| 28/28 [00:00<00:00, 139.36it/s]\n"
     ]
    },
    {
     "name": "stdout",
     "output_type": "stream",
     "text": [
      "END OF 2 EPOCH\n",
      "| Time taken:   9.200 |\n",
      "| Train Loss:   0.966 | Train acc:  0.62434 | Train f1:  0.43814 |\n",
      "| Test Loss:   0.965  | Test acc:  0.62296  | Test f1:  0.44087  |\n",
      "========= EPOCH 3 STARTED =========\n"
     ]
    },
    {
     "name": "stderr",
     "output_type": "stream",
     "text": [
      "100%|██████████| 112/112 [00:01<00:00, 83.89it/s] \n"
     ]
    },
    {
     "name": "stdout",
     "output_type": "stream",
     "text": [
      "========= TRAIN EVALUATION STARTED =========\n"
     ]
    },
    {
     "name": "stderr",
     "output_type": "stream",
     "text": [
      "100%|██████████| 112/112 [00:00<00:00, 127.36it/s]\n"
     ]
    },
    {
     "name": "stdout",
     "output_type": "stream",
     "text": [
      "========= TEST EVALUATION STARTED =========\n"
     ]
    },
    {
     "name": "stderr",
     "output_type": "stream",
     "text": [
      "100%|██████████| 28/28 [00:00<00:00, 124.51it/s]\n"
     ]
    },
    {
     "name": "stdout",
     "output_type": "stream",
     "text": [
      "END OF 3 EPOCH\n",
      "| Time taken:   9.521 |\n",
      "| Train Loss:   0.914 | Train acc:  0.65012 | Train f1:  0.44653 |\n",
      "| Test Loss:   0.916  | Test acc:  0.64865  | Test f1:  0.44532  |\n",
      "========= EPOCH 4 STARTED =========\n"
     ]
    },
    {
     "name": "stderr",
     "output_type": "stream",
     "text": [
      "100%|██████████| 112/112 [00:01<00:00, 98.75it/s] \n"
     ]
    },
    {
     "name": "stdout",
     "output_type": "stream",
     "text": [
      "========= TRAIN EVALUATION STARTED =========\n"
     ]
    },
    {
     "name": "stderr",
     "output_type": "stream",
     "text": [
      "100%|██████████| 112/112 [00:00<00:00, 125.52it/s]\n"
     ]
    },
    {
     "name": "stdout",
     "output_type": "stream",
     "text": [
      "========= TEST EVALUATION STARTED =========\n"
     ]
    },
    {
     "name": "stderr",
     "output_type": "stream",
     "text": [
      "100%|██████████| 28/28 [00:00<00:00, 123.84it/s]\n"
     ]
    },
    {
     "name": "stdout",
     "output_type": "stream",
     "text": [
      "END OF 4 EPOCH\n",
      "| Time taken:   9.274 |\n",
      "| Train Loss:   0.886 | Train acc:  0.67502 | Train f1:  0.46490 |\n",
      "| Test Loss:   0.888  | Test acc:  0.67104  | Test f1:  0.46128  |\n",
      "========= EPOCH 5 STARTED =========\n"
     ]
    },
    {
     "name": "stderr",
     "output_type": "stream",
     "text": [
      "100%|██████████| 112/112 [00:01<00:00, 103.32it/s]\n"
     ]
    },
    {
     "name": "stdout",
     "output_type": "stream",
     "text": [
      "========= TRAIN EVALUATION STARTED =========\n"
     ]
    },
    {
     "name": "stderr",
     "output_type": "stream",
     "text": [
      "100%|██████████| 112/112 [00:01<00:00, 96.22it/s] \n"
     ]
    },
    {
     "name": "stdout",
     "output_type": "stream",
     "text": [
      "========= TEST EVALUATION STARTED =========\n"
     ]
    },
    {
     "name": "stderr",
     "output_type": "stream",
     "text": [
      "100%|██████████| 28/28 [00:00<00:00, 125.83it/s]\n"
     ]
    },
    {
     "name": "stdout",
     "output_type": "stream",
     "text": [
      "END OF 5 EPOCH\n",
      "| Time taken:   9.257 |\n",
      "| Train Loss:   0.868 | Train acc:  0.69078 | Train f1:  0.47394 |\n",
      "| Test Loss:   0.870  | Test acc:  0.68817  | Test f1:  0.47078  |\n"
     ]
    },
    {
     "name": "stderr",
     "output_type": "stream",
     "text": [
      "100%|██████████| 28/28 [00:00<00:00, 134.01it/s]\n",
      "[I 2023-12-15 17:46:10,159] Trial 5 finished with value: 0.6881667602470523 and parameters: {'num_layers': 3, 'layer_units_0': 74, 'layer_units_1': 53, 'layer_units_2': 26, 'dropout': 0.30045654977965885, 'lr': 0.0001808195032680125}. Best is trial 4 with value: 0.710906793935991.\n"
     ]
    },
    {
     "name": "stdout",
     "output_type": "stream",
     "text": [
      "========= EPOCH 1 STARTED =========\n"
     ]
    },
    {
     "name": "stderr",
     "output_type": "stream",
     "text": [
      "100%|██████████| 112/112 [00:01<00:00, 94.43it/s]\n"
     ]
    },
    {
     "name": "stdout",
     "output_type": "stream",
     "text": [
      "========= TRAIN EVALUATION STARTED =========\n"
     ]
    },
    {
     "name": "stderr",
     "output_type": "stream",
     "text": [
      "100%|██████████| 112/112 [00:01<00:00, 89.14it/s] \n"
     ]
    },
    {
     "name": "stdout",
     "output_type": "stream",
     "text": [
      "========= TEST EVALUATION STARTED =========\n"
     ]
    },
    {
     "name": "stderr",
     "output_type": "stream",
     "text": [
      "100%|██████████| 28/28 [00:00<00:00, 130.17it/s]\n"
     ]
    },
    {
     "name": "stdout",
     "output_type": "stream",
     "text": [
      "END OF 1 EPOCH\n",
      "| Time taken:   9.600 |\n",
      "| Train Loss:   0.946 | Train acc:  0.61202 | Train f1:  0.41254 |\n",
      "| Test Loss:   0.947  | Test acc:  0.61279  | Test f1:  0.41125  |\n",
      "========= EPOCH 2 STARTED =========\n"
     ]
    },
    {
     "name": "stderr",
     "output_type": "stream",
     "text": [
      "100%|██████████| 112/112 [00:01<00:00, 95.11it/s] \n"
     ]
    },
    {
     "name": "stdout",
     "output_type": "stream",
     "text": [
      "========= TRAIN EVALUATION STARTED =========\n"
     ]
    },
    {
     "name": "stderr",
     "output_type": "stream",
     "text": [
      "100%|██████████| 112/112 [00:01<00:00, 99.33it/s]\n"
     ]
    },
    {
     "name": "stdout",
     "output_type": "stream",
     "text": [
      "========= TEST EVALUATION STARTED =========\n"
     ]
    },
    {
     "name": "stderr",
     "output_type": "stream",
     "text": [
      "100%|██████████| 28/28 [00:00<00:00, 125.74it/s]\n"
     ]
    },
    {
     "name": "stdout",
     "output_type": "stream",
     "text": [
      "END OF 2 EPOCH\n",
      "| Time taken:   9.500 |\n",
      "| Train Loss:   0.893 | Train acc:  0.65300 | Train f1:  0.43716 |\n",
      "| Test Loss:   0.894  | Test acc:  0.65223  | Test f1:  0.43546  |\n",
      "========= EPOCH 3 STARTED =========\n"
     ]
    },
    {
     "name": "stderr",
     "output_type": "stream",
     "text": [
      "100%|██████████| 112/112 [00:01<00:00, 82.66it/s]\n"
     ]
    },
    {
     "name": "stdout",
     "output_type": "stream",
     "text": [
      "========= TRAIN EVALUATION STARTED =========\n"
     ]
    },
    {
     "name": "stderr",
     "output_type": "stream",
     "text": [
      "100%|██████████| 112/112 [00:01<00:00, 85.16it/s]\n"
     ]
    },
    {
     "name": "stdout",
     "output_type": "stream",
     "text": [
      "========= TEST EVALUATION STARTED =========\n"
     ]
    },
    {
     "name": "stderr",
     "output_type": "stream",
     "text": [
      "100%|██████████| 28/28 [00:00<00:00, 123.66it/s]\n"
     ]
    },
    {
     "name": "stdout",
     "output_type": "stream",
     "text": [
      "END OF 3 EPOCH\n",
      "| Time taken:   9.899 |\n",
      "| Train Loss:   0.857 | Train acc:  0.69478 | Train f1:  0.47561 |\n",
      "| Test Loss:   0.859  | Test acc:  0.69441  | Test f1:  0.47527  |\n",
      "========= EPOCH 4 STARTED =========\n"
     ]
    },
    {
     "name": "stderr",
     "output_type": "stream",
     "text": [
      "100%|██████████| 112/112 [00:00<00:00, 113.12it/s]\n"
     ]
    },
    {
     "name": "stdout",
     "output_type": "stream",
     "text": [
      "========= TRAIN EVALUATION STARTED =========\n"
     ]
    },
    {
     "name": "stderr",
     "output_type": "stream",
     "text": [
      "100%|██████████| 112/112 [00:01<00:00, 86.25it/s]\n"
     ]
    },
    {
     "name": "stdout",
     "output_type": "stream",
     "text": [
      "========= TEST EVALUATION STARTED =========\n"
     ]
    },
    {
     "name": "stderr",
     "output_type": "stream",
     "text": [
      "100%|██████████| 28/28 [00:00<00:00, 124.31it/s]\n"
     ]
    },
    {
     "name": "stdout",
     "output_type": "stream",
     "text": [
      "END OF 4 EPOCH\n",
      "| Time taken:   9.540 |\n",
      "| Train Loss:   0.839 | Train acc:  0.71350 | Train f1:  0.48984 |\n",
      "| Test Loss:   0.844  | Test acc:  0.70978  | Test f1:  0.48623  |\n",
      "========= EPOCH 5 STARTED =========\n"
     ]
    },
    {
     "name": "stderr",
     "output_type": "stream",
     "text": [
      "100%|██████████| 112/112 [00:01<00:00, 104.33it/s]\n"
     ]
    },
    {
     "name": "stdout",
     "output_type": "stream",
     "text": [
      "========= TRAIN EVALUATION STARTED =========\n"
     ]
    },
    {
     "name": "stderr",
     "output_type": "stream",
     "text": [
      "100%|██████████| 112/112 [00:01<00:00, 96.45it/s]\n"
     ]
    },
    {
     "name": "stdout",
     "output_type": "stream",
     "text": [
      "========= TEST EVALUATION STARTED =========\n"
     ]
    },
    {
     "name": "stderr",
     "output_type": "stream",
     "text": [
      "100%|██████████| 28/28 [00:00<00:00, 124.59it/s]\n"
     ]
    },
    {
     "name": "stdout",
     "output_type": "stream",
     "text": [
      "END OF 5 EPOCH\n",
      "| Time taken:   9.504 |\n",
      "| Train Loss:   0.837 | Train acc:  0.71519 | Train f1:  0.48867 |\n",
      "| Test Loss:   0.842  | Test acc:  0.71020  | Test f1:  0.48348  |\n"
     ]
    },
    {
     "name": "stderr",
     "output_type": "stream",
     "text": [
      "100%|██████████| 28/28 [00:00<00:00, 134.90it/s]\n",
      "[I 2023-12-15 17:46:59,795] Trial 6 finished with value: 0.710204941044357 and parameters: {'num_layers': 2, 'layer_units_0': 76, 'layer_units_1': 67, 'dropout': 0.4071582001067097, 'lr': 0.00038026370570534576}. Best is trial 4 with value: 0.710906793935991.\n"
     ]
    },
    {
     "name": "stdout",
     "output_type": "stream",
     "text": [
      "========= EPOCH 1 STARTED =========\n"
     ]
    },
    {
     "name": "stderr",
     "output_type": "stream",
     "text": [
      "100%|██████████| 112/112 [00:01<00:00, 89.95it/s]\n"
     ]
    },
    {
     "name": "stdout",
     "output_type": "stream",
     "text": [
      "========= TRAIN EVALUATION STARTED =========\n"
     ]
    },
    {
     "name": "stderr",
     "output_type": "stream",
     "text": [
      "100%|██████████| 112/112 [00:01<00:00, 83.94it/s]\n"
     ]
    },
    {
     "name": "stdout",
     "output_type": "stream",
     "text": [
      "========= TEST EVALUATION STARTED =========\n"
     ]
    },
    {
     "name": "stderr",
     "output_type": "stream",
     "text": [
      "100%|██████████| 28/28 [00:00<00:00, 50.43it/s]\n"
     ]
    },
    {
     "name": "stdout",
     "output_type": "stream",
     "text": [
      "END OF 1 EPOCH\n",
      "| Time taken:  10.005 |\n",
      "| Train Loss:   1.098 | Train acc:  0.33218 | Train f1:  0.30312 |\n",
      "| Test Loss:   1.098  | Test acc:  0.33752  | Test f1:  0.30621  |\n",
      "========= EPOCH 2 STARTED =========\n"
     ]
    },
    {
     "name": "stderr",
     "output_type": "stream",
     "text": [
      "100%|██████████| 112/112 [00:01<00:00, 90.97it/s]\n"
     ]
    },
    {
     "name": "stdout",
     "output_type": "stream",
     "text": [
      "========= TRAIN EVALUATION STARTED =========\n"
     ]
    },
    {
     "name": "stderr",
     "output_type": "stream",
     "text": [
      "100%|██████████| 112/112 [00:01<00:00, 91.97it/s]\n"
     ]
    },
    {
     "name": "stdout",
     "output_type": "stream",
     "text": [
      "========= TEST EVALUATION STARTED =========\n"
     ]
    },
    {
     "name": "stderr",
     "output_type": "stream",
     "text": [
      "100%|██████████| 28/28 [00:00<00:00, 118.01it/s]\n"
     ]
    },
    {
     "name": "stdout",
     "output_type": "stream",
     "text": [
      "END OF 2 EPOCH\n",
      "| Time taken:   9.478 |\n",
      "| Train Loss:   1.093 | Train acc:  0.36144 | Train f1:  0.32064 |\n",
      "| Test Loss:   1.092  | Test acc:  0.36244  | Test f1:  0.31924  |\n",
      "========= EPOCH 3 STARTED =========\n"
     ]
    },
    {
     "name": "stderr",
     "output_type": "stream",
     "text": [
      "100%|██████████| 112/112 [00:01<00:00, 78.97it/s] \n"
     ]
    },
    {
     "name": "stdout",
     "output_type": "stream",
     "text": [
      "========= TRAIN EVALUATION STARTED =========\n"
     ]
    },
    {
     "name": "stderr",
     "output_type": "stream",
     "text": [
      "100%|██████████| 112/112 [00:00<00:00, 138.47it/s]\n"
     ]
    },
    {
     "name": "stdout",
     "output_type": "stream",
     "text": [
      "========= TEST EVALUATION STARTED =========\n"
     ]
    },
    {
     "name": "stderr",
     "output_type": "stream",
     "text": [
      "100%|██████████| 28/28 [00:00<00:00, 125.80it/s]\n"
     ]
    },
    {
     "name": "stdout",
     "output_type": "stream",
     "text": [
      "END OF 3 EPOCH\n",
      "| Time taken:   9.612 |\n",
      "| Train Loss:   1.084 | Train acc:  0.41193 | Train f1:  0.34529 |\n",
      "| Test Loss:   1.083  | Test acc:  0.41451  | Test f1:  0.34556  |\n",
      "========= EPOCH 4 STARTED =========\n"
     ]
    },
    {
     "name": "stderr",
     "output_type": "stream",
     "text": [
      "100%|██████████| 112/112 [00:01<00:00, 91.10it/s]\n"
     ]
    },
    {
     "name": "stdout",
     "output_type": "stream",
     "text": [
      "========= TRAIN EVALUATION STARTED =========\n"
     ]
    },
    {
     "name": "stderr",
     "output_type": "stream",
     "text": [
      "100%|██████████| 112/112 [00:00<00:00, 123.38it/s]\n"
     ]
    },
    {
     "name": "stdout",
     "output_type": "stream",
     "text": [
      "========= TEST EVALUATION STARTED =========\n"
     ]
    },
    {
     "name": "stderr",
     "output_type": "stream",
     "text": [
      "100%|██████████| 28/28 [00:00<00:00, 123.46it/s]\n"
     ]
    },
    {
     "name": "stdout",
     "output_type": "stream",
     "text": [
      "END OF 4 EPOCH\n",
      "| Time taken:   9.607 |\n",
      "| Train Loss:   1.077 | Train acc:  0.44343 | Train f1:  0.35996 |\n",
      "| Test Loss:   1.076  | Test acc:  0.44420  | Test f1:  0.36074  |\n",
      "========= EPOCH 5 STARTED =========\n"
     ]
    },
    {
     "name": "stderr",
     "output_type": "stream",
     "text": [
      "100%|██████████| 112/112 [00:01<00:00, 98.45it/s] \n"
     ]
    },
    {
     "name": "stdout",
     "output_type": "stream",
     "text": [
      "========= TRAIN EVALUATION STARTED =========\n"
     ]
    },
    {
     "name": "stderr",
     "output_type": "stream",
     "text": [
      "100%|██████████| 112/112 [00:01<00:00, 110.64it/s]\n"
     ]
    },
    {
     "name": "stdout",
     "output_type": "stream",
     "text": [
      "========= TEST EVALUATION STARTED =========\n"
     ]
    },
    {
     "name": "stderr",
     "output_type": "stream",
     "text": [
      "100%|██████████| 28/28 [00:00<00:00, 146.31it/s]\n"
     ]
    },
    {
     "name": "stdout",
     "output_type": "stream",
     "text": [
      "END OF 5 EPOCH\n",
      "| Time taken:   9.039 |\n",
      "| Train Loss:   1.069 | Train acc:  0.46852 | Train f1:  0.37503 |\n",
      "| Test Loss:   1.068  | Test acc:  0.46870  | Test f1:  0.37627  |\n"
     ]
    },
    {
     "name": "stderr",
     "output_type": "stream",
     "text": [
      "100%|██████████| 28/28 [00:00<00:00, 130.82it/s]\n",
      "[I 2023-12-15 17:47:49,006] Trial 7 finished with value: 0.4686973610331275 and parameters: {'num_layers': 3, 'layer_units_0': 96, 'layer_units_1': 35, 'layer_units_2': 24, 'dropout': 0.4164074652660622, 'lr': 2.5952628847331502e-05}. Best is trial 4 with value: 0.710906793935991.\n"
     ]
    },
    {
     "name": "stdout",
     "output_type": "stream",
     "text": [
      "========= EPOCH 1 STARTED =========\n"
     ]
    },
    {
     "name": "stderr",
     "output_type": "stream",
     "text": [
      "100%|██████████| 112/112 [00:01<00:00, 90.87it/s]\n"
     ]
    },
    {
     "name": "stdout",
     "output_type": "stream",
     "text": [
      "========= TRAIN EVALUATION STARTED =========\n"
     ]
    },
    {
     "name": "stderr",
     "output_type": "stream",
     "text": [
      "100%|██████████| 112/112 [00:01<00:00, 85.46it/s]\n"
     ]
    },
    {
     "name": "stdout",
     "output_type": "stream",
     "text": [
      "========= TEST EVALUATION STARTED =========\n"
     ]
    },
    {
     "name": "stderr",
     "output_type": "stream",
     "text": [
      "100%|██████████| 28/28 [00:00<00:00, 96.10it/s] \n"
     ]
    },
    {
     "name": "stdout",
     "output_type": "stream",
     "text": [
      "END OF 1 EPOCH\n",
      "| Time taken:  10.049 |\n",
      "| Train Loss:   1.087 | Train acc:  0.43714 | Train f1:  0.27799 |\n",
      "| Test Loss:   1.087  | Test acc:  0.43964  | Test f1:  0.28077  |\n",
      "========= EPOCH 2 STARTED =========\n"
     ]
    },
    {
     "name": "stderr",
     "output_type": "stream",
     "text": [
      "100%|██████████| 112/112 [00:01<00:00, 84.84it/s]\n"
     ]
    },
    {
     "name": "stdout",
     "output_type": "stream",
     "text": [
      "========= TRAIN EVALUATION STARTED =========\n"
     ]
    },
    {
     "name": "stderr",
     "output_type": "stream",
     "text": [
      "100%|██████████| 112/112 [00:01<00:00, 97.07it/s] \n"
     ]
    },
    {
     "name": "stdout",
     "output_type": "stream",
     "text": [
      "========= TEST EVALUATION STARTED =========\n"
     ]
    },
    {
     "name": "stderr",
     "output_type": "stream",
     "text": [
      "100%|██████████| 28/28 [00:00<00:00, 115.78it/s]\n"
     ]
    },
    {
     "name": "stdout",
     "output_type": "stream",
     "text": [
      "END OF 2 EPOCH\n",
      "| Time taken:   9.754 |\n",
      "| Train Loss:   1.075 | Train acc:  0.49993 | Train f1:  0.30220 |\n",
      "| Test Loss:   1.075  | Test acc:  0.50119  | Test f1:  0.30613  |\n",
      "========= EPOCH 3 STARTED =========\n"
     ]
    },
    {
     "name": "stderr",
     "output_type": "stream",
     "text": [
      "100%|██████████| 112/112 [00:01<00:00, 82.72it/s]\n"
     ]
    },
    {
     "name": "stdout",
     "output_type": "stream",
     "text": [
      "========= TRAIN EVALUATION STARTED =========\n"
     ]
    },
    {
     "name": "stderr",
     "output_type": "stream",
     "text": [
      "100%|██████████| 112/112 [00:01<00:00, 88.38it/s] \n"
     ]
    },
    {
     "name": "stdout",
     "output_type": "stream",
     "text": [
      "========= TEST EVALUATION STARTED =========\n"
     ]
    },
    {
     "name": "stderr",
     "output_type": "stream",
     "text": [
      "100%|██████████| 28/28 [00:00<00:00, 113.43it/s]\n"
     ]
    },
    {
     "name": "stdout",
     "output_type": "stream",
     "text": [
      "END OF 3 EPOCH\n",
      "| Time taken:   9.738 |\n",
      "| Train Loss:   1.068 | Train acc:  0.53438 | Train f1:  0.33948 |\n",
      "| Test Loss:   1.068  | Test acc:  0.53446  | Test f1:  0.33983  |\n",
      "========= EPOCH 4 STARTED =========\n"
     ]
    },
    {
     "name": "stderr",
     "output_type": "stream",
     "text": [
      "100%|██████████| 112/112 [00:01<00:00, 79.78it/s]\n"
     ]
    },
    {
     "name": "stdout",
     "output_type": "stream",
     "text": [
      "========= TRAIN EVALUATION STARTED =========\n"
     ]
    },
    {
     "name": "stderr",
     "output_type": "stream",
     "text": [
      "100%|██████████| 112/112 [00:01<00:00, 92.00it/s]\n"
     ]
    },
    {
     "name": "stdout",
     "output_type": "stream",
     "text": [
      "========= TEST EVALUATION STARTED =========\n"
     ]
    },
    {
     "name": "stderr",
     "output_type": "stream",
     "text": [
      "100%|██████████| 28/28 [00:00<00:00, 116.05it/s]\n"
     ]
    },
    {
     "name": "stdout",
     "output_type": "stream",
     "text": [
      "END OF 4 EPOCH\n",
      "| Time taken:   9.899 |\n",
      "| Train Loss:   1.058 | Train acc:  0.55019 | Train f1:  0.35044 |\n",
      "| Test Loss:   1.059  | Test acc:  0.55264  | Test f1:  0.35406  |\n",
      "========= EPOCH 5 STARTED =========\n"
     ]
    },
    {
     "name": "stderr",
     "output_type": "stream",
     "text": [
      "100%|██████████| 112/112 [00:01<00:00, 70.55it/s]\n"
     ]
    },
    {
     "name": "stdout",
     "output_type": "stream",
     "text": [
      "========= TRAIN EVALUATION STARTED =========\n"
     ]
    },
    {
     "name": "stderr",
     "output_type": "stream",
     "text": [
      "100%|██████████| 112/112 [00:01<00:00, 84.19it/s]\n"
     ]
    },
    {
     "name": "stdout",
     "output_type": "stream",
     "text": [
      "========= TEST EVALUATION STARTED =========\n"
     ]
    },
    {
     "name": "stderr",
     "output_type": "stream",
     "text": [
      "100%|██████████| 28/28 [00:00<00:00, 115.77it/s]\n"
     ]
    },
    {
     "name": "stdout",
     "output_type": "stream",
     "text": [
      "END OF 5 EPOCH\n",
      "| Time taken:  10.075 |\n",
      "| Train Loss:   1.047 | Train acc:  0.55952 | Train f1:  0.38425 |\n",
      "| Test Loss:   1.048  | Test acc:  0.56211  | Test f1:  0.38939  |\n"
     ]
    },
    {
     "name": "stderr",
     "output_type": "stream",
     "text": [
      "100%|██████████| 28/28 [00:00<00:00, 127.49it/s]\n",
      "[I 2023-12-15 17:48:40,036] Trial 8 finished with value: 0.5621139809096013 and parameters: {'num_layers': 5, 'layer_units_0': 136, 'layer_units_1': 41, 'layer_units_2': 20, 'layer_units_3': 8, 'layer_units_4': 7, 'dropout': 0.269814846299075, 'lr': 7.92329867257528e-05}. Best is trial 4 with value: 0.710906793935991.\n"
     ]
    },
    {
     "name": "stdout",
     "output_type": "stream",
     "text": [
      "========= EPOCH 1 STARTED =========\n"
     ]
    },
    {
     "name": "stderr",
     "output_type": "stream",
     "text": [
      "100%|██████████| 112/112 [00:01<00:00, 93.26it/s]\n"
     ]
    },
    {
     "name": "stdout",
     "output_type": "stream",
     "text": [
      "========= TRAIN EVALUATION STARTED =========\n"
     ]
    },
    {
     "name": "stderr",
     "output_type": "stream",
     "text": [
      "100%|██████████| 112/112 [00:01<00:00, 91.01it/s] \n"
     ]
    },
    {
     "name": "stdout",
     "output_type": "stream",
     "text": [
      "========= TEST EVALUATION STARTED =========\n"
     ]
    },
    {
     "name": "stderr",
     "output_type": "stream",
     "text": [
      "100%|██████████| 28/28 [00:00<00:00, 51.54it/s]\n"
     ]
    },
    {
     "name": "stdout",
     "output_type": "stream",
     "text": [
      "END OF 1 EPOCH\n",
      "| Time taken:   9.810 |\n",
      "| Train Loss:   1.072 | Train acc:  0.48584 | Train f1:  0.35620 |\n",
      "| Test Loss:   1.073  | Test acc:  0.48421  | Test f1:  0.35335  |\n",
      "========= EPOCH 2 STARTED =========\n"
     ]
    },
    {
     "name": "stderr",
     "output_type": "stream",
     "text": [
      "100%|██████████| 112/112 [00:01<00:00, 103.19it/s]\n"
     ]
    },
    {
     "name": "stdout",
     "output_type": "stream",
     "text": [
      "========= TRAIN EVALUATION STARTED =========\n"
     ]
    },
    {
     "name": "stderr",
     "output_type": "stream",
     "text": [
      "100%|██████████| 112/112 [00:01<00:00, 88.01it/s]\n"
     ]
    },
    {
     "name": "stdout",
     "output_type": "stream",
     "text": [
      "========= TEST EVALUATION STARTED =========\n"
     ]
    },
    {
     "name": "stderr",
     "output_type": "stream",
     "text": [
      "100%|██████████| 28/28 [00:00<00:00, 123.17it/s]\n"
     ]
    },
    {
     "name": "stdout",
     "output_type": "stream",
     "text": [
      "END OF 2 EPOCH\n",
      "| Time taken:   9.468 |\n",
      "| Train Loss:   1.054 | Train acc:  0.54833 | Train f1:  0.38748 |\n",
      "| Test Loss:   1.055  | Test acc:  0.54618  | Test f1:  0.38496  |\n",
      "========= EPOCH 3 STARTED =========\n"
     ]
    },
    {
     "name": "stderr",
     "output_type": "stream",
     "text": [
      "100%|██████████| 112/112 [00:01<00:00, 80.65it/s] \n"
     ]
    },
    {
     "name": "stdout",
     "output_type": "stream",
     "text": [
      "========= TRAIN EVALUATION STARTED =========\n"
     ]
    },
    {
     "name": "stderr",
     "output_type": "stream",
     "text": [
      "100%|██████████| 112/112 [00:00<00:00, 142.59it/s]\n"
     ]
    },
    {
     "name": "stdout",
     "output_type": "stream",
     "text": [
      "========= TEST EVALUATION STARTED =========\n"
     ]
    },
    {
     "name": "stderr",
     "output_type": "stream",
     "text": [
      "100%|██████████| 28/28 [00:00<00:00, 126.44it/s]\n"
     ]
    },
    {
     "name": "stdout",
     "output_type": "stream",
     "text": [
      "END OF 3 EPOCH\n",
      "| Time taken:   9.399 |\n",
      "| Train Loss:   1.033 | Train acc:  0.57474 | Train f1:  0.40006 |\n",
      "| Test Loss:   1.034  | Test acc:  0.57229  | Test f1:  0.39847  |\n",
      "========= EPOCH 4 STARTED =========\n"
     ]
    },
    {
     "name": "stderr",
     "output_type": "stream",
     "text": [
      "100%|██████████| 112/112 [00:01<00:00, 84.84it/s]\n"
     ]
    },
    {
     "name": "stdout",
     "output_type": "stream",
     "text": [
      "========= TRAIN EVALUATION STARTED =========\n"
     ]
    },
    {
     "name": "stderr",
     "output_type": "stream",
     "text": [
      "100%|██████████| 112/112 [00:00<00:00, 127.04it/s]\n"
     ]
    },
    {
     "name": "stdout",
     "output_type": "stream",
     "text": [
      "========= TEST EVALUATION STARTED =========\n"
     ]
    },
    {
     "name": "stderr",
     "output_type": "stream",
     "text": [
      "100%|██████████| 28/28 [00:00<00:00, 139.58it/s]\n"
     ]
    },
    {
     "name": "stdout",
     "output_type": "stream",
     "text": [
      "END OF 4 EPOCH\n",
      "| Time taken:   9.260 |\n",
      "| Train Loss:   1.010 | Train acc:  0.59256 | Train f1:  0.40918 |\n",
      "| Test Loss:   1.011  | Test acc:  0.59328  | Test f1:  0.40961  |\n",
      "========= EPOCH 5 STARTED =========\n"
     ]
    },
    {
     "name": "stderr",
     "output_type": "stream",
     "text": [
      "100%|██████████| 112/112 [00:01<00:00, 100.04it/s]\n"
     ]
    },
    {
     "name": "stdout",
     "output_type": "stream",
     "text": [
      "========= TRAIN EVALUATION STARTED =========\n"
     ]
    },
    {
     "name": "stderr",
     "output_type": "stream",
     "text": [
      "100%|██████████| 112/112 [00:01<00:00, 83.10it/s] \n"
     ]
    },
    {
     "name": "stdout",
     "output_type": "stream",
     "text": [
      "========= TEST EVALUATION STARTED =========\n"
     ]
    },
    {
     "name": "stderr",
     "output_type": "stream",
     "text": [
      "100%|██████████| 28/28 [00:00<00:00, 120.52it/s]\n"
     ]
    },
    {
     "name": "stdout",
     "output_type": "stream",
     "text": [
      "END OF 5 EPOCH\n",
      "| Time taken:   9.408 |\n",
      "| Train Loss:   0.990 | Train acc:  0.61101 | Train f1:  0.42241 |\n",
      "| Test Loss:   0.990  | Test acc:  0.61082  | Test f1:  0.42083  |\n"
     ]
    },
    {
     "name": "stderr",
     "output_type": "stream",
     "text": [
      "100%|██████████| 28/28 [00:00<00:00, 140.76it/s]\n",
      "[I 2023-12-15 17:49:28,909] Trial 9 finished with value: 0.610822571588995 and parameters: {'num_layers': 3, 'layer_units_0': 91, 'layer_units_1': 40, 'layer_units_2': 26, 'dropout': 0.4266351308645135, 'lr': 6.992017172178716e-05}. Best is trial 4 with value: 0.710906793935991.\n"
     ]
    },
    {
     "name": "stdout",
     "output_type": "stream",
     "text": [
      "Best hyperparameters: {'num_layers': 2, 'layer_units_0': 69, 'layer_units_1': 40, 'dropout': 0.33324467180858974, 'lr': 0.0014441788221137082}\n",
      "========= EPOCH 1 STARTED =========\n"
     ]
    },
    {
     "name": "stderr",
     "output_type": "stream",
     "text": [
      "100%|██████████| 112/112 [00:01<00:00, 93.96it/s]\n"
     ]
    },
    {
     "name": "stdout",
     "output_type": "stream",
     "text": [
      "========= TRAIN EVALUATION STARTED =========\n"
     ]
    },
    {
     "name": "stderr",
     "output_type": "stream",
     "text": [
      "100%|██████████| 112/112 [00:01<00:00, 86.27it/s] \n"
     ]
    },
    {
     "name": "stdout",
     "output_type": "stream",
     "text": [
      "========= TEST EVALUATION STARTED =========\n"
     ]
    },
    {
     "name": "stderr",
     "output_type": "stream",
     "text": [
      "100%|██████████| 28/28 [00:00<00:00, 50.66it/s]\n"
     ]
    },
    {
     "name": "stdout",
     "output_type": "stream",
     "text": [
      "END OF 1 EPOCH\n",
      "| Time taken:  10.117 |\n",
      "| Train Loss:   0.870 | Train acc:  0.67713 | Train f1:  0.45606 |\n",
      "| Test Loss:   0.871  | Test acc:  0.67666  | Test f1:  0.45548  |\n",
      "========= EPOCH 2 STARTED =========\n"
     ]
    },
    {
     "name": "stderr",
     "output_type": "stream",
     "text": [
      "100%|██████████| 112/112 [00:01<00:00, 99.68it/s]\n"
     ]
    },
    {
     "name": "stdout",
     "output_type": "stream",
     "text": [
      "========= TRAIN EVALUATION STARTED =========\n"
     ]
    },
    {
     "name": "stderr",
     "output_type": "stream",
     "text": [
      "100%|██████████| 112/112 [00:01<00:00, 99.61it/s]\n"
     ]
    },
    {
     "name": "stdout",
     "output_type": "stream",
     "text": [
      "========= TEST EVALUATION STARTED =========\n"
     ]
    },
    {
     "name": "stderr",
     "output_type": "stream",
     "text": [
      "100%|██████████| 28/28 [00:00<00:00, 114.25it/s]\n"
     ]
    },
    {
     "name": "stdout",
     "output_type": "stream",
     "text": [
      "END OF 2 EPOCH\n",
      "| Time taken:   9.463 |\n",
      "| Train Loss:   0.837 | Train acc:  0.71494 | Train f1:  0.49069 |\n",
      "| Test Loss:   0.841  | Test acc:  0.71070  | Test f1:  0.48642  |\n",
      "========= EPOCH 3 STARTED =========\n"
     ]
    },
    {
     "name": "stderr",
     "output_type": "stream",
     "text": [
      "100%|██████████| 112/112 [00:01<00:00, 91.94it/s]\n"
     ]
    },
    {
     "name": "stdout",
     "output_type": "stream",
     "text": [
      "========= TRAIN EVALUATION STARTED =========\n"
     ]
    },
    {
     "name": "stderr",
     "output_type": "stream",
     "text": [
      "100%|██████████| 112/112 [00:01<00:00, 81.05it/s] \n"
     ]
    },
    {
     "name": "stdout",
     "output_type": "stream",
     "text": [
      "========= TEST EVALUATION STARTED =========\n"
     ]
    },
    {
     "name": "stderr",
     "output_type": "stream",
     "text": [
      "100%|██████████| 28/28 [00:00<00:00, 124.46it/s]\n"
     ]
    },
    {
     "name": "stdout",
     "output_type": "stream",
     "text": [
      "END OF 3 EPOCH\n",
      "| Time taken:  10.030 |\n",
      "| Train Loss:   0.840 | Train acc:  0.71503 | Train f1:  0.48947 |\n",
      "| Test Loss:   0.845  | Test acc:  0.70915  | Test f1:  0.48414  |\n",
      "========= EPOCH 4 STARTED =========\n"
     ]
    },
    {
     "name": "stderr",
     "output_type": "stream",
     "text": [
      "100%|██████████| 112/112 [00:01<00:00, 105.96it/s]\n"
     ]
    },
    {
     "name": "stdout",
     "output_type": "stream",
     "text": [
      "========= TRAIN EVALUATION STARTED =========\n"
     ]
    },
    {
     "name": "stderr",
     "output_type": "stream",
     "text": [
      "100%|██████████| 112/112 [00:01<00:00, 92.94it/s]\n"
     ]
    },
    {
     "name": "stdout",
     "output_type": "stream",
     "text": [
      "========= TEST EVALUATION STARTED =========\n"
     ]
    },
    {
     "name": "stderr",
     "output_type": "stream",
     "text": [
      "100%|██████████| 28/28 [00:00<00:00, 139.65it/s]\n"
     ]
    },
    {
     "name": "stdout",
     "output_type": "stream",
     "text": [
      "END OF 4 EPOCH\n",
      "| Time taken:   9.829 |\n",
      "| Train Loss:   0.881 | Train acc:  0.67913 | Train f1:  0.47502 |\n",
      "| Test Loss:   0.887  | Test acc:  0.67062  | Test f1:  0.46828  |\n",
      "========= EPOCH 5 STARTED =========\n"
     ]
    },
    {
     "name": "stderr",
     "output_type": "stream",
     "text": [
      "100%|██████████| 112/112 [00:01<00:00, 100.11it/s]\n"
     ]
    },
    {
     "name": "stdout",
     "output_type": "stream",
     "text": [
      "========= TRAIN EVALUATION STARTED =========\n"
     ]
    },
    {
     "name": "stderr",
     "output_type": "stream",
     "text": [
      "100%|██████████| 112/112 [00:01<00:00, 102.45it/s]\n"
     ]
    },
    {
     "name": "stdout",
     "output_type": "stream",
     "text": [
      "========= TEST EVALUATION STARTED =========\n"
     ]
    },
    {
     "name": "stderr",
     "output_type": "stream",
     "text": [
      "100%|██████████| 28/28 [00:00<00:00, 123.30it/s]\n"
     ]
    },
    {
     "name": "stdout",
     "output_type": "stream",
     "text": [
      "END OF 5 EPOCH\n",
      "| Time taken:   9.522 |\n",
      "| Train Loss:   0.835 | Train acc:  0.71638 | Train f1:  0.49175 |\n",
      "| Test Loss:   0.840  | Test acc:  0.71112  | Test f1:  0.48656  |\n",
      "0.7111173498034812\n"
     ]
    }
   ],
   "source": [
    "study = optuna.create_study(direction='maximize')\n",
    "study.optimize(objective1, n_trials=10)  # You can increase n_trials for more optimization\n",
    "\n",
    "# Get the best hyperparameters found by Optuna\n",
    "best_params = study.best_params\n",
    "print(\"Best hyperparameters:\", best_params)\n",
    "\n",
    "layer_units = [X.shape[1]] + [best_params[f'layer_units_{i}'] for i in range(best_params['num_layers'])]\n",
    "best_model = nn.Sequential(\n",
    "    *(nn.Sequential(nn.Linear(layer_units[i], layer_units[i + 1]),\n",
    "                    nn.ReLU(),\n",
    "                    nn.BatchNorm1d(layer_units[i + 1]),\n",
    "                    nn.Dropout(best_params['dropout'])) for i in range(best_params['num_layers'])),\n",
    "    nn.Linear(layer_units[-1], 3)  # Assuming 3 output classes\n",
    ").to(device)\n",
    "\n",
    "best_lr = best_params['lr']\n",
    "best_optimiser = torch.optim.Adam(best_model.parameters(), lr=best_lr)\n",
    "\n",
    "train_model(best_model, train_dataloader, test_dataloader, best_optimiser)\n",
    "\n",
    "# Use the trained model for predictions or further evaluation as needed\n",
    "test_data = torch.tensor(X_test.iloc[:, 0:-1].values.astype(np.int64), dtype=torch.float32)\n",
    "output_probs = nn.Softmax(dim=-1)(best_model(test_data))\n",
    "preds = torch.max(output_probs.data, 1)\n",
    "vals = preds.indices.numpy()\n",
    "actual = Y_test['readmission_id'].to_numpy()\n",
    "print(accuracy_score(vals, actual))"
   ]
  },
  {
   "cell_type": "code",
   "execution_count": 320,
   "metadata": {},
   "outputs": [
    {
     "data": {
      "text/plain": [
       "(30530, 136)"
      ]
     },
     "execution_count": 320,
     "metadata": {},
     "output_type": "execute_result"
    }
   ],
   "source": [
    "test_df = pd.read_csv(\"./test_data.csv\")\n",
    "test_df.shape"
   ]
  },
  {
   "cell_type": "code",
   "execution_count": 321,
   "metadata": {},
   "outputs": [
    {
     "name": "stdout",
     "output_type": "stream",
     "text": [
      "tensor([[ 0.5538,  6.6360, -8.0452],\n",
      "        [-2.0620, -3.6536,  5.9179],\n",
      "        [ 0.7354,  7.4961, -9.2035],\n",
      "        ...,\n",
      "        [ 0.0532,  6.4662, -7.8658],\n",
      "        [ 0.2993,  6.9499, -8.3833],\n",
      "        [-2.0339,  3.3378, -1.9788]], grad_fn=<AddmmBackward0>)\n"
     ]
    }
   ],
   "source": [
    "test_data = torch.tensor(test_df.values.astype(np.int64), dtype=torch.float32)\n",
    "print(best_model.forward(test_data))"
   ]
  },
  {
   "cell_type": "code",
   "execution_count": 322,
   "metadata": {},
   "outputs": [
    {
     "data": {
      "text/plain": [
       "array([1, 2, 1, ..., 1, 1, 1])"
      ]
     },
     "execution_count": 322,
     "metadata": {},
     "output_type": "execute_result"
    }
   ],
   "source": [
    "output_probs = nn.Softmax(dim=-1)(model(test_data))\n",
    "preds = torch.max(output_probs.data, 1)\n",
    "vals = preds.indices.numpy()\n",
    "vals"
   ]
  },
  {
   "cell_type": "code",
   "execution_count": 323,
   "metadata": {},
   "outputs": [],
   "source": [
    "df_output = pd.read_csv(\"./canadian-hospital-re-admittance-challenge/sample_submission.csv\")\n",
    "df_output[\"readmission_id\"] = vals\n",
    "df_output.to_csv(\"submission2.csv\", index=False)"
   ]
  }
 ],
 "metadata": {
  "kernelspec": {
   "display_name": "base",
   "language": "python",
   "name": "python3"
  },
  "language_info": {
   "codemirror_mode": {
    "name": "ipython",
    "version": 3
   },
   "file_extension": ".py",
   "mimetype": "text/x-python",
   "name": "python",
   "nbconvert_exporter": "python",
   "pygments_lexer": "ipython3",
   "version": "3.11.5"
  }
 },
 "nbformat": 4,
 "nbformat_minor": 2
}
