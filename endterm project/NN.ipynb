{
 "cells": [
  {
   "cell_type": "markdown",
   "metadata": {},
   "source": [
    "# Hospital Readmission Prediction - Neural Networks\n",
    "\n",
    "This notebook contain the code for Candian Hospital Re-Admission using neural networks."
   ]
  },
  {
   "cell_type": "code",
   "execution_count": 2,
   "metadata": {},
   "outputs": [],
   "source": [
    "import numpy as np\n",
    "import pandas as pd\n",
    "import matplotlib.pyplot as plt\n",
    "import seaborn as sns\n",
    "from sklearn.model_selection import train_test_split\n",
    "from sklearn.metrics import accuracy_score,f1_score,confusion_matrix,ConfusionMatrixDisplay\n",
    "from sklearn.preprocessing import LabelEncoder\n",
    "from sklearn.preprocessing import OneHotEncoder\n",
    "from sklearn.metrics import accuracy_score\n",
    "from pprint import pprint\n",
    "\n",
    "import torch\n",
    "import torch.nn as nn\n",
    "from torch.utils.data import Dataset, DataLoader\n",
    "from tqdm import tqdm\n",
    "import optuna\n",
    "\n",
    "import gc\n",
    "import time\n",
    "\n",
    "device = torch.device('cuda' if torch.cuda.is_available() else 'cpu')"
   ]
  },
  {
   "cell_type": "markdown",
   "metadata": {},
   "source": [
    "Reading the appropriate data and storing it in the dataframe.\n"
   ]
  },
  {
   "cell_type": "code",
   "execution_count": 3,
   "metadata": {},
   "outputs": [],
   "source": [
    "df = pd.read_csv(\"./processed_data.csv\")"
   ]
  },
  {
   "cell_type": "code",
   "execution_count": 4,
   "metadata": {},
   "outputs": [],
   "source": [
    "X = df.iloc[:, :-1]\n",
    "Y = df.iloc[:, -1]\n",
    "\n",
    "# for col in X.columns:\n",
    "#     if (col == 'readmission_id'):\n",
    "#         print(col)"
   ]
  },
  {
   "cell_type": "markdown",
   "metadata": {},
   "source": [
    "Code for Neural Network with 4 input layers and one ouput layers."
   ]
  },
  {
   "cell_type": "code",
   "execution_count": 5,
   "metadata": {},
   "outputs": [],
   "source": [
    "class ANN(nn.Module):\n",
    "    def __init__(\n",
    "        self,\n",
    "        in_dim: int,\n",
    "        hidden_dim_1: int,\n",
    "        hidden_dim_2: int,\n",
    "        hidden_dim_3: int,\n",
    "        hidden_dim_4: int,\n",
    "        n_classes:int = 3,\n",
    "        dropout: float = 0.3\n",
    "    ):\n",
    "        super().__init__()\n",
    "\n",
    "        self.layer1 = nn.Sequential(\n",
    "            nn.Linear(in_features=in_dim, out_features=hidden_dim_1),\n",
    "            nn.ReLU(),\n",
    "            nn.BatchNorm1d(hidden_dim_1),\n",
    "            nn.Dropout(dropout),\n",
    "        )\n",
    "        self.layer2 = nn.Sequential(\n",
    "            nn.Linear(in_features=hidden_dim_1, out_features=hidden_dim_2),\n",
    "            nn.ReLU(),\n",
    "            nn.BatchNorm1d(hidden_dim_2),\n",
    "            nn.Dropout(dropout),\n",
    "        )\n",
    "        self.layer3 = nn.Sequential(\n",
    "            nn.Linear(in_features=hidden_dim_2, out_features=hidden_dim_3),\n",
    "            nn.ReLU(),\n",
    "            nn.BatchNorm1d(hidden_dim_3),\n",
    "            nn.Dropout(dropout),\n",
    "        )\n",
    "        self.layer4 = nn.Sequential(\n",
    "            nn.Linear(in_features=hidden_dim_3, out_features=hidden_dim_4),\n",
    "            nn.ReLU(),\n",
    "            nn.BatchNorm1d(hidden_dim_4),\n",
    "            nn.Dropout(dropout),\n",
    "        )\n",
    "        self.output_layer = nn.Linear(in_features=hidden_dim_4, out_features=n_classes)\n",
    "\n",
    "    def forward(self, x: torch.Tensor) -> torch.Tensor:\n",
    "        \"\"\"\n",
    "            Args:\n",
    "                x (torch.Tensor): (batch_size, in_dim) the input\n",
    "\n",
    "            Output:\n",
    "                (torch.Tensor): (batch_size, n_classes) the output\n",
    "        \"\"\"\n",
    "        x = self.layer1(x)\n",
    "        x = self.layer2(x)\n",
    "        x = self.layer3(x)\n",
    "        x = self.layer4(x)\n",
    "        x = self.output_layer(x)\n",
    "\n",
    "        return x"
   ]
  },
  {
   "cell_type": "code",
   "execution_count": 6,
   "metadata": {},
   "outputs": [],
   "source": [
    "class Data(Dataset):\n",
    "    def __init__(\n",
    "        self,\n",
    "        data\n",
    "    ):\n",
    "        n = data.shape[1]\n",
    "        self.features = torch.tensor(data.iloc[:, 0:n-1].values.astype(np.int64), dtype=torch.float32)\n",
    "        self.labels = torch.tensor(data.iloc[:, -1].values.astype(np.int64), dtype=torch.int64)\n",
    "    # def _build(self):\n",
    "        # scaler = MinMaxScaler(feature_range=())\n",
    "        # scaler = StandardScaler()\n",
    "\n",
    "    def __getitem__(self, index):\n",
    "        return self.features[index], self.labels[index]\n",
    "\n",
    "    def __len__(self):\n",
    "        return len(self.features)"
   ]
  },
  {
   "cell_type": "markdown",
   "metadata": {},
   "source": [
    "Doing the required test,train split with 80:20 ration respectively."
   ]
  },
  {
   "cell_type": "code",
   "execution_count": 7,
   "metadata": {},
   "outputs": [],
   "source": [
    "X_train, X_test, Y_train, Y_test = train_test_split(X, Y, test_size=0.2, random_state=0, stratify=Y)\n",
    "X_train = pd.DataFrame(X_train)\n",
    "Y_train = pd.DataFrame(Y_train)\n",
    "X_test = pd.DataFrame(X_test)\n",
    "Y_test = pd.DataFrame(Y_test)\n",
    "\n",
    "X_train = pd.concat([X_train, Y_train], axis=1)\n",
    "X_test = pd.concat([X_test, Y_test], axis=1)"
   ]
  },
  {
   "cell_type": "code",
   "execution_count": 8,
   "metadata": {},
   "outputs": [
    {
     "name": "stdout",
     "output_type": "stream",
     "text": [
      "admission_source_id_new_1     bool\n",
      "admission_source_id_new_2     bool\n",
      "admission_source_id_new_3     bool\n",
      "admission_source_id_new_4     bool\n",
      "admission_source_id_new_5     bool\n",
      "                             ...  \n",
      "number_outpatient            int64\n",
      "patient_id_new               int64\n",
      "service_utilization          int64\n",
      "time_in_hospital             int64\n",
      "readmission_id               int64\n",
      "Length: 137, dtype: object\n"
     ]
    }
   ],
   "source": [
    "print(X_train.dtypes)"
   ]
  },
  {
   "cell_type": "markdown",
   "metadata": {},
   "source": [
    "Passing the split data into the custom Data class for organization."
   ]
  },
  {
   "cell_type": "code",
   "execution_count": 9,
   "metadata": {},
   "outputs": [],
   "source": [
    "train_dataset = Data(data=X_train)\n",
    "test_dataset = Data(data=X_test)"
   ]
  },
  {
   "cell_type": "markdown",
   "metadata": {},
   "source": [
    "Setting the batch size."
   ]
  },
  {
   "cell_type": "code",
   "execution_count": 10,
   "metadata": {},
   "outputs": [],
   "source": [
    "train_batchsize = 512\n",
    "val_batchsize = 512"
   ]
  },
  {
   "cell_type": "markdown",
   "metadata": {},
   "source": [
    "Loading the data into DataLoaded which will then make it useful for loading and handling the pre-processed data into the neural networks."
   ]
  },
  {
   "cell_type": "code",
   "execution_count": 11,
   "metadata": {},
   "outputs": [],
   "source": [
    "train_dataloader = DataLoader(dataset=train_dataset, batch_size=train_batchsize, shuffle=True)\n",
    "test_dataloader = DataLoader(dataset=test_dataset, batch_size=val_batchsize, shuffle=True)"
   ]
  },
  {
   "cell_type": "code",
   "execution_count": 12,
   "metadata": {},
   "outputs": [],
   "source": [
    "n_epochs = 5"
   ]
  },
  {
   "cell_type": "code",
   "execution_count": 13,
   "metadata": {},
   "outputs": [
    {
     "data": {
      "text/plain": [
       "136"
      ]
     },
     "execution_count": 13,
     "metadata": {},
     "output_type": "execute_result"
    }
   ],
   "source": [
    "in_dim = X.shape[1]\n",
    "in_dim"
   ]
  },
  {
   "cell_type": "code",
   "execution_count": 14,
   "metadata": {},
   "outputs": [],
   "source": [
    "model = ANN(\n",
    "    in_dim=in_dim,\n",
    "    hidden_dim_1=in_dim//2,\n",
    "    hidden_dim_2=in_dim//4,\n",
    "    hidden_dim_3=in_dim//8,\n",
    "    hidden_dim_4=3\n",
    ").to(device)"
   ]
  },
  {
   "cell_type": "markdown",
   "metadata": {},
   "source": [
    "Using `Adam` optimizer and `Cross Entropy Loss` for fitting of our model."
   ]
  },
  {
   "cell_type": "code",
   "execution_count": 15,
   "metadata": {},
   "outputs": [],
   "source": [
    "lr = 1e-3\n",
    "optimiser = torch.optim.Adam(model.parameters(), lr=lr)\n",
    "\n",
    "loss_fn = torch.nn.CrossEntropyLoss()"
   ]
  },
  {
   "cell_type": "code",
   "execution_count": 16,
   "metadata": {},
   "outputs": [],
   "source": [
    "sanity_check=False"
   ]
  },
  {
   "cell_type": "markdown",
   "metadata": {},
   "source": [
    "Epoch Code that takes cares of each iteration and uses the Adam optimizer defined above."
   ]
  },
  {
   "cell_type": "code",
   "execution_count": 17,
   "metadata": {},
   "outputs": [],
   "source": [
    "def train_epoch(\n",
    "    model,\n",
    "    dataloader,\n",
    "    optimiser\n",
    "):\n",
    "    model.train()\n",
    "\n",
    "    for batch in tqdm(dataloader):\n",
    "        x, y = batch[0], batch[1]\n",
    "\n",
    "        output = model(x)\n",
    "        output = nn.Softmax(dim=-1)(output)\n",
    "        loss = loss_fn(output, y)\n",
    "\n",
    "        optimiser.zero_grad()\n",
    "        loss.backward()\n",
    "        optimiser.step()\n",
    "\n",
    "        if sanity_check:\n",
    "            break\n",
    "\n",
    "def validate(\n",
    "    model,\n",
    "    dataloader\n",
    "):\n",
    "    model.eval()\n",
    "    total_loss = 0\n",
    "    predictions = []\n",
    "    truths = []\n",
    "\n",
    "    with torch.no_grad():\n",
    "        for batch in tqdm(dataloader):\n",
    "            x, y = batch[0], batch[1]\n",
    "\n",
    "            output = model(x)\n",
    "            output = nn.Softmax(dim=-1)(output)\n",
    "            loss = loss_fn(output, y)\n",
    "            total_loss += loss.detach().cpu().item()/len(dataloader)\n",
    "\n",
    "            preds = torch.argmax(output, dim=-1)\n",
    "            predictions.extend(preds.cpu())\n",
    "            truths.extend(y.cpu())\n",
    "\n",
    "            if sanity_check:\n",
    "                break\n",
    "\n",
    "    acc = accuracy_score(y_true=truths, y_pred=predictions)\n",
    "    f1 = f1_score(y_true=truths, y_pred=predictions, average='macro')\n",
    "\n",
    "    return total_loss, acc, f1"
   ]
  },
  {
   "cell_type": "markdown",
   "metadata": {},
   "source": [
    "Training Model code"
   ]
  },
  {
   "cell_type": "code",
   "execution_count": 18,
   "metadata": {},
   "outputs": [],
   "source": [
    "def train_model(\n",
    "    model,\n",
    "    train_dataloader,\n",
    "    test_dataloader,\n",
    "    optimiser\n",
    "):\n",
    "    for epoch in range(1, n_epochs+1):\n",
    "        start_time = time.time()\n",
    "\n",
    "        print(f\"========= EPOCH {epoch} STARTED =========\")\n",
    "        train_epoch(model=model, dataloader=train_dataloader, optimiser=optimiser)\n",
    "\n",
    "        print(f\"========= TRAIN EVALUATION STARTED =========\")\n",
    "        train_val_op = validate(model=model, dataloader=train_dataloader)\n",
    "\n",
    "        print(f\"========= TEST EVALUATION STARTED =========\")\n",
    "        test_val_op = validate(model=model, dataloader=test_dataloader)\n",
    "\n",
    "        print(f\"END OF {epoch} EPOCH\")\n",
    "        print(f\"| Time taken: {time.time() - start_time: 7.3f} |\")\n",
    "        print(f\"| Train Loss: {train_val_op[0]: 7.3f} | Train acc: {train_val_op[1]: 1.5f} | Train f1: {train_val_op[2]: 1.5f} |\")\n",
    "        print(f\"| Test Loss: {test_val_op[0]: 7.3f}  | Test acc: {test_val_op[1]: 1.5f}  | Test f1: {test_val_op[2]: 1.5f}  |\")\n",
    "\n",
    "        if sanity_check:\n",
    "            break"
   ]
  },
  {
   "cell_type": "code",
   "execution_count": 19,
   "metadata": {},
   "outputs": [
    {
     "name": "stdout",
     "output_type": "stream",
     "text": [
      "========= EPOCH 1 STARTED =========\n"
     ]
    },
    {
     "name": "stderr",
     "output_type": "stream",
     "text": [
      "100%|██████████| 112/112 [00:01<00:00, 91.89it/s] \n"
     ]
    },
    {
     "name": "stdout",
     "output_type": "stream",
     "text": [
      "========= TRAIN EVALUATION STARTED =========\n"
     ]
    },
    {
     "name": "stderr",
     "output_type": "stream",
     "text": [
      "100%|██████████| 112/112 [00:01<00:00, 104.86it/s]\n"
     ]
    },
    {
     "name": "stdout",
     "output_type": "stream",
     "text": [
      "========= TEST EVALUATION STARTED =========\n"
     ]
    },
    {
     "name": "stderr",
     "output_type": "stream",
     "text": [
      "100%|██████████| 28/28 [00:00<00:00, 144.74it/s]\n"
     ]
    },
    {
     "name": "stdout",
     "output_type": "stream",
     "text": [
      "END OF 1 EPOCH\n",
      "| Time taken:   8.461 |\n",
      "| Train Loss:   1.000 | Train acc:  0.63991 | Train f1:  0.43530 |\n",
      "| Test Loss:   1.002  | Test acc:  0.63574  | Test f1:  0.43152  |\n",
      "========= EPOCH 2 STARTED =========\n"
     ]
    },
    {
     "name": "stderr",
     "output_type": "stream",
     "text": [
      "100%|██████████| 112/112 [00:00<00:00, 121.05it/s]\n"
     ]
    },
    {
     "name": "stdout",
     "output_type": "stream",
     "text": [
      "========= TRAIN EVALUATION STARTED =========\n"
     ]
    },
    {
     "name": "stderr",
     "output_type": "stream",
     "text": [
      "100%|██████████| 112/112 [00:00<00:00, 124.50it/s]\n"
     ]
    },
    {
     "name": "stdout",
     "output_type": "stream",
     "text": [
      "========= TEST EVALUATION STARTED =========\n"
     ]
    },
    {
     "name": "stderr",
     "output_type": "stream",
     "text": [
      "100%|██████████| 28/28 [00:00<00:00, 69.15it/s] \n"
     ]
    },
    {
     "name": "stdout",
     "output_type": "stream",
     "text": [
      "END OF 2 EPOCH\n",
      "| Time taken:   8.118 |\n",
      "| Train Loss:   0.896 | Train acc:  0.69725 | Train f1:  0.47841 |\n",
      "| Test Loss:   0.898  | Test acc:  0.69350  | Test f1:  0.47492  |\n",
      "========= EPOCH 3 STARTED =========\n"
     ]
    },
    {
     "name": "stderr",
     "output_type": "stream",
     "text": [
      "100%|██████████| 112/112 [00:00<00:00, 112.73it/s]\n"
     ]
    },
    {
     "name": "stdout",
     "output_type": "stream",
     "text": [
      "========= TRAIN EVALUATION STARTED =========\n"
     ]
    },
    {
     "name": "stderr",
     "output_type": "stream",
     "text": [
      "100%|██████████| 112/112 [00:00<00:00, 131.57it/s]\n"
     ]
    },
    {
     "name": "stdout",
     "output_type": "stream",
     "text": [
      "========= TEST EVALUATION STARTED =========\n"
     ]
    },
    {
     "name": "stderr",
     "output_type": "stream",
     "text": [
      "100%|██████████| 28/28 [00:00<00:00, 136.16it/s]\n"
     ]
    },
    {
     "name": "stdout",
     "output_type": "stream",
     "text": [
      "END OF 3 EPOCH\n",
      "| Time taken:   8.153 |\n",
      "| Train Loss:   0.865 | Train acc:  0.71278 | Train f1:  0.48842 |\n",
      "| Test Loss:   0.869  | Test acc:  0.70663  | Test f1:  0.48319  |\n",
      "========= EPOCH 4 STARTED =========\n"
     ]
    },
    {
     "name": "stderr",
     "output_type": "stream",
     "text": [
      "100%|██████████| 112/112 [00:00<00:00, 117.07it/s]\n"
     ]
    },
    {
     "name": "stdout",
     "output_type": "stream",
     "text": [
      "========= TRAIN EVALUATION STARTED =========\n"
     ]
    },
    {
     "name": "stderr",
     "output_type": "stream",
     "text": [
      "100%|██████████| 112/112 [00:01<00:00, 104.83it/s]\n"
     ]
    },
    {
     "name": "stdout",
     "output_type": "stream",
     "text": [
      "========= TEST EVALUATION STARTED =========\n"
     ]
    },
    {
     "name": "stderr",
     "output_type": "stream",
     "text": [
      "100%|██████████| 28/28 [00:00<00:00, 166.29it/s]\n"
     ]
    },
    {
     "name": "stdout",
     "output_type": "stream",
     "text": [
      "END OF 4 EPOCH\n",
      "| Time taken:   8.211 |\n",
      "| Train Loss:   0.841 | Train acc:  0.71720 | Train f1:  0.48999 |\n",
      "| Test Loss:   0.846  | Test acc:  0.71189  | Test f1:  0.48542  |\n",
      "========= EPOCH 5 STARTED =========\n"
     ]
    },
    {
     "name": "stderr",
     "output_type": "stream",
     "text": [
      "100%|██████████| 112/112 [00:00<00:00, 115.03it/s]\n"
     ]
    },
    {
     "name": "stdout",
     "output_type": "stream",
     "text": [
      "========= TRAIN EVALUATION STARTED =========\n"
     ]
    },
    {
     "name": "stderr",
     "output_type": "stream",
     "text": [
      "100%|██████████| 112/112 [00:00<00:00, 118.53it/s]\n"
     ]
    },
    {
     "name": "stdout",
     "output_type": "stream",
     "text": [
      "========= TEST EVALUATION STARTED =========\n"
     ]
    },
    {
     "name": "stderr",
     "output_type": "stream",
     "text": [
      "100%|██████████| 28/28 [00:00<00:00, 170.64it/s]\n"
     ]
    },
    {
     "name": "stdout",
     "output_type": "stream",
     "text": [
      "END OF 5 EPOCH\n",
      "| Time taken:   7.865 |\n",
      "| Train Loss:   0.837 | Train acc:  0.71852 | Train f1:  0.49032 |\n",
      "| Test Loss:   0.841  | Test acc:  0.71435  | Test f1:  0.48644  |\n"
     ]
    }
   ],
   "source": [
    "train_model(\n",
    "    model=model,\n",
    "    train_dataloader=train_dataloader,\n",
    "    test_dataloader=test_dataloader,\n",
    "    optimiser=optimiser\n",
    ")"
   ]
  },
  {
   "cell_type": "code",
   "execution_count": 20,
   "metadata": {},
   "outputs": [
    {
     "name": "stdout",
     "output_type": "stream",
     "text": [
      "tensor([[-1.6961, -2.2239,  2.4339],\n",
      "        [ 0.7525,  3.3789, -1.4703],\n",
      "        [-2.0583, -2.7529,  2.7549],\n",
      "        ...,\n",
      "        [ 0.8503,  3.9909, -1.7721],\n",
      "        [ 0.4938,  3.1449, -1.5188],\n",
      "        [-1.6964, -2.2302,  2.4854]], grad_fn=<AddmmBackward0>)\n"
     ]
    }
   ],
   "source": [
    "test_data = torch.tensor(X_test.iloc[:, 0:-1].values.astype(np.int64), dtype=torch.float32)\n",
    "print(model.forward(test_data))"
   ]
  },
  {
   "cell_type": "markdown",
   "metadata": {},
   "source": [
    "Getting the last output and putting it through the `SoftMax` to get the required probabilities."
   ]
  },
  {
   "cell_type": "code",
   "execution_count": 21,
   "metadata": {},
   "outputs": [
    {
     "data": {
      "text/plain": [
       "tensor([[0.0157, 0.0093, 0.9751],\n",
       "        [0.0670, 0.9258, 0.0073],\n",
       "        [0.0080, 0.0040, 0.9880],\n",
       "        ...,\n",
       "        [0.0413, 0.9557, 0.0030],\n",
       "        [0.0653, 0.9259, 0.0087],\n",
       "        [0.0149, 0.0087, 0.9763]], grad_fn=<SoftmaxBackward0>)"
      ]
     },
     "execution_count": 21,
     "metadata": {},
     "output_type": "execute_result"
    }
   ],
   "source": [
    "output_probs = nn.Softmax(dim=-1)(model(test_data))\n",
    "output_probs"
   ]
  },
  {
   "cell_type": "markdown",
   "metadata": {},
   "source": [
    "Getting the max probabilities for the accurate class prediction."
   ]
  },
  {
   "cell_type": "code",
   "execution_count": 22,
   "metadata": {},
   "outputs": [
    {
     "name": "stdout",
     "output_type": "stream",
     "text": [
      "[2 1 2 ... 1 1 2]\n"
     ]
    }
   ],
   "source": [
    "preds = torch.max(output_probs.data, 1)\n",
    "# print(preds)\n",
    "vals = preds.indices.numpy()\n",
    "print(vals)"
   ]
  },
  {
   "cell_type": "code",
   "execution_count": 23,
   "metadata": {},
   "outputs": [
    {
     "data": {
      "text/plain": [
       "array([1, 1, 1, ..., 1, 1, 0])"
      ]
     },
     "execution_count": 23,
     "metadata": {},
     "output_type": "execute_result"
    }
   ],
   "source": [
    "actual = Y_test['readmission_id'].to_numpy()\n",
    "actual"
   ]
  },
  {
   "cell_type": "code",
   "execution_count": 24,
   "metadata": {},
   "outputs": [
    {
     "name": "stdout",
     "output_type": "stream",
     "text": [
      "0.7143458731049972\n"
     ]
    }
   ],
   "source": [
    "print(accuracy_score(vals, actual))"
   ]
  },
  {
   "cell_type": "markdown",
   "metadata": {},
   "source": [
    "Using Optuna for hyper-parameter tuning of the trained model."
   ]
  },
  {
   "cell_type": "code",
   "execution_count": 25,
   "metadata": {},
   "outputs": [],
   "source": [
    "def objective(trial):\n",
    "    in_dim = X.shape[1]\n",
    "    hidden_dim_1 = trial.suggest_int('hidden_dim_1', in_dim // 4, in_dim // 2)\n",
    "    hidden_dim_2 = trial.suggest_int('hidden_dim_2', in_dim // 8, in_dim // 4)\n",
    "    hidden_dim_3 = trial.suggest_int('hidden_dim_3', in_dim // 16, in_dim // 8)\n",
    "    dropout = trial.suggest_float('dropout', 0.2, 0.5)\n",
    "    lr = trial.suggest_float('lr', 1e-5, 1e-2, log=True)  # Logarithmic scale for lr\n",
    "\n",
    "    model = ANN(\n",
    "        in_dim=in_dim,\n",
    "        hidden_dim_1=hidden_dim_1,\n",
    "        hidden_dim_2=hidden_dim_2,\n",
    "        hidden_dim_3=hidden_dim_3,\n",
    "        hidden_dim_4=3,\n",
    "        dropout=dropout\n",
    "    ).to(device)\n",
    "\n",
    "    optimiser = torch.optim.Adam(model.parameters(), lr=lr)\n",
    "\n",
    "    train_model(model, train_dataloader, test_dataloader, optimiser)\n",
    "\n",
    "    _, acc, _ = validate(model=model, dataloader=test_dataloader)\n",
    "    return acc\n"
   ]
  },
  {
   "cell_type": "code",
   "execution_count": 26,
   "metadata": {},
   "outputs": [],
   "source": [
    "def objective1(trial):\n",
    "    in_dim = X.shape[1]\n",
    "    num_layers = trial.suggest_int('num_layers', 2, 5)  # Number of layers to optimize\n",
    "    layer_units = [in_dim] + [trial.suggest_int(f'layer_units_{i}', in_dim // 2**(i+1), in_dim // 2**i) for i in range(num_layers)]\n",
    "    dropout = trial.suggest_float('dropout', 0.2, 0.5)\n",
    "    lr = trial.suggest_float('lr', 1e-5, 1e-2, log=True)\n",
    "\n",
    "    layers = []\n",
    "    for i in range(num_layers):\n",
    "        layers.append(nn.Linear(layer_units[i], layer_units[i + 1]))\n",
    "        layers.append(nn.ReLU())\n",
    "        layers.append(nn.BatchNorm1d(layer_units[i + 1]))\n",
    "        layers.append(nn.Dropout(dropout))\n",
    "\n",
    "    layers.append(nn.Linear(layer_units[-1], 3))  # Assuming 3 output classes\n",
    "    model = nn.Sequential(*layers).to(device)\n",
    "\n",
    "    optimiser = torch.optim.Adam(model.parameters(), lr=lr)\n",
    "\n",
    "    train_model(model, train_dataloader, test_dataloader, optimiser)\n",
    "\n",
    "    _, acc, _ = validate(model=model, dataloader=test_dataloader)\n",
    "    return acc\n"
   ]
  },
  {
   "cell_type": "code",
   "execution_count": 27,
   "metadata": {},
   "outputs": [
    {
     "name": "stderr",
     "output_type": "stream",
     "text": [
      "[I 2023-12-17 11:39:01,192] A new study created in memory with name: no-name-308e8864-6c48-4372-95e4-d53e9b2b313c\n"
     ]
    },
    {
     "name": "stdout",
     "output_type": "stream",
     "text": [
      "========= EPOCH 1 STARTED =========\n"
     ]
    },
    {
     "name": "stderr",
     "output_type": "stream",
     "text": [
      "100%|██████████| 112/112 [00:01<00:00, 99.35it/s] \n"
     ]
    },
    {
     "name": "stdout",
     "output_type": "stream",
     "text": [
      "========= TRAIN EVALUATION STARTED =========\n"
     ]
    },
    {
     "name": "stderr",
     "output_type": "stream",
     "text": [
      "100%|██████████| 112/112 [00:00<00:00, 149.41it/s]\n"
     ]
    },
    {
     "name": "stdout",
     "output_type": "stream",
     "text": [
      "========= TEST EVALUATION STARTED =========\n"
     ]
    },
    {
     "name": "stderr",
     "output_type": "stream",
     "text": [
      "100%|██████████| 28/28 [00:00<00:00, 196.60it/s]\n"
     ]
    },
    {
     "name": "stdout",
     "output_type": "stream",
     "text": [
      "END OF 1 EPOCH\n",
      "| Time taken:   7.839 |\n",
      "| Train Loss:   1.117 | Train acc:  0.13250 | Train f1:  0.09709 |\n",
      "| Test Loss:   1.116  | Test acc:  0.13412  | Test f1:  0.09911  |\n",
      "========= EPOCH 2 STARTED =========\n"
     ]
    },
    {
     "name": "stderr",
     "output_type": "stream",
     "text": [
      "100%|██████████| 112/112 [00:00<00:00, 119.72it/s]\n"
     ]
    },
    {
     "name": "stdout",
     "output_type": "stream",
     "text": [
      "========= TRAIN EVALUATION STARTED =========\n"
     ]
    },
    {
     "name": "stderr",
     "output_type": "stream",
     "text": [
      "100%|██████████| 112/112 [00:00<00:00, 151.40it/s]\n"
     ]
    },
    {
     "name": "stdout",
     "output_type": "stream",
     "text": [
      "========= TEST EVALUATION STARTED =========\n"
     ]
    },
    {
     "name": "stderr",
     "output_type": "stream",
     "text": [
      "100%|██████████| 28/28 [00:00<00:00, 195.25it/s]\n"
     ]
    },
    {
     "name": "stdout",
     "output_type": "stream",
     "text": [
      "END OF 2 EPOCH\n",
      "| Time taken:   7.452 |\n",
      "| Train Loss:   1.067 | Train acc:  0.51260 | Train f1:  0.35792 |\n",
      "| Test Loss:   1.066  | Test acc:  0.51516  | Test f1:  0.36057  |\n",
      "========= EPOCH 3 STARTED =========\n"
     ]
    },
    {
     "name": "stderr",
     "output_type": "stream",
     "text": [
      "100%|██████████| 112/112 [00:01<00:00, 104.45it/s]\n"
     ]
    },
    {
     "name": "stdout",
     "output_type": "stream",
     "text": [
      "========= TRAIN EVALUATION STARTED =========\n"
     ]
    },
    {
     "name": "stderr",
     "output_type": "stream",
     "text": [
      "100%|██████████| 112/112 [00:00<00:00, 141.33it/s]\n"
     ]
    },
    {
     "name": "stdout",
     "output_type": "stream",
     "text": [
      "========= TEST EVALUATION STARTED =========\n"
     ]
    },
    {
     "name": "stderr",
     "output_type": "stream",
     "text": [
      "100%|██████████| 28/28 [00:00<00:00, 105.27it/s]\n"
     ]
    },
    {
     "name": "stdout",
     "output_type": "stream",
     "text": [
      "END OF 3 EPOCH\n",
      "| Time taken:   7.688 |\n",
      "| Train Loss:   1.016 | Train acc:  0.53457 | Train f1:  0.42194 |\n",
      "| Test Loss:   1.015  | Test acc:  0.53727  | Test f1:  0.42643  |\n",
      "========= EPOCH 4 STARTED =========\n"
     ]
    },
    {
     "name": "stderr",
     "output_type": "stream",
     "text": [
      "100%|██████████| 112/112 [00:01<00:00, 106.47it/s]\n"
     ]
    },
    {
     "name": "stdout",
     "output_type": "stream",
     "text": [
      "========= TRAIN EVALUATION STARTED =========\n"
     ]
    },
    {
     "name": "stderr",
     "output_type": "stream",
     "text": [
      "100%|██████████| 112/112 [00:00<00:00, 146.91it/s]\n"
     ]
    },
    {
     "name": "stdout",
     "output_type": "stream",
     "text": [
      "========= TEST EVALUATION STARTED =========\n"
     ]
    },
    {
     "name": "stderr",
     "output_type": "stream",
     "text": [
      "100%|██████████| 28/28 [00:00<00:00, 197.73it/s]\n"
     ]
    },
    {
     "name": "stdout",
     "output_type": "stream",
     "text": [
      "END OF 4 EPOCH\n",
      "| Time taken:   7.637 |\n",
      "| Train Loss:   0.973 | Train acc:  0.64705 | Train f1:  0.50876 |\n",
      "| Test Loss:   0.972  | Test acc:  0.64718  | Test f1:  0.50679  |\n",
      "========= EPOCH 5 STARTED =========\n"
     ]
    },
    {
     "name": "stderr",
     "output_type": "stream",
     "text": [
      "100%|██████████| 112/112 [00:01<00:00, 97.75it/s] \n"
     ]
    },
    {
     "name": "stdout",
     "output_type": "stream",
     "text": [
      "========= TRAIN EVALUATION STARTED =========\n"
     ]
    },
    {
     "name": "stderr",
     "output_type": "stream",
     "text": [
      "100%|██████████| 112/112 [00:00<00:00, 139.95it/s]\n"
     ]
    },
    {
     "name": "stdout",
     "output_type": "stream",
     "text": [
      "========= TEST EVALUATION STARTED =========\n"
     ]
    },
    {
     "name": "stderr",
     "output_type": "stream",
     "text": [
      "100%|██████████| 28/28 [00:00<00:00, 160.30it/s]\n"
     ]
    },
    {
     "name": "stdout",
     "output_type": "stream",
     "text": [
      "END OF 5 EPOCH\n",
      "| Time taken:   7.843 |\n",
      "| Train Loss:   0.927 | Train acc:  0.69488 | Train f1:  0.48848 |\n",
      "| Test Loss:   0.927  | Test acc:  0.69350  | Test f1:  0.48723  |\n"
     ]
    },
    {
     "name": "stderr",
     "output_type": "stream",
     "text": [
      "100%|██████████| 28/28 [00:00<00:00, 200.22it/s]\n",
      "[I 2023-12-17 11:39:40,809] Trial 0 finished with value: 0.69350084222347 and parameters: {'num_layers': 5, 'layer_units_0': 80, 'layer_units_1': 41, 'layer_units_2': 34, 'layer_units_3': 17, 'layer_units_4': 4, 'dropout': 0.28254338479520796, 'lr': 0.00034159337591941344}. Best is trial 0 with value: 0.69350084222347.\n"
     ]
    },
    {
     "name": "stdout",
     "output_type": "stream",
     "text": [
      "========= EPOCH 1 STARTED =========\n"
     ]
    },
    {
     "name": "stderr",
     "output_type": "stream",
     "text": [
      "100%|██████████| 112/112 [00:00<00:00, 118.42it/s]\n"
     ]
    },
    {
     "name": "stdout",
     "output_type": "stream",
     "text": [
      "========= TRAIN EVALUATION STARTED =========\n"
     ]
    },
    {
     "name": "stderr",
     "output_type": "stream",
     "text": [
      "100%|██████████| 112/112 [00:00<00:00, 155.35it/s]\n"
     ]
    },
    {
     "name": "stdout",
     "output_type": "stream",
     "text": [
      "========= TEST EVALUATION STARTED =========\n"
     ]
    },
    {
     "name": "stderr",
     "output_type": "stream",
     "text": [
      "100%|██████████| 28/28 [00:00<00:00, 204.56it/s]\n"
     ]
    },
    {
     "name": "stdout",
     "output_type": "stream",
     "text": [
      "END OF 1 EPOCH\n",
      "| Time taken:   7.520 |\n",
      "| Train Loss:   0.942 | Train acc:  0.62618 | Train f1:  0.42788 |\n",
      "| Test Loss:   0.944  | Test acc:  0.62310  | Test f1:  0.42598  |\n",
      "========= EPOCH 2 STARTED =========\n"
     ]
    },
    {
     "name": "stderr",
     "output_type": "stream",
     "text": [
      "100%|██████████| 112/112 [00:00<00:00, 147.56it/s]\n"
     ]
    },
    {
     "name": "stdout",
     "output_type": "stream",
     "text": [
      "========= TRAIN EVALUATION STARTED =========\n"
     ]
    },
    {
     "name": "stderr",
     "output_type": "stream",
     "text": [
      "100%|██████████| 112/112 [00:00<00:00, 135.50it/s]\n"
     ]
    },
    {
     "name": "stdout",
     "output_type": "stream",
     "text": [
      "========= TEST EVALUATION STARTED =========\n"
     ]
    },
    {
     "name": "stderr",
     "output_type": "stream",
     "text": [
      "100%|██████████| 28/28 [00:00<00:00, 196.94it/s]\n"
     ]
    },
    {
     "name": "stdout",
     "output_type": "stream",
     "text": [
      "END OF 2 EPOCH\n",
      "| Time taken:   7.282 |\n",
      "| Train Loss:   0.886 | Train acc:  0.67814 | Train f1:  0.47254 |\n",
      "| Test Loss:   0.888  | Test acc:  0.67455  | Test f1:  0.46934  |\n",
      "========= EPOCH 3 STARTED =========\n"
     ]
    },
    {
     "name": "stderr",
     "output_type": "stream",
     "text": [
      "100%|██████████| 112/112 [00:00<00:00, 144.07it/s]\n"
     ]
    },
    {
     "name": "stdout",
     "output_type": "stream",
     "text": [
      "========= TRAIN EVALUATION STARTED =========\n"
     ]
    },
    {
     "name": "stderr",
     "output_type": "stream",
     "text": [
      "100%|██████████| 112/112 [00:00<00:00, 136.63it/s]\n"
     ]
    },
    {
     "name": "stdout",
     "output_type": "stream",
     "text": [
      "========= TEST EVALUATION STARTED =========\n"
     ]
    },
    {
     "name": "stderr",
     "output_type": "stream",
     "text": [
      "100%|██████████| 28/28 [00:00<00:00, 201.10it/s]\n"
     ]
    },
    {
     "name": "stdout",
     "output_type": "stream",
     "text": [
      "END OF 3 EPOCH\n",
      "| Time taken:   7.302 |\n",
      "| Train Loss:   0.855 | Train acc:  0.69785 | Train f1:  0.47795 |\n",
      "| Test Loss:   0.858  | Test acc:  0.69343  | Test f1:  0.47223  |\n",
      "========= EPOCH 4 STARTED =========\n"
     ]
    },
    {
     "name": "stderr",
     "output_type": "stream",
     "text": [
      "100%|██████████| 112/112 [00:00<00:00, 124.69it/s]\n"
     ]
    },
    {
     "name": "stdout",
     "output_type": "stream",
     "text": [
      "========= TRAIN EVALUATION STARTED =========\n"
     ]
    },
    {
     "name": "stderr",
     "output_type": "stream",
     "text": [
      "100%|██████████| 112/112 [00:00<00:00, 158.05it/s]\n"
     ]
    },
    {
     "name": "stdout",
     "output_type": "stream",
     "text": [
      "========= TEST EVALUATION STARTED =========\n"
     ]
    },
    {
     "name": "stderr",
     "output_type": "stream",
     "text": [
      "100%|██████████| 28/28 [00:00<00:00, 204.92it/s]\n"
     ]
    },
    {
     "name": "stdout",
     "output_type": "stream",
     "text": [
      "END OF 4 EPOCH\n",
      "| Time taken:   7.470 |\n",
      "| Train Loss:   0.841 | Train acc:  0.71450 | Train f1:  0.49108 |\n",
      "| Test Loss:   0.846  | Test acc:  0.71020  | Test f1:  0.48684  |\n",
      "========= EPOCH 5 STARTED =========\n"
     ]
    },
    {
     "name": "stderr",
     "output_type": "stream",
     "text": [
      "100%|██████████| 112/112 [00:00<00:00, 138.21it/s]\n"
     ]
    },
    {
     "name": "stdout",
     "output_type": "stream",
     "text": [
      "========= TRAIN EVALUATION STARTED =========\n"
     ]
    },
    {
     "name": "stderr",
     "output_type": "stream",
     "text": [
      "100%|██████████| 112/112 [00:00<00:00, 117.29it/s]\n"
     ]
    },
    {
     "name": "stdout",
     "output_type": "stream",
     "text": [
      "========= TEST EVALUATION STARTED =========\n"
     ]
    },
    {
     "name": "stderr",
     "output_type": "stream",
     "text": [
      "100%|██████████| 28/28 [00:00<00:00, 203.18it/s]\n"
     ]
    },
    {
     "name": "stdout",
     "output_type": "stream",
     "text": [
      "END OF 5 EPOCH\n",
      "| Time taken:   7.534 |\n",
      "| Train Loss:   0.841 | Train acc:  0.71450 | Train f1:  0.49280 |\n",
      "| Test Loss:   0.845  | Test acc:  0.70915  | Test f1:  0.48699  |\n"
     ]
    },
    {
     "name": "stderr",
     "output_type": "stream",
     "text": [
      "100%|██████████| 28/28 [00:00<00:00, 190.24it/s]\n",
      "[I 2023-12-17 11:40:19,197] Trial 1 finished with value: 0.7091521617069062 and parameters: {'num_layers': 2, 'layer_units_0': 120, 'layer_units_1': 47, 'dropout': 0.23679827334783998, 'lr': 0.0003357065729772926}. Best is trial 1 with value: 0.7091521617069062.\n"
     ]
    },
    {
     "name": "stdout",
     "output_type": "stream",
     "text": [
      "========= EPOCH 1 STARTED =========\n"
     ]
    },
    {
     "name": "stderr",
     "output_type": "stream",
     "text": [
      "100%|██████████| 112/112 [00:00<00:00, 124.00it/s]\n"
     ]
    },
    {
     "name": "stdout",
     "output_type": "stream",
     "text": [
      "========= TRAIN EVALUATION STARTED =========\n"
     ]
    },
    {
     "name": "stderr",
     "output_type": "stream",
     "text": [
      "100%|██████████| 112/112 [00:00<00:00, 133.50it/s]\n"
     ]
    },
    {
     "name": "stdout",
     "output_type": "stream",
     "text": [
      "========= TEST EVALUATION STARTED =========\n"
     ]
    },
    {
     "name": "stderr",
     "output_type": "stream",
     "text": [
      "100%|██████████| 28/28 [00:00<00:00, 195.22it/s]\n"
     ]
    },
    {
     "name": "stdout",
     "output_type": "stream",
     "text": [
      "END OF 1 EPOCH\n",
      "| Time taken:   7.589 |\n",
      "| Train Loss:   1.074 | Train acc:  0.42899 | Train f1:  0.29737 |\n",
      "| Test Loss:   1.074  | Test acc:  0.42897  | Test f1:  0.29711  |\n",
      "========= EPOCH 2 STARTED =========\n"
     ]
    },
    {
     "name": "stderr",
     "output_type": "stream",
     "text": [
      "100%|██████████| 112/112 [00:01<00:00, 108.04it/s]\n"
     ]
    },
    {
     "name": "stdout",
     "output_type": "stream",
     "text": [
      "========= TRAIN EVALUATION STARTED =========\n"
     ]
    },
    {
     "name": "stderr",
     "output_type": "stream",
     "text": [
      "100%|██████████| 112/112 [00:00<00:00, 143.57it/s]\n"
     ]
    },
    {
     "name": "stdout",
     "output_type": "stream",
     "text": [
      "========= TEST EVALUATION STARTED =========\n"
     ]
    },
    {
     "name": "stderr",
     "output_type": "stream",
     "text": [
      "100%|██████████| 28/28 [00:00<00:00, 174.19it/s]\n"
     ]
    },
    {
     "name": "stdout",
     "output_type": "stream",
     "text": [
      "END OF 2 EPOCH\n",
      "| Time taken:   7.685 |\n",
      "| Train Loss:   1.064 | Train acc:  0.46206 | Train f1:  0.32655 |\n",
      "| Test Loss:   1.065  | Test acc:  0.46196  | Test f1:  0.32688  |\n",
      "========= EPOCH 3 STARTED =========\n"
     ]
    },
    {
     "name": "stderr",
     "output_type": "stream",
     "text": [
      "100%|██████████| 112/112 [00:00<00:00, 116.09it/s]\n"
     ]
    },
    {
     "name": "stdout",
     "output_type": "stream",
     "text": [
      "========= TRAIN EVALUATION STARTED =========\n"
     ]
    },
    {
     "name": "stderr",
     "output_type": "stream",
     "text": [
      "100%|██████████| 112/112 [00:00<00:00, 156.50it/s]\n"
     ]
    },
    {
     "name": "stdout",
     "output_type": "stream",
     "text": [
      "========= TEST EVALUATION STARTED =========\n"
     ]
    },
    {
     "name": "stderr",
     "output_type": "stream",
     "text": [
      "100%|██████████| 28/28 [00:00<00:00, 107.53it/s]\n"
     ]
    },
    {
     "name": "stdout",
     "output_type": "stream",
     "text": [
      "END OF 3 EPOCH\n",
      "| Time taken:   7.545 |\n",
      "| Train Loss:   1.050 | Train acc:  0.51844 | Train f1:  0.36372 |\n",
      "| Test Loss:   1.050  | Test acc:  0.52485  | Test f1:  0.36750  |\n",
      "========= EPOCH 4 STARTED =========\n"
     ]
    },
    {
     "name": "stderr",
     "output_type": "stream",
     "text": [
      "100%|██████████| 112/112 [00:00<00:00, 118.35it/s]\n"
     ]
    },
    {
     "name": "stdout",
     "output_type": "stream",
     "text": [
      "========= TRAIN EVALUATION STARTED =========\n"
     ]
    },
    {
     "name": "stderr",
     "output_type": "stream",
     "text": [
      "100%|██████████| 112/112 [00:00<00:00, 117.05it/s]\n"
     ]
    },
    {
     "name": "stdout",
     "output_type": "stream",
     "text": [
      "========= TEST EVALUATION STARTED =========\n"
     ]
    },
    {
     "name": "stderr",
     "output_type": "stream",
     "text": [
      "100%|██████████| 28/28 [00:00<00:00, 191.24it/s]\n"
     ]
    },
    {
     "name": "stdout",
     "output_type": "stream",
     "text": [
      "END OF 4 EPOCH\n",
      "| Time taken:   7.778 |\n",
      "| Train Loss:   1.030 | Train acc:  0.56417 | Train f1:  0.38653 |\n",
      "| Test Loss:   1.030  | Test acc:  0.56948  | Test f1:  0.39020  |\n",
      "========= EPOCH 5 STARTED =========\n"
     ]
    },
    {
     "name": "stderr",
     "output_type": "stream",
     "text": [
      "100%|██████████| 112/112 [00:00<00:00, 117.39it/s]\n"
     ]
    },
    {
     "name": "stdout",
     "output_type": "stream",
     "text": [
      "========= TRAIN EVALUATION STARTED =========\n"
     ]
    },
    {
     "name": "stderr",
     "output_type": "stream",
     "text": [
      "100%|██████████| 112/112 [00:00<00:00, 151.21it/s]\n"
     ]
    },
    {
     "name": "stdout",
     "output_type": "stream",
     "text": [
      "========= TEST EVALUATION STARTED =========\n"
     ]
    },
    {
     "name": "stderr",
     "output_type": "stream",
     "text": [
      "100%|██████████| 28/28 [00:00<00:00, 108.65it/s]\n"
     ]
    },
    {
     "name": "stdout",
     "output_type": "stream",
     "text": [
      "END OF 5 EPOCH\n",
      "| Time taken:   7.536 |\n",
      "| Train Loss:   1.000 | Train acc:  0.61622 | Train f1:  0.40959 |\n",
      "| Test Loss:   1.001  | Test acc:  0.61588  | Test f1:  0.40859  |\n"
     ]
    },
    {
     "name": "stderr",
     "output_type": "stream",
     "text": [
      "100%|██████████| 28/28 [00:00<00:00, 97.97it/s] \n",
      "[I 2023-12-17 11:40:58,625] Trial 2 finished with value: 0.6158759124087592 and parameters: {'num_layers': 5, 'layer_units_0': 90, 'layer_units_1': 39, 'layer_units_2': 27, 'layer_units_3': 12, 'layer_units_4': 8, 'dropout': 0.4910879857084957, 'lr': 0.00022468223785501281}. Best is trial 1 with value: 0.7091521617069062.\n"
     ]
    },
    {
     "name": "stdout",
     "output_type": "stream",
     "text": [
      "========= EPOCH 1 STARTED =========\n"
     ]
    },
    {
     "name": "stderr",
     "output_type": "stream",
     "text": [
      "100%|██████████| 112/112 [00:00<00:00, 145.74it/s]\n"
     ]
    },
    {
     "name": "stdout",
     "output_type": "stream",
     "text": [
      "========= TRAIN EVALUATION STARTED =========\n"
     ]
    },
    {
     "name": "stderr",
     "output_type": "stream",
     "text": [
      "100%|██████████| 112/112 [00:00<00:00, 130.72it/s]\n"
     ]
    },
    {
     "name": "stdout",
     "output_type": "stream",
     "text": [
      "========= TEST EVALUATION STARTED =========\n"
     ]
    },
    {
     "name": "stderr",
     "output_type": "stream",
     "text": [
      "100%|██████████| 28/28 [00:00<00:00, 183.39it/s]\n"
     ]
    },
    {
     "name": "stdout",
     "output_type": "stream",
     "text": [
      "END OF 1 EPOCH\n",
      "| Time taken:   7.416 |\n",
      "| Train Loss:   0.990 | Train acc:  0.59976 | Train f1:  0.42179 |\n",
      "| Test Loss:   0.991  | Test acc:  0.60198  | Test f1:  0.42440  |\n",
      "========= EPOCH 2 STARTED =========\n"
     ]
    },
    {
     "name": "stderr",
     "output_type": "stream",
     "text": [
      "100%|██████████| 112/112 [00:00<00:00, 123.98it/s]\n"
     ]
    },
    {
     "name": "stdout",
     "output_type": "stream",
     "text": [
      "========= TRAIN EVALUATION STARTED =========\n"
     ]
    },
    {
     "name": "stderr",
     "output_type": "stream",
     "text": [
      "100%|██████████| 112/112 [00:00<00:00, 145.66it/s]\n"
     ]
    },
    {
     "name": "stdout",
     "output_type": "stream",
     "text": [
      "========= TEST EVALUATION STARTED =========\n"
     ]
    },
    {
     "name": "stderr",
     "output_type": "stream",
     "text": [
      "100%|██████████| 28/28 [00:00<00:00, 167.35it/s]\n"
     ]
    },
    {
     "name": "stdout",
     "output_type": "stream",
     "text": [
      "END OF 2 EPOCH\n",
      "| Time taken:   7.593 |\n",
      "| Train Loss:   0.912 | Train acc:  0.64145 | Train f1:  0.43704 |\n",
      "| Test Loss:   0.913  | Test acc:  0.63953  | Test f1:  0.43551  |\n",
      "========= EPOCH 3 STARTED =========\n"
     ]
    },
    {
     "name": "stderr",
     "output_type": "stream",
     "text": [
      "100%|██████████| 112/112 [00:00<00:00, 142.40it/s]\n"
     ]
    },
    {
     "name": "stdout",
     "output_type": "stream",
     "text": [
      "========= TRAIN EVALUATION STARTED =========\n"
     ]
    },
    {
     "name": "stderr",
     "output_type": "stream",
     "text": [
      "100%|██████████| 112/112 [00:00<00:00, 160.11it/s]\n"
     ]
    },
    {
     "name": "stdout",
     "output_type": "stream",
     "text": [
      "========= TEST EVALUATION STARTED =========\n"
     ]
    },
    {
     "name": "stderr",
     "output_type": "stream",
     "text": [
      "100%|██████████| 28/28 [00:00<00:00, 184.93it/s]\n"
     ]
    },
    {
     "name": "stdout",
     "output_type": "stream",
     "text": [
      "END OF 3 EPOCH\n",
      "| Time taken:   7.363 |\n",
      "| Train Loss:   0.882 | Train acc:  0.67798 | Train f1:  0.47225 |\n",
      "| Test Loss:   0.884  | Test acc:  0.67462  | Test f1:  0.47012  |\n",
      "========= EPOCH 4 STARTED =========\n"
     ]
    },
    {
     "name": "stderr",
     "output_type": "stream",
     "text": [
      "100%|██████████| 112/112 [00:00<00:00, 149.15it/s]\n"
     ]
    },
    {
     "name": "stdout",
     "output_type": "stream",
     "text": [
      "========= TRAIN EVALUATION STARTED =========\n"
     ]
    },
    {
     "name": "stderr",
     "output_type": "stream",
     "text": [
      "100%|██████████| 112/112 [00:00<00:00, 133.21it/s]\n"
     ]
    },
    {
     "name": "stdout",
     "output_type": "stream",
     "text": [
      "========= TEST EVALUATION STARTED =========\n"
     ]
    },
    {
     "name": "stderr",
     "output_type": "stream",
     "text": [
      "100%|██████████| 28/28 [00:00<00:00, 175.39it/s]\n"
     ]
    },
    {
     "name": "stdout",
     "output_type": "stream",
     "text": [
      "END OF 4 EPOCH\n",
      "| Time taken:   7.483 |\n",
      "| Train Loss:   0.862 | Train acc:  0.69392 | Train f1:  0.48164 |\n",
      "| Test Loss:   0.865  | Test acc:  0.69055  | Test f1:  0.47747  |\n",
      "========= EPOCH 5 STARTED =========\n"
     ]
    },
    {
     "name": "stderr",
     "output_type": "stream",
     "text": [
      "100%|██████████| 112/112 [00:00<00:00, 144.28it/s]\n"
     ]
    },
    {
     "name": "stdout",
     "output_type": "stream",
     "text": [
      "========= TRAIN EVALUATION STARTED =========\n"
     ]
    },
    {
     "name": "stderr",
     "output_type": "stream",
     "text": [
      "100%|██████████| 112/112 [00:00<00:00, 147.93it/s]\n"
     ]
    },
    {
     "name": "stdout",
     "output_type": "stream",
     "text": [
      "========= TEST EVALUATION STARTED =========\n"
     ]
    },
    {
     "name": "stderr",
     "output_type": "stream",
     "text": [
      "100%|██████████| 28/28 [00:00<00:00, 198.19it/s]\n"
     ]
    },
    {
     "name": "stdout",
     "output_type": "stream",
     "text": [
      "END OF 5 EPOCH\n",
      "| Time taken:   7.374 |\n",
      "| Train Loss:   0.848 | Train acc:  0.70839 | Train f1:  0.48867 |\n",
      "| Test Loss:   0.850  | Test acc:  0.70747  | Test f1:  0.48605  |\n"
     ]
    },
    {
     "name": "stderr",
     "output_type": "stream",
     "text": [
      "100%|██████████| 28/28 [00:00<00:00, 202.72it/s]\n",
      "[I 2023-12-17 11:41:37,163] Trial 3 finished with value: 0.7074677147669849 and parameters: {'num_layers': 2, 'layer_units_0': 116, 'layer_units_1': 39, 'dropout': 0.4676899550035828, 'lr': 0.00032296085169042994}. Best is trial 1 with value: 0.7091521617069062.\n"
     ]
    },
    {
     "name": "stdout",
     "output_type": "stream",
     "text": [
      "========= EPOCH 1 STARTED =========\n"
     ]
    },
    {
     "name": "stderr",
     "output_type": "stream",
     "text": [
      "100%|██████████| 112/112 [00:00<00:00, 124.57it/s]\n"
     ]
    },
    {
     "name": "stdout",
     "output_type": "stream",
     "text": [
      "========= TRAIN EVALUATION STARTED =========\n"
     ]
    },
    {
     "name": "stderr",
     "output_type": "stream",
     "text": [
      "100%|██████████| 112/112 [00:00<00:00, 151.75it/s]\n"
     ]
    },
    {
     "name": "stdout",
     "output_type": "stream",
     "text": [
      "========= TEST EVALUATION STARTED =========\n"
     ]
    },
    {
     "name": "stderr",
     "output_type": "stream",
     "text": [
      "100%|██████████| 28/28 [00:00<00:00, 203.66it/s]\n"
     ]
    },
    {
     "name": "stdout",
     "output_type": "stream",
     "text": [
      "END OF 1 EPOCH\n",
      "| Time taken:   7.518 |\n",
      "| Train Loss:   0.976 | Train acc:  0.62089 | Train f1:  0.44593 |\n",
      "| Test Loss:   0.975  | Test acc:  0.62135  | Test f1:  0.44639  |\n",
      "========= EPOCH 2 STARTED =========\n"
     ]
    },
    {
     "name": "stderr",
     "output_type": "stream",
     "text": [
      "100%|██████████| 112/112 [00:00<00:00, 123.16it/s]\n"
     ]
    },
    {
     "name": "stdout",
     "output_type": "stream",
     "text": [
      "========= TRAIN EVALUATION STARTED =========\n"
     ]
    },
    {
     "name": "stderr",
     "output_type": "stream",
     "text": [
      "100%|██████████| 112/112 [00:00<00:00, 157.58it/s]\n"
     ]
    },
    {
     "name": "stdout",
     "output_type": "stream",
     "text": [
      "========= TEST EVALUATION STARTED =========\n"
     ]
    },
    {
     "name": "stderr",
     "output_type": "stream",
     "text": [
      "100%|██████████| 28/28 [00:00<00:00, 184.17it/s]\n"
     ]
    },
    {
     "name": "stdout",
     "output_type": "stream",
     "text": [
      "END OF 2 EPOCH\n",
      "| Time taken:   7.429 |\n",
      "| Train Loss:   0.889 | Train acc:  0.67877 | Train f1:  0.48217 |\n",
      "| Test Loss:   0.891  | Test acc:  0.67511  | Test f1:  0.47818  |\n",
      "========= EPOCH 3 STARTED =========\n"
     ]
    },
    {
     "name": "stderr",
     "output_type": "stream",
     "text": [
      "100%|██████████| 112/112 [00:00<00:00, 123.37it/s]\n"
     ]
    },
    {
     "name": "stdout",
     "output_type": "stream",
     "text": [
      "========= TRAIN EVALUATION STARTED =========\n"
     ]
    },
    {
     "name": "stderr",
     "output_type": "stream",
     "text": [
      "100%|██████████| 112/112 [00:00<00:00, 149.15it/s]\n"
     ]
    },
    {
     "name": "stdout",
     "output_type": "stream",
     "text": [
      "========= TEST EVALUATION STARTED =========\n"
     ]
    },
    {
     "name": "stderr",
     "output_type": "stream",
     "text": [
      "100%|██████████| 28/28 [00:00<00:00, 198.72it/s]\n"
     ]
    },
    {
     "name": "stdout",
     "output_type": "stream",
     "text": [
      "END OF 3 EPOCH\n",
      "| Time taken:   7.499 |\n",
      "| Train Loss:   0.860 | Train acc:  0.69795 | Train f1:  0.48380 |\n",
      "| Test Loss:   0.863  | Test acc:  0.69399  | Test f1:  0.47904  |\n",
      "========= EPOCH 4 STARTED =========\n"
     ]
    },
    {
     "name": "stderr",
     "output_type": "stream",
     "text": [
      "100%|██████████| 112/112 [00:00<00:00, 130.21it/s]\n"
     ]
    },
    {
     "name": "stdout",
     "output_type": "stream",
     "text": [
      "========= TRAIN EVALUATION STARTED =========\n"
     ]
    },
    {
     "name": "stderr",
     "output_type": "stream",
     "text": [
      "100%|██████████| 112/112 [00:00<00:00, 155.05it/s]\n"
     ]
    },
    {
     "name": "stdout",
     "output_type": "stream",
     "text": [
      "========= TEST EVALUATION STARTED =========\n"
     ]
    },
    {
     "name": "stderr",
     "output_type": "stream",
     "text": [
      "100%|██████████| 28/28 [00:00<00:00, 108.28it/s]\n"
     ]
    },
    {
     "name": "stdout",
     "output_type": "stream",
     "text": [
      "END OF 4 EPOCH\n",
      "| Time taken:   7.398 |\n",
      "| Train Loss:   0.840 | Train acc:  0.71527 | Train f1:  0.48837 |\n",
      "| Test Loss:   0.844  | Test acc:  0.71077  | Test f1:  0.48278  |\n",
      "========= EPOCH 5 STARTED =========\n"
     ]
    },
    {
     "name": "stderr",
     "output_type": "stream",
     "text": [
      "100%|██████████| 112/112 [00:01<00:00, 104.40it/s]\n"
     ]
    },
    {
     "name": "stdout",
     "output_type": "stream",
     "text": [
      "========= TRAIN EVALUATION STARTED =========\n"
     ]
    },
    {
     "name": "stderr",
     "output_type": "stream",
     "text": [
      "100%|██████████| 112/112 [00:00<00:00, 141.09it/s]\n"
     ]
    },
    {
     "name": "stdout",
     "output_type": "stream",
     "text": [
      "========= TEST EVALUATION STARTED =========\n"
     ]
    },
    {
     "name": "stderr",
     "output_type": "stream",
     "text": [
      "100%|██████████| 28/28 [00:00<00:00, 198.43it/s]\n"
     ]
    },
    {
     "name": "stdout",
     "output_type": "stream",
     "text": [
      "END OF 5 EPOCH\n",
      "| Time taken:   7.619 |\n",
      "| Train Loss:   0.839 | Train acc:  0.71438 | Train f1:  0.48718 |\n",
      "| Test Loss:   0.845  | Test acc:  0.70866  | Test f1:  0.48183  |\n"
     ]
    },
    {
     "name": "stderr",
     "output_type": "stream",
     "text": [
      "100%|██████████| 28/28 [00:00<00:00, 108.66it/s]\n",
      "[I 2023-12-17 11:42:15,896] Trial 4 finished with value: 0.7086608646827625 and parameters: {'num_layers': 4, 'layer_units_0': 74, 'layer_units_1': 64, 'layer_units_2': 24, 'layer_units_3': 11, 'dropout': 0.4045909514823069, 'lr': 0.0007034559893829558}. Best is trial 1 with value: 0.7091521617069062.\n"
     ]
    },
    {
     "name": "stdout",
     "output_type": "stream",
     "text": [
      "========= EPOCH 1 STARTED =========\n"
     ]
    },
    {
     "name": "stderr",
     "output_type": "stream",
     "text": [
      "100%|██████████| 112/112 [00:00<00:00, 128.44it/s]\n"
     ]
    },
    {
     "name": "stdout",
     "output_type": "stream",
     "text": [
      "========= TRAIN EVALUATION STARTED =========\n"
     ]
    },
    {
     "name": "stderr",
     "output_type": "stream",
     "text": [
      "100%|██████████| 112/112 [00:00<00:00, 154.75it/s]\n"
     ]
    },
    {
     "name": "stdout",
     "output_type": "stream",
     "text": [
      "========= TEST EVALUATION STARTED =========\n"
     ]
    },
    {
     "name": "stderr",
     "output_type": "stream",
     "text": [
      "100%|██████████| 28/28 [00:00<00:00, 200.60it/s]\n"
     ]
    },
    {
     "name": "stdout",
     "output_type": "stream",
     "text": [
      "END OF 1 EPOCH\n",
      "| Time taken:   7.496 |\n",
      "| Train Loss:   0.837 | Train acc:  0.71492 | Train f1:  0.48978 |\n",
      "| Test Loss:   0.842  | Test acc:  0.70985  | Test f1:  0.48418  |\n",
      "========= EPOCH 2 STARTED =========\n"
     ]
    },
    {
     "name": "stderr",
     "output_type": "stream",
     "text": [
      "100%|██████████| 112/112 [00:00<00:00, 142.90it/s]\n"
     ]
    },
    {
     "name": "stdout",
     "output_type": "stream",
     "text": [
      "========= TRAIN EVALUATION STARTED =========\n"
     ]
    },
    {
     "name": "stderr",
     "output_type": "stream",
     "text": [
      "100%|██████████| 112/112 [00:00<00:00, 154.25it/s]\n"
     ]
    },
    {
     "name": "stdout",
     "output_type": "stream",
     "text": [
      "========= TEST EVALUATION STARTED =========\n"
     ]
    },
    {
     "name": "stderr",
     "output_type": "stream",
     "text": [
      "100%|██████████| 28/28 [00:00<00:00, 149.83it/s]\n"
     ]
    },
    {
     "name": "stdout",
     "output_type": "stream",
     "text": [
      "END OF 2 EPOCH\n",
      "| Time taken:   7.363 |\n",
      "| Train Loss:   0.836 | Train acc:  0.71459 | Train f1:  0.48635 |\n",
      "| Test Loss:   0.841  | Test acc:  0.70971  | Test f1:  0.48170  |\n",
      "========= EPOCH 3 STARTED =========\n"
     ]
    },
    {
     "name": "stderr",
     "output_type": "stream",
     "text": [
      "100%|██████████| 112/112 [00:00<00:00, 144.36it/s]\n"
     ]
    },
    {
     "name": "stdout",
     "output_type": "stream",
     "text": [
      "========= TRAIN EVALUATION STARTED =========\n"
     ]
    },
    {
     "name": "stderr",
     "output_type": "stream",
     "text": [
      "100%|██████████| 112/112 [00:00<00:00, 123.44it/s]\n"
     ]
    },
    {
     "name": "stdout",
     "output_type": "stream",
     "text": [
      "========= TEST EVALUATION STARTED =========\n"
     ]
    },
    {
     "name": "stderr",
     "output_type": "stream",
     "text": [
      "100%|██████████| 28/28 [00:00<00:00, 161.26it/s]\n"
     ]
    },
    {
     "name": "stdout",
     "output_type": "stream",
     "text": [
      "END OF 3 EPOCH\n",
      "| Time taken:   7.566 |\n",
      "| Train Loss:   0.836 | Train acc:  0.71582 | Train f1:  0.48827 |\n",
      "| Test Loss:   0.840  | Test acc:  0.71105  | Test f1:  0.48241  |\n",
      "========= EPOCH 4 STARTED =========\n"
     ]
    },
    {
     "name": "stderr",
     "output_type": "stream",
     "text": [
      "100%|██████████| 112/112 [00:00<00:00, 144.81it/s]\n"
     ]
    },
    {
     "name": "stdout",
     "output_type": "stream",
     "text": [
      "========= TRAIN EVALUATION STARTED =========\n"
     ]
    },
    {
     "name": "stderr",
     "output_type": "stream",
     "text": [
      "100%|██████████| 112/112 [00:00<00:00, 151.52it/s]\n"
     ]
    },
    {
     "name": "stdout",
     "output_type": "stream",
     "text": [
      "========= TEST EVALUATION STARTED =========\n"
     ]
    },
    {
     "name": "stderr",
     "output_type": "stream",
     "text": [
      "100%|██████████| 28/28 [00:00<00:00, 200.63it/s]\n"
     ]
    },
    {
     "name": "stdout",
     "output_type": "stream",
     "text": [
      "END OF 4 EPOCH\n",
      "| Time taken:   7.401 |\n",
      "| Train Loss:   0.836 | Train acc:  0.71527 | Train f1:  0.48591 |\n",
      "| Test Loss:   0.840  | Test acc:  0.71098  | Test f1:  0.48186  |\n",
      "========= EPOCH 5 STARTED =========\n"
     ]
    },
    {
     "name": "stderr",
     "output_type": "stream",
     "text": [
      "100%|██████████| 112/112 [00:00<00:00, 147.75it/s]\n"
     ]
    },
    {
     "name": "stdout",
     "output_type": "stream",
     "text": [
      "========= TRAIN EVALUATION STARTED =========\n"
     ]
    },
    {
     "name": "stderr",
     "output_type": "stream",
     "text": [
      "100%|██████████| 112/112 [00:00<00:00, 150.52it/s]\n"
     ]
    },
    {
     "name": "stdout",
     "output_type": "stream",
     "text": [
      "========= TEST EVALUATION STARTED =========\n"
     ]
    },
    {
     "name": "stderr",
     "output_type": "stream",
     "text": [
      "100%|██████████| 28/28 [00:00<00:00, 97.35it/s] \n"
     ]
    },
    {
     "name": "stdout",
     "output_type": "stream",
     "text": [
      "END OF 5 EPOCH\n",
      "| Time taken:   7.504 |\n",
      "| Train Loss:   0.836 | Train acc:  0.71498 | Train f1:  0.48887 |\n",
      "| Test Loss:   0.842  | Test acc:  0.70880  | Test f1:  0.48250  |\n"
     ]
    },
    {
     "name": "stderr",
     "output_type": "stream",
     "text": [
      "100%|██████████| 28/28 [00:00<00:00, 99.75it/s] \n",
      "[I 2023-12-17 11:42:54,561] Trial 5 finished with value: 0.7088012352610893 and parameters: {'num_layers': 2, 'layer_units_0': 113, 'layer_units_1': 38, 'dropout': 0.350226300602574, 'lr': 0.009520413772425072}. Best is trial 1 with value: 0.7091521617069062.\n"
     ]
    },
    {
     "name": "stdout",
     "output_type": "stream",
     "text": [
      "========= EPOCH 1 STARTED =========\n"
     ]
    },
    {
     "name": "stderr",
     "output_type": "stream",
     "text": [
      "100%|██████████| 112/112 [00:01<00:00, 105.32it/s]\n"
     ]
    },
    {
     "name": "stdout",
     "output_type": "stream",
     "text": [
      "========= TRAIN EVALUATION STARTED =========\n"
     ]
    },
    {
     "name": "stderr",
     "output_type": "stream",
     "text": [
      "100%|██████████| 112/112 [00:00<00:00, 149.92it/s]\n"
     ]
    },
    {
     "name": "stdout",
     "output_type": "stream",
     "text": [
      "========= TEST EVALUATION STARTED =========\n"
     ]
    },
    {
     "name": "stderr",
     "output_type": "stream",
     "text": [
      "100%|██████████| 28/28 [00:00<00:00, 195.46it/s]\n"
     ]
    },
    {
     "name": "stdout",
     "output_type": "stream",
     "text": [
      "END OF 1 EPOCH\n",
      "| Time taken:   7.711 |\n",
      "| Train Loss:   1.130 | Train acc:  0.12325 | Train f1:  0.09014 |\n",
      "| Test Loss:   1.130  | Test acc:  0.12458  | Test f1:  0.09175  |\n",
      "========= EPOCH 2 STARTED =========\n"
     ]
    },
    {
     "name": "stderr",
     "output_type": "stream",
     "text": [
      "100%|██████████| 112/112 [00:00<00:00, 113.97it/s]\n"
     ]
    },
    {
     "name": "stdout",
     "output_type": "stream",
     "text": [
      "========= TRAIN EVALUATION STARTED =========\n"
     ]
    },
    {
     "name": "stderr",
     "output_type": "stream",
     "text": [
      "100%|██████████| 112/112 [00:00<00:00, 151.50it/s]\n"
     ]
    },
    {
     "name": "stdout",
     "output_type": "stream",
     "text": [
      "========= TEST EVALUATION STARTED =========\n"
     ]
    },
    {
     "name": "stderr",
     "output_type": "stream",
     "text": [
      "100%|██████████| 28/28 [00:00<00:00, 190.97it/s]\n"
     ]
    },
    {
     "name": "stdout",
     "output_type": "stream",
     "text": [
      "END OF 2 EPOCH\n",
      "| Time taken:   7.651 |\n",
      "| Train Loss:   1.130 | Train acc:  0.12304 | Train f1:  0.09088 |\n",
      "| Test Loss:   1.130  | Test acc:  0.12479  | Test f1:  0.09332  |\n",
      "========= EPOCH 3 STARTED =========\n"
     ]
    },
    {
     "name": "stderr",
     "output_type": "stream",
     "text": [
      "100%|██████████| 112/112 [00:01<00:00, 104.04it/s]\n"
     ]
    },
    {
     "name": "stdout",
     "output_type": "stream",
     "text": [
      "========= TRAIN EVALUATION STARTED =========\n"
     ]
    },
    {
     "name": "stderr",
     "output_type": "stream",
     "text": [
      "100%|██████████| 112/112 [00:00<00:00, 134.86it/s]\n"
     ]
    },
    {
     "name": "stdout",
     "output_type": "stream",
     "text": [
      "========= TEST EVALUATION STARTED =========\n"
     ]
    },
    {
     "name": "stderr",
     "output_type": "stream",
     "text": [
      "100%|██████████| 28/28 [00:00<00:00, 106.41it/s]\n"
     ]
    },
    {
     "name": "stdout",
     "output_type": "stream",
     "text": [
      "END OF 3 EPOCH\n",
      "| Time taken:   7.724 |\n",
      "| Train Loss:   1.129 | Train acc:  0.12436 | Train f1:  0.09225 |\n",
      "| Test Loss:   1.129  | Test acc:  0.12647  | Test f1:  0.09511  |\n",
      "========= EPOCH 4 STARTED =========\n"
     ]
    },
    {
     "name": "stderr",
     "output_type": "stream",
     "text": [
      "100%|██████████| 112/112 [00:01<00:00, 106.19it/s]\n"
     ]
    },
    {
     "name": "stdout",
     "output_type": "stream",
     "text": [
      "========= TRAIN EVALUATION STARTED =========\n"
     ]
    },
    {
     "name": "stderr",
     "output_type": "stream",
     "text": [
      "100%|██████████| 112/112 [00:00<00:00, 145.54it/s]\n"
     ]
    },
    {
     "name": "stdout",
     "output_type": "stream",
     "text": [
      "========= TEST EVALUATION STARTED =========\n"
     ]
    },
    {
     "name": "stderr",
     "output_type": "stream",
     "text": [
      "100%|██████████| 28/28 [00:00<00:00, 182.79it/s]\n"
     ]
    },
    {
     "name": "stdout",
     "output_type": "stream",
     "text": [
      "END OF 4 EPOCH\n",
      "| Time taken:   7.608 |\n",
      "| Train Loss:   1.129 | Train acc:  0.12517 | Train f1:  0.09356 |\n",
      "| Test Loss:   1.128  | Test acc:  0.12753  | Test f1:  0.09736  |\n",
      "========= EPOCH 5 STARTED =========\n"
     ]
    },
    {
     "name": "stderr",
     "output_type": "stream",
     "text": [
      "100%|██████████| 112/112 [00:01<00:00, 99.96it/s] \n"
     ]
    },
    {
     "name": "stdout",
     "output_type": "stream",
     "text": [
      "========= TRAIN EVALUATION STARTED =========\n"
     ]
    },
    {
     "name": "stderr",
     "output_type": "stream",
     "text": [
      "100%|██████████| 112/112 [00:00<00:00, 149.07it/s]\n"
     ]
    },
    {
     "name": "stdout",
     "output_type": "stream",
     "text": [
      "========= TEST EVALUATION STARTED =========\n"
     ]
    },
    {
     "name": "stderr",
     "output_type": "stream",
     "text": [
      "100%|██████████| 28/28 [00:00<00:00, 187.85it/s]\n"
     ]
    },
    {
     "name": "stdout",
     "output_type": "stream",
     "text": [
      "END OF 5 EPOCH\n",
      "| Time taken:   7.883 |\n",
      "| Train Loss:   1.128 | Train acc:  0.12562 | Train f1:  0.09387 |\n",
      "| Test Loss:   1.128  | Test acc:  0.12830  | Test f1:  0.09775  |\n"
     ]
    },
    {
     "name": "stderr",
     "output_type": "stream",
     "text": [
      "100%|██████████| 28/28 [00:00<00:00, 158.87it/s]\n",
      "[I 2023-12-17 11:43:34,431] Trial 6 finished with value: 0.1282987085906794 and parameters: {'num_layers': 5, 'layer_units_0': 111, 'layer_units_1': 62, 'layer_units_2': 27, 'layer_units_3': 8, 'layer_units_4': 7, 'dropout': 0.41864251778113376, 'lr': 1.235807146880984e-05}. Best is trial 1 with value: 0.7091521617069062.\n"
     ]
    },
    {
     "name": "stdout",
     "output_type": "stream",
     "text": [
      "========= EPOCH 1 STARTED =========\n"
     ]
    },
    {
     "name": "stderr",
     "output_type": "stream",
     "text": [
      "100%|██████████| 112/112 [00:00<00:00, 126.57it/s]\n"
     ]
    },
    {
     "name": "stdout",
     "output_type": "stream",
     "text": [
      "========= TRAIN EVALUATION STARTED =========\n"
     ]
    },
    {
     "name": "stderr",
     "output_type": "stream",
     "text": [
      "100%|██████████| 112/112 [00:00<00:00, 160.26it/s]\n"
     ]
    },
    {
     "name": "stdout",
     "output_type": "stream",
     "text": [
      "========= TEST EVALUATION STARTED =========\n"
     ]
    },
    {
     "name": "stderr",
     "output_type": "stream",
     "text": [
      "100%|██████████| 28/28 [00:00<00:00, 203.07it/s]\n"
     ]
    },
    {
     "name": "stdout",
     "output_type": "stream",
     "text": [
      "END OF 1 EPOCH\n",
      "| Time taken:   7.695 |\n",
      "| Train Loss:   1.081 | Train acc:  0.45906 | Train f1:  0.37563 |\n",
      "| Test Loss:   1.079  | Test acc:  0.46659  | Test f1:  0.38071  |\n",
      "========= EPOCH 2 STARTED =========\n"
     ]
    },
    {
     "name": "stderr",
     "output_type": "stream",
     "text": [
      "100%|██████████| 112/112 [00:00<00:00, 138.72it/s]\n"
     ]
    },
    {
     "name": "stdout",
     "output_type": "stream",
     "text": [
      "========= TRAIN EVALUATION STARTED =========\n"
     ]
    },
    {
     "name": "stderr",
     "output_type": "stream",
     "text": [
      "100%|██████████| 112/112 [00:00<00:00, 123.73it/s]\n"
     ]
    },
    {
     "name": "stdout",
     "output_type": "stream",
     "text": [
      "========= TEST EVALUATION STARTED =========\n"
     ]
    },
    {
     "name": "stderr",
     "output_type": "stream",
     "text": [
      "100%|██████████| 28/28 [00:00<00:00, 196.29it/s]\n"
     ]
    },
    {
     "name": "stdout",
     "output_type": "stream",
     "text": [
      "END OF 2 EPOCH\n",
      "| Time taken:   7.683 |\n",
      "| Train Loss:   1.066 | Train acc:  0.50609 | Train f1:  0.39476 |\n",
      "| Test Loss:   1.065  | Test acc:  0.50835  | Test f1:  0.39568  |\n",
      "========= EPOCH 3 STARTED =========\n"
     ]
    },
    {
     "name": "stderr",
     "output_type": "stream",
     "text": [
      "100%|██████████| 112/112 [00:00<00:00, 146.96it/s]\n"
     ]
    },
    {
     "name": "stdout",
     "output_type": "stream",
     "text": [
      "========= TRAIN EVALUATION STARTED =========\n"
     ]
    },
    {
     "name": "stderr",
     "output_type": "stream",
     "text": [
      "100%|██████████| 112/112 [00:00<00:00, 126.47it/s]\n"
     ]
    },
    {
     "name": "stdout",
     "output_type": "stream",
     "text": [
      "========= TEST EVALUATION STARTED =========\n"
     ]
    },
    {
     "name": "stderr",
     "output_type": "stream",
     "text": [
      "100%|██████████| 28/28 [00:00<00:00, 185.24it/s]\n"
     ]
    },
    {
     "name": "stdout",
     "output_type": "stream",
     "text": [
      "END OF 3 EPOCH\n",
      "| Time taken:   7.584 |\n",
      "| Train Loss:   1.049 | Train acc:  0.54283 | Train f1:  0.40238 |\n",
      "| Test Loss:   1.048  | Test acc:  0.54913  | Test f1:  0.41648  |\n",
      "========= EPOCH 4 STARTED =========\n"
     ]
    },
    {
     "name": "stderr",
     "output_type": "stream",
     "text": [
      "100%|██████████| 112/112 [00:00<00:00, 119.79it/s]\n"
     ]
    },
    {
     "name": "stdout",
     "output_type": "stream",
     "text": [
      "========= TRAIN EVALUATION STARTED =========\n"
     ]
    },
    {
     "name": "stderr",
     "output_type": "stream",
     "text": [
      "100%|██████████| 112/112 [00:00<00:00, 161.33it/s]\n"
     ]
    },
    {
     "name": "stdout",
     "output_type": "stream",
     "text": [
      "========= TEST EVALUATION STARTED =========\n"
     ]
    },
    {
     "name": "stderr",
     "output_type": "stream",
     "text": [
      "100%|██████████| 28/28 [00:00<00:00, 203.90it/s]\n"
     ]
    },
    {
     "name": "stdout",
     "output_type": "stream",
     "text": [
      "END OF 4 EPOCH\n",
      "| Time taken:   7.471 |\n",
      "| Train Loss:   1.035 | Train acc:  0.56142 | Train f1:  0.40592 |\n",
      "| Test Loss:   1.034  | Test acc:  0.56766  | Test f1:  0.41387  |\n",
      "========= EPOCH 5 STARTED =========\n"
     ]
    },
    {
     "name": "stderr",
     "output_type": "stream",
     "text": [
      "100%|██████████| 112/112 [00:00<00:00, 139.27it/s]\n"
     ]
    },
    {
     "name": "stdout",
     "output_type": "stream",
     "text": [
      "========= TRAIN EVALUATION STARTED =========\n"
     ]
    },
    {
     "name": "stderr",
     "output_type": "stream",
     "text": [
      "100%|██████████| 112/112 [00:00<00:00, 162.70it/s]\n"
     ]
    },
    {
     "name": "stdout",
     "output_type": "stream",
     "text": [
      "========= TEST EVALUATION STARTED =========\n"
     ]
    },
    {
     "name": "stderr",
     "output_type": "stream",
     "text": [
      "100%|██████████| 28/28 [00:00<00:00, 199.39it/s]\n"
     ]
    },
    {
     "name": "stdout",
     "output_type": "stream",
     "text": [
      "END OF 5 EPOCH\n",
      "| Time taken:   7.639 |\n",
      "| Train Loss:   1.022 | Train acc:  0.57721 | Train f1:  0.41008 |\n",
      "| Test Loss:   1.021  | Test acc:  0.58113  | Test f1:  0.41534  |\n"
     ]
    },
    {
     "name": "stderr",
     "output_type": "stream",
     "text": [
      "100%|██████████| 28/28 [00:00<00:00, 173.91it/s]\n",
      "[I 2023-12-17 11:44:13,895] Trial 7 finished with value: 0.5811341942728804 and parameters: {'num_layers': 2, 'layer_units_0': 95, 'layer_units_1': 53, 'dropout': 0.40419275616302225, 'lr': 3.351117300063563e-05}. Best is trial 1 with value: 0.7091521617069062.\n"
     ]
    },
    {
     "name": "stdout",
     "output_type": "stream",
     "text": [
      "========= EPOCH 1 STARTED =========\n"
     ]
    },
    {
     "name": "stderr",
     "output_type": "stream",
     "text": [
      "100%|██████████| 112/112 [00:00<00:00, 136.90it/s]\n"
     ]
    },
    {
     "name": "stdout",
     "output_type": "stream",
     "text": [
      "========= TRAIN EVALUATION STARTED =========\n"
     ]
    },
    {
     "name": "stderr",
     "output_type": "stream",
     "text": [
      "100%|██████████| 112/112 [00:01<00:00, 106.41it/s]\n"
     ]
    },
    {
     "name": "stdout",
     "output_type": "stream",
     "text": [
      "========= TEST EVALUATION STARTED =========\n"
     ]
    },
    {
     "name": "stderr",
     "output_type": "stream",
     "text": [
      "100%|██████████| 28/28 [00:00<00:00, 197.09it/s]\n"
     ]
    },
    {
     "name": "stdout",
     "output_type": "stream",
     "text": [
      "END OF 1 EPOCH\n",
      "| Time taken:   7.850 |\n",
      "| Train Loss:   1.096 | Train acc:  0.37427 | Train f1:  0.32823 |\n",
      "| Test Loss:   1.094  | Test acc:  0.38083  | Test f1:  0.33645  |\n",
      "========= EPOCH 2 STARTED =========\n"
     ]
    },
    {
     "name": "stderr",
     "output_type": "stream",
     "text": [
      "100%|██████████| 112/112 [00:00<00:00, 129.73it/s]\n"
     ]
    },
    {
     "name": "stdout",
     "output_type": "stream",
     "text": [
      "========= TRAIN EVALUATION STARTED =========\n"
     ]
    },
    {
     "name": "stderr",
     "output_type": "stream",
     "text": [
      "100%|██████████| 112/112 [00:00<00:00, 130.23it/s]\n"
     ]
    },
    {
     "name": "stdout",
     "output_type": "stream",
     "text": [
      "========= TEST EVALUATION STARTED =========\n"
     ]
    },
    {
     "name": "stderr",
     "output_type": "stream",
     "text": [
      "100%|██████████| 28/28 [00:00<00:00, 183.38it/s]\n"
     ]
    },
    {
     "name": "stdout",
     "output_type": "stream",
     "text": [
      "END OF 2 EPOCH\n",
      "| Time taken:   7.744 |\n",
      "| Train Loss:   1.090 | Train acc:  0.41914 | Train f1:  0.35621 |\n",
      "| Test Loss:   1.088  | Test acc:  0.42273  | Test f1:  0.35979  |\n",
      "========= EPOCH 3 STARTED =========\n"
     ]
    },
    {
     "name": "stderr",
     "output_type": "stream",
     "text": [
      "100%|██████████| 112/112 [00:00<00:00, 134.04it/s]\n"
     ]
    },
    {
     "name": "stdout",
     "output_type": "stream",
     "text": [
      "========= TRAIN EVALUATION STARTED =========\n"
     ]
    },
    {
     "name": "stderr",
     "output_type": "stream",
     "text": [
      "100%|██████████| 112/112 [00:00<00:00, 155.97it/s]\n"
     ]
    },
    {
     "name": "stdout",
     "output_type": "stream",
     "text": [
      "========= TEST EVALUATION STARTED =========\n"
     ]
    },
    {
     "name": "stderr",
     "output_type": "stream",
     "text": [
      "100%|██████████| 28/28 [00:00<00:00, 175.15it/s]\n"
     ]
    },
    {
     "name": "stdout",
     "output_type": "stream",
     "text": [
      "END OF 3 EPOCH\n",
      "| Time taken:   7.578 |\n",
      "| Train Loss:   1.085 | Train acc:  0.45018 | Train f1:  0.37401 |\n",
      "| Test Loss:   1.083  | Test acc:  0.45227  | Test f1:  0.37534  |\n",
      "========= EPOCH 4 STARTED =========\n"
     ]
    },
    {
     "name": "stderr",
     "output_type": "stream",
     "text": [
      "100%|██████████| 112/112 [00:00<00:00, 129.55it/s]\n"
     ]
    },
    {
     "name": "stdout",
     "output_type": "stream",
     "text": [
      "========= TRAIN EVALUATION STARTED =========\n"
     ]
    },
    {
     "name": "stderr",
     "output_type": "stream",
     "text": [
      "100%|██████████| 112/112 [00:00<00:00, 155.25it/s]\n"
     ]
    },
    {
     "name": "stdout",
     "output_type": "stream",
     "text": [
      "========= TEST EVALUATION STARTED =========\n"
     ]
    },
    {
     "name": "stderr",
     "output_type": "stream",
     "text": [
      "100%|██████████| 28/28 [00:00<00:00, 107.25it/s]\n"
     ]
    },
    {
     "name": "stdout",
     "output_type": "stream",
     "text": [
      "END OF 4 EPOCH\n",
      "| Time taken:   7.873 |\n",
      "| Train Loss:   1.079 | Train acc:  0.47645 | Train f1:  0.38714 |\n",
      "| Test Loss:   1.078  | Test acc:  0.48147  | Test f1:  0.39256  |\n",
      "========= EPOCH 5 STARTED =========\n"
     ]
    },
    {
     "name": "stderr",
     "output_type": "stream",
     "text": [
      "100%|██████████| 112/112 [00:00<00:00, 130.97it/s]\n"
     ]
    },
    {
     "name": "stdout",
     "output_type": "stream",
     "text": [
      "========= TRAIN EVALUATION STARTED =========\n"
     ]
    },
    {
     "name": "stderr",
     "output_type": "stream",
     "text": [
      "100%|██████████| 112/112 [00:00<00:00, 121.09it/s]\n"
     ]
    },
    {
     "name": "stdout",
     "output_type": "stream",
     "text": [
      "========= TEST EVALUATION STARTED =========\n"
     ]
    },
    {
     "name": "stderr",
     "output_type": "stream",
     "text": [
      "100%|██████████| 28/28 [00:00<00:00, 167.95it/s]\n"
     ]
    },
    {
     "name": "stdout",
     "output_type": "stream",
     "text": [
      "END OF 5 EPOCH\n",
      "| Time taken:   7.668 |\n",
      "| Train Loss:   1.074 | Train acc:  0.49717 | Train f1:  0.39761 |\n",
      "| Test Loss:   1.072  | Test acc:  0.50365  | Test f1:  0.40404  |\n"
     ]
    },
    {
     "name": "stderr",
     "output_type": "stream",
     "text": [
      "100%|██████████| 28/28 [00:00<00:00, 195.55it/s]\n",
      "[I 2023-12-17 11:44:53,902] Trial 8 finished with value: 0.5036496350364964 and parameters: {'num_layers': 3, 'layer_units_0': 88, 'layer_units_1': 57, 'layer_units_2': 30, 'dropout': 0.25379903827029016, 'lr': 1.5744344182494615e-05}. Best is trial 1 with value: 0.7091521617069062.\n"
     ]
    },
    {
     "name": "stdout",
     "output_type": "stream",
     "text": [
      "========= EPOCH 1 STARTED =========\n"
     ]
    },
    {
     "name": "stderr",
     "output_type": "stream",
     "text": [
      "100%|██████████| 112/112 [00:00<00:00, 123.72it/s]\n"
     ]
    },
    {
     "name": "stdout",
     "output_type": "stream",
     "text": [
      "========= TRAIN EVALUATION STARTED =========\n"
     ]
    },
    {
     "name": "stderr",
     "output_type": "stream",
     "text": [
      "100%|██████████| 112/112 [00:00<00:00, 156.90it/s]\n"
     ]
    },
    {
     "name": "stdout",
     "output_type": "stream",
     "text": [
      "========= TEST EVALUATION STARTED =========\n"
     ]
    },
    {
     "name": "stderr",
     "output_type": "stream",
     "text": [
      "100%|██████████| 28/28 [00:00<00:00, 191.02it/s]\n"
     ]
    },
    {
     "name": "stdout",
     "output_type": "stream",
     "text": [
      "END OF 1 EPOCH\n",
      "| Time taken:   7.663 |\n",
      "| Train Loss:   1.082 | Train acc:  0.44664 | Train f1:  0.35725 |\n",
      "| Test Loss:   1.081  | Test acc:  0.44855  | Test f1:  0.35869  |\n",
      "========= EPOCH 2 STARTED =========\n"
     ]
    },
    {
     "name": "stderr",
     "output_type": "stream",
     "text": [
      "100%|██████████| 112/112 [00:01<00:00, 110.69it/s]\n"
     ]
    },
    {
     "name": "stdout",
     "output_type": "stream",
     "text": [
      "========= TRAIN EVALUATION STARTED =========\n"
     ]
    },
    {
     "name": "stderr",
     "output_type": "stream",
     "text": [
      "100%|██████████| 112/112 [00:00<00:00, 138.86it/s]\n"
     ]
    },
    {
     "name": "stdout",
     "output_type": "stream",
     "text": [
      "========= TEST EVALUATION STARTED =========\n"
     ]
    },
    {
     "name": "stderr",
     "output_type": "stream",
     "text": [
      "100%|██████████| 28/28 [00:00<00:00, 161.68it/s]\n"
     ]
    },
    {
     "name": "stdout",
     "output_type": "stream",
     "text": [
      "END OF 2 EPOCH\n",
      "| Time taken:   8.022 |\n",
      "| Train Loss:   1.077 | Train acc:  0.47986 | Train f1:  0.37770 |\n",
      "| Test Loss:   1.076  | Test acc:  0.48063  | Test f1:  0.37926  |\n",
      "========= EPOCH 3 STARTED =========\n"
     ]
    },
    {
     "name": "stderr",
     "output_type": "stream",
     "text": [
      "100%|██████████| 112/112 [00:00<00:00, 129.89it/s]\n"
     ]
    },
    {
     "name": "stdout",
     "output_type": "stream",
     "text": [
      "========= TRAIN EVALUATION STARTED =========\n"
     ]
    },
    {
     "name": "stderr",
     "output_type": "stream",
     "text": [
      "100%|██████████| 112/112 [00:00<00:00, 142.58it/s]\n"
     ]
    },
    {
     "name": "stdout",
     "output_type": "stream",
     "text": [
      "========= TEST EVALUATION STARTED =========\n"
     ]
    },
    {
     "name": "stderr",
     "output_type": "stream",
     "text": [
      "100%|██████████| 28/28 [00:00<00:00, 180.16it/s]\n"
     ]
    },
    {
     "name": "stdout",
     "output_type": "stream",
     "text": [
      "END OF 3 EPOCH\n",
      "| Time taken:   7.746 |\n",
      "| Train Loss:   1.067 | Train acc:  0.50769 | Train f1:  0.38522 |\n",
      "| Test Loss:   1.067  | Test acc:  0.51116  | Test f1:  0.39011  |\n",
      "========= EPOCH 4 STARTED =========\n"
     ]
    },
    {
     "name": "stderr",
     "output_type": "stream",
     "text": [
      "100%|██████████| 112/112 [00:00<00:00, 127.46it/s]\n"
     ]
    },
    {
     "name": "stdout",
     "output_type": "stream",
     "text": [
      "========= TRAIN EVALUATION STARTED =========\n"
     ]
    },
    {
     "name": "stderr",
     "output_type": "stream",
     "text": [
      "100%|██████████| 112/112 [00:00<00:00, 157.06it/s]\n"
     ]
    },
    {
     "name": "stdout",
     "output_type": "stream",
     "text": [
      "========= TEST EVALUATION STARTED =========\n"
     ]
    },
    {
     "name": "stderr",
     "output_type": "stream",
     "text": [
      "100%|██████████| 28/28 [00:00<00:00, 190.64it/s]\n"
     ]
    },
    {
     "name": "stdout",
     "output_type": "stream",
     "text": [
      "END OF 4 EPOCH\n",
      "| Time taken:   7.603 |\n",
      "| Train Loss:   1.057 | Train acc:  0.52336 | Train f1:  0.38797 |\n",
      "| Test Loss:   1.056  | Test acc:  0.52800  | Test f1:  0.39197  |\n",
      "========= EPOCH 5 STARTED =========\n"
     ]
    },
    {
     "name": "stderr",
     "output_type": "stream",
     "text": [
      "100%|██████████| 112/112 [00:00<00:00, 130.48it/s]\n"
     ]
    },
    {
     "name": "stdout",
     "output_type": "stream",
     "text": [
      "========= TRAIN EVALUATION STARTED =========\n"
     ]
    },
    {
     "name": "stderr",
     "output_type": "stream",
     "text": [
      "100%|██████████| 112/112 [00:00<00:00, 135.66it/s]\n"
     ]
    },
    {
     "name": "stdout",
     "output_type": "stream",
     "text": [
      "========= TEST EVALUATION STARTED =========\n"
     ]
    },
    {
     "name": "stderr",
     "output_type": "stream",
     "text": [
      "100%|██████████| 28/28 [00:00<00:00, 133.50it/s]\n"
     ]
    },
    {
     "name": "stdout",
     "output_type": "stream",
     "text": [
      "END OF 5 EPOCH\n",
      "| Time taken:   9.214 |\n",
      "| Train Loss:   1.046 | Train acc:  0.53492 | Train f1:  0.38923 |\n",
      "| Test Loss:   1.046  | Test acc:  0.54120  | Test f1:  0.39443  |\n"
     ]
    },
    {
     "name": "stderr",
     "output_type": "stream",
     "text": [
      "100%|██████████| 28/28 [00:00<00:00, 150.90it/s]\n",
      "[I 2023-12-17 11:45:35,579] Trial 9 finished with value: 0.5411987647389107 and parameters: {'num_layers': 3, 'layer_units_0': 136, 'layer_units_1': 36, 'layer_units_2': 31, 'dropout': 0.4630494057724695, 'lr': 4.0284162961129816e-05}. Best is trial 1 with value: 0.7091521617069062.\n"
     ]
    },
    {
     "name": "stdout",
     "output_type": "stream",
     "text": [
      "Best hyperparameters: {'num_layers': 2, 'layer_units_0': 120, 'layer_units_1': 47, 'dropout': 0.23679827334783998, 'lr': 0.0003357065729772926}\n",
      "========= EPOCH 1 STARTED =========\n"
     ]
    },
    {
     "name": "stderr",
     "output_type": "stream",
     "text": [
      "100%|██████████| 112/112 [00:00<00:00, 128.69it/s]\n"
     ]
    },
    {
     "name": "stdout",
     "output_type": "stream",
     "text": [
      "========= TRAIN EVALUATION STARTED =========\n"
     ]
    },
    {
     "name": "stderr",
     "output_type": "stream",
     "text": [
      "100%|██████████| 112/112 [00:00<00:00, 132.45it/s]\n"
     ]
    },
    {
     "name": "stdout",
     "output_type": "stream",
     "text": [
      "========= TEST EVALUATION STARTED =========\n"
     ]
    },
    {
     "name": "stderr",
     "output_type": "stream",
     "text": [
      "100%|██████████| 28/28 [00:00<00:00, 135.90it/s]\n"
     ]
    },
    {
     "name": "stdout",
     "output_type": "stream",
     "text": [
      "END OF 1 EPOCH\n",
      "| Time taken:   8.660 |\n",
      "| Train Loss:   0.957 | Train acc:  0.62804 | Train f1:  0.43676 |\n",
      "| Test Loss:   0.957  | Test acc:  0.62830  | Test f1:  0.43713  |\n",
      "========= EPOCH 2 STARTED =========\n"
     ]
    },
    {
     "name": "stderr",
     "output_type": "stream",
     "text": [
      "100%|██████████| 112/112 [00:00<00:00, 126.19it/s]\n"
     ]
    },
    {
     "name": "stdout",
     "output_type": "stream",
     "text": [
      "========= TRAIN EVALUATION STARTED =========\n"
     ]
    },
    {
     "name": "stderr",
     "output_type": "stream",
     "text": [
      "100%|██████████| 112/112 [00:00<00:00, 135.88it/s]\n"
     ]
    },
    {
     "name": "stdout",
     "output_type": "stream",
     "text": [
      "========= TEST EVALUATION STARTED =========\n"
     ]
    },
    {
     "name": "stderr",
     "output_type": "stream",
     "text": [
      "100%|██████████| 28/28 [00:00<00:00, 150.82it/s]\n"
     ]
    },
    {
     "name": "stdout",
     "output_type": "stream",
     "text": [
      "END OF 2 EPOCH\n",
      "| Time taken:   8.095 |\n",
      "| Train Loss:   0.882 | Train acc:  0.67125 | Train f1:  0.46407 |\n",
      "| Test Loss:   0.885  | Test acc:  0.66802  | Test f1:  0.46111  |\n",
      "========= EPOCH 3 STARTED =========\n"
     ]
    },
    {
     "name": "stderr",
     "output_type": "stream",
     "text": [
      "100%|██████████| 112/112 [00:00<00:00, 125.61it/s]\n"
     ]
    },
    {
     "name": "stdout",
     "output_type": "stream",
     "text": [
      "========= TRAIN EVALUATION STARTED =========\n"
     ]
    },
    {
     "name": "stderr",
     "output_type": "stream",
     "text": [
      "100%|██████████| 112/112 [00:00<00:00, 113.06it/s]\n"
     ]
    },
    {
     "name": "stdout",
     "output_type": "stream",
     "text": [
      "========= TEST EVALUATION STARTED =========\n"
     ]
    },
    {
     "name": "stderr",
     "output_type": "stream",
     "text": [
      "100%|██████████| 28/28 [00:00<00:00, 152.49it/s]\n"
     ]
    },
    {
     "name": "stdout",
     "output_type": "stream",
     "text": [
      "END OF 3 EPOCH\n",
      "| Time taken:   8.311 |\n",
      "| Train Loss:   0.855 | Train acc:  0.70176 | Train f1:  0.48254 |\n",
      "| Test Loss:   0.858  | Test acc:  0.69947  | Test f1:  0.48043  |\n",
      "========= EPOCH 4 STARTED =========\n"
     ]
    },
    {
     "name": "stderr",
     "output_type": "stream",
     "text": [
      "100%|██████████| 112/112 [00:01<00:00, 105.40it/s]\n"
     ]
    },
    {
     "name": "stdout",
     "output_type": "stream",
     "text": [
      "========= TRAIN EVALUATION STARTED =========\n"
     ]
    },
    {
     "name": "stderr",
     "output_type": "stream",
     "text": [
      "100%|██████████| 112/112 [00:00<00:00, 114.88it/s]\n"
     ]
    },
    {
     "name": "stdout",
     "output_type": "stream",
     "text": [
      "========= TEST EVALUATION STARTED =========\n"
     ]
    },
    {
     "name": "stderr",
     "output_type": "stream",
     "text": [
      "100%|██████████| 28/28 [00:00<00:00, 129.90it/s]\n"
     ]
    },
    {
     "name": "stdout",
     "output_type": "stream",
     "text": [
      "END OF 4 EPOCH\n",
      "| Time taken:   8.276 |\n",
      "| Train Loss:   0.842 | Train acc:  0.71240 | Train f1:  0.48854 |\n",
      "| Test Loss:   0.847  | Test acc:  0.70712  | Test f1:  0.48320  |\n",
      "========= EPOCH 5 STARTED =========\n"
     ]
    },
    {
     "name": "stderr",
     "output_type": "stream",
     "text": [
      "100%|██████████| 112/112 [00:00<00:00, 121.36it/s]\n"
     ]
    },
    {
     "name": "stdout",
     "output_type": "stream",
     "text": [
      "========= TRAIN EVALUATION STARTED =========\n"
     ]
    },
    {
     "name": "stderr",
     "output_type": "stream",
     "text": [
      "100%|██████████| 112/112 [00:00<00:00, 118.10it/s]\n"
     ]
    },
    {
     "name": "stdout",
     "output_type": "stream",
     "text": [
      "========= TEST EVALUATION STARTED =========\n"
     ]
    },
    {
     "name": "stderr",
     "output_type": "stream",
     "text": [
      "100%|██████████| 28/28 [00:00<00:00, 147.93it/s]\n"
     ]
    },
    {
     "name": "stdout",
     "output_type": "stream",
     "text": [
      "END OF 5 EPOCH\n",
      "| Time taken:   8.512 |\n",
      "| Train Loss:   0.838 | Train acc:  0.71554 | Train f1:  0.49092 |\n",
      "| Test Loss:   0.843  | Test acc:  0.70964  | Test f1:  0.48472  |\n",
      "0.70964345873105\n"
     ]
    }
   ],
   "source": [
    "study = optuna.create_study(direction='maximize')\n",
    "study.optimize(objective1, n_trials=10)  # You can increase n_trials for more optimization\n",
    "\n",
    "# Get the best hyperparameters found by Optuna\n",
    "best_params = study.best_params\n",
    "print(\"Best hyperparameters:\", best_params)\n",
    "\n",
    "layer_units = [X.shape[1]] + [best_params[f'layer_units_{i}'] for i in range(best_params['num_layers'])]\n",
    "best_model = nn.Sequential(\n",
    "    *(nn.Sequential(nn.Linear(layer_units[i], layer_units[i + 1]),\n",
    "                    nn.ReLU(),\n",
    "                    nn.BatchNorm1d(layer_units[i + 1]),\n",
    "                    nn.Dropout(best_params['dropout'])) for i in range(best_params['num_layers'])),\n",
    "    nn.Linear(layer_units[-1], 3)  # Assuming 3 output classes\n",
    ").to(device)\n",
    "\n",
    "best_lr = best_params['lr']\n",
    "best_optimiser = torch.optim.Adam(best_model.parameters(), lr=best_lr)\n",
    "\n",
    "train_model(best_model, train_dataloader, test_dataloader, best_optimiser)\n",
    "\n",
    "# Use the trained model for predictions or further evaluation as needed\n",
    "test_data = torch.tensor(X_test.iloc[:, 0:-1].values.astype(np.int64), dtype=torch.float32)\n",
    "output_probs = nn.Softmax(dim=-1)(best_model(test_data))\n",
    "preds = torch.max(output_probs.data, 1)\n",
    "vals = preds.indices.numpy()\n",
    "actual = Y_test['readmission_id'].to_numpy()\n",
    "print(accuracy_score(vals, actual))"
   ]
  },
  {
   "cell_type": "code",
   "execution_count": 30,
   "metadata": {},
   "outputs": [
    {
     "data": {
      "image/png": "[encoded data removed]",
      "text/plain": [
       "<Figure size 640x480 with 2 Axes>"
      ]
     },
     "metadata": {},
     "output_type": "display_data"
    },
    {
     "name": "stdout",
     "output_type": "stream",
     "text": [
      "0.70964345873105\n"
     ]
    }
   ],
   "source": [
    "cm = confusion_matrix(actual, vals)\n",
    "disp = ConfusionMatrixDisplay(confusion_matrix=cm, display_labels=range(3))\n",
    "disp.plot()\n",
    "plt.show()\n",
    "print(accuracy_score(vals, actual))"
   ]
  },
  {
   "cell_type": "code",
   "execution_count": 31,
   "metadata": {},
   "outputs": [
    {
     "data": {
      "text/plain": [
       "(30530, 136)"
      ]
     },
     "execution_count": 31,
     "metadata": {},
     "output_type": "execute_result"
    }
   ],
   "source": [
    "test_df = pd.read_csv(\"./test_data.csv\")\n",
    "test_df.shape"
   ]
  },
  {
   "cell_type": "code",
   "execution_count": 32,
   "metadata": {},
   "outputs": [
    {
     "name": "stdout",
     "output_type": "stream",
     "text": [
      "tensor([[ 1.0316,  4.6475, -5.2906],\n",
      "        [-1.5375, -2.0335,  3.0317],\n",
      "        [ 1.9290,  6.4632, -7.8397],\n",
      "        ...,\n",
      "        [ 2.2528,  6.3198, -7.6983],\n",
      "        [ 2.4442,  6.5392, -7.7657],\n",
      "        [ 0.2596,  3.9610, -3.7541]], grad_fn=<AddmmBackward0>)\n"
     ]
    }
   ],
   "source": [
    "test_data = torch.tensor(test_df.values.astype(np.int64), dtype=torch.float32)\n",
    "print(best_model.forward(test_data))"
   ]
  },
  {
   "cell_type": "code",
   "execution_count": 33,
   "metadata": {},
   "outputs": [
    {
     "data": {
      "text/plain": [
       "array([1, 2, 1, ..., 1, 1, 1])"
      ]
     },
     "execution_count": 33,
     "metadata": {},
     "output_type": "execute_result"
    }
   ],
   "source": [
    "output_probs = nn.Softmax(dim=-1)(model(test_data))\n",
    "preds = torch.max(output_probs.data, 1)\n",
    "vals = preds.indices.numpy()\n",
    "vals"
   ]
  },
  {
   "cell_type": "markdown",
   "metadata": {},
   "source": [
    "Getting the output and then storing the ouput in submission_nn.csv file for submission"
   ]
  },
  {
   "cell_type": "code",
   "execution_count": 35,
   "metadata": {},
   "outputs": [],
   "source": [
    "df_output = pd.read_csv(\"../canadian-hospital-re-admittance-challenge/sample_submission.csv\")\n",
    "df_output[\"readmission_id\"] = vals\n",
    "df_output.to_csv(\"submission_nn.csv\", index=False)"
   ]
  },
  {
   "cell_type": "markdown",
   "metadata": {},
   "source": [
    "### References\n",
    "1. List of ICD-9 codes : https://en.wikipedia.org/wiki/List_of_ICD-9_codes\n",
    "2. Optuna documentation : https://optuna.readthedocs.io/en/stable/\n",
    "3. Pandas documentation : https://pandas.pydata.org/docs/\n",
    "4. Numpy documentation : https://numpy.org/doc/1.26/user/index.html\n",
    "5. Scikit learn documentation : https://scikit-learn.org/stable/\n",
    "6. Pytorch documentation : https://pytorch.org/docs/stable/index.html"
   ]
  }
 ],
 "metadata": {
  "kernelspec": {
   "display_name": "base",
   "language": "python",
   "name": "python3"
  },
  "language_info": {
   "codemirror_mode": {
    "name": "ipython",
    "version": 3
   },
   "file_extension": ".py",
   "mimetype": "text/x-python",
   "name": "python",
   "nbconvert_exporter": "python",
   "pygments_lexer": "ipython3",
   "version": "3.10.9"
  }
 },
 "nbformat": 4,
 "nbformat_minor": 2
}
