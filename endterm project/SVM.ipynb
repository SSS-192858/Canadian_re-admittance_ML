{
 "cells": [
  {
   "cell_type": "code",
   "execution_count": 1,
   "metadata": {},
   "outputs": [],
   "source": [
    "import numpy as np\n",
    "import pandas as pd\n",
    "from sklearn.model_selection import train_test_split\n",
    "from sklearn.metrics import accuracy_score, f1_score\n",
    "from sklearn.preprocessing import StandardScaler\n",
    "from sklearn.svm import SVC\n",
    "import optuna"
   ]
  },
  {
   "cell_type": "code",
   "execution_count": 2,
   "metadata": {},
   "outputs": [],
   "source": [
    "df = pd.read_csv(\"./processed_data.csv\")\n",
    "X = df.iloc[:, :-1].values\n",
    "Y = df.iloc[:, -1].values\n",
    "\n",
    "# Perform train-test split\n",
    "X_train, X_test, Y_train, Y_test = train_test_split(X, Y, test_size=0.2, random_state=0, stratify=Y)\n"
   ]
  },
  {
   "cell_type": "code",
   "execution_count": 3,
   "metadata": {},
   "outputs": [],
   "source": [
    "# Standardize the data\n",
    "scaler = StandardScaler()\n",
    "X_train = scaler.fit_transform(X_train)\n",
    "X_test = scaler.transform(X_test)"
   ]
  },
  {
   "cell_type": "code",
   "execution_count": 4,
   "metadata": {},
   "outputs": [],
   "source": [
    "# Define the objective function for SVM and hyperparameter tuning\n",
    "def objective(trial):\n",
    "    C = trial.suggest_loguniform('C', 1e-5, 1e2)\n",
    "    gamma = trial.suggest_loguniform('gamma', 1e-5, 1e2)\n",
    "\n",
    "    svm = SVC(C=C, gamma=gamma)\n",
    "    svm.fit(X_train, Y_train)\n",
    "    \n",
    "    preds = svm.predict(X_test)\n",
    "    acc = accuracy_score(Y_test, preds)\n",
    "    return acc\n"
   ]
  },
  {
   "cell_type": "code",
   "execution_count": 5,
   "metadata": {},
   "outputs": [
    {
     "name": "stderr",
     "output_type": "stream",
     "text": [
      "[I 2023-12-15 18:27:00,740] A new study created in memory with name: no-name-bbf45a79-575b-4755-bbef-176e660db828\n",
      "/tmp/ipykernel_45425/3038806161.py:3: FutureWarning: suggest_loguniform has been deprecated in v3.0.0. This feature will be removed in v6.0.0. See https://github.com/optuna/optuna/releases/tag/v3.0.0. Use suggest_float(..., log=True) instead.\n",
      "  C = trial.suggest_loguniform('C', 1e-5, 1e2)\n",
      "/tmp/ipykernel_45425/3038806161.py:4: FutureWarning: suggest_loguniform has been deprecated in v3.0.0. This feature will be removed in v6.0.0. See https://github.com/optuna/optuna/releases/tag/v3.0.0. Use suggest_float(..., log=True) instead.\n",
      "  gamma = trial.suggest_loguniform('gamma', 1e-5, 1e2)\n",
      "[I 2023-12-15 19:52:22,025] Trial 0 finished with value: 0.539093206064009 and parameters: {'C': 55.54306181011332, 'gamma': 38.35844008937296}. Best is trial 0 with value: 0.539093206064009.\n",
      "/tmp/ipykernel_45425/3038806161.py:3: FutureWarning: suggest_loguniform has been deprecated in v3.0.0. This feature will be removed in v6.0.0. See https://github.com/optuna/optuna/releases/tag/v3.0.0. Use suggest_float(..., log=True) instead.\n",
      "  C = trial.suggest_loguniform('C', 1e-5, 1e2)\n",
      "/tmp/ipykernel_45425/3038806161.py:4: FutureWarning: suggest_loguniform has been deprecated in v3.0.0. This feature will be removed in v6.0.0. See https://github.com/optuna/optuna/releases/tag/v3.0.0. Use suggest_float(..., log=True) instead.\n",
      "  gamma = trial.suggest_loguniform('gamma', 1e-5, 1e2)\n",
      "[I 2023-12-15 20:12:33,149] Trial 1 finished with value: 0.539093206064009 and parameters: {'C': 0.004209140359022083, 'gamma': 1.2084103222790683}. Best is trial 0 with value: 0.539093206064009.\n",
      "/tmp/ipykernel_45425/3038806161.py:3: FutureWarning: suggest_loguniform has been deprecated in v3.0.0. This feature will be removed in v6.0.0. See https://github.com/optuna/optuna/releases/tag/v3.0.0. Use suggest_float(..., log=True) instead.\n",
      "  C = trial.suggest_loguniform('C', 1e-5, 1e2)\n",
      "/tmp/ipykernel_45425/3038806161.py:4: FutureWarning: suggest_loguniform has been deprecated in v3.0.0. This feature will be removed in v6.0.0. See https://github.com/optuna/optuna/releases/tag/v3.0.0. Use suggest_float(..., log=True) instead.\n",
      "  gamma = trial.suggest_loguniform('gamma', 1e-5, 1e2)\n",
      "[I 2023-12-15 20:42:45,043] Trial 2 finished with value: 0.545199326221224 and parameters: {'C': 0.1585029365329744, 'gamma': 0.21584698459088567}. Best is trial 2 with value: 0.545199326221224.\n",
      "/tmp/ipykernel_45425/3038806161.py:3: FutureWarning: suggest_loguniform has been deprecated in v3.0.0. This feature will be removed in v6.0.0. See https://github.com/optuna/optuna/releases/tag/v3.0.0. Use suggest_float(..., log=True) instead.\n",
      "  C = trial.suggest_loguniform('C', 1e-5, 1e2)\n",
      "/tmp/ipykernel_45425/3038806161.py:4: FutureWarning: suggest_loguniform has been deprecated in v3.0.0. This feature will be removed in v6.0.0. See https://github.com/optuna/optuna/releases/tag/v3.0.0. Use suggest_float(..., log=True) instead.\n",
      "  gamma = trial.suggest_loguniform('gamma', 1e-5, 1e2)\n",
      "[I 2023-12-15 21:03:05,710] Trial 3 finished with value: 0.539093206064009 and parameters: {'C': 0.01385724185131296, 'gamma': 0.13367106084010313}. Best is trial 2 with value: 0.545199326221224.\n",
      "/tmp/ipykernel_45425/3038806161.py:3: FutureWarning: suggest_loguniform has been deprecated in v3.0.0. This feature will be removed in v6.0.0. See https://github.com/optuna/optuna/releases/tag/v3.0.0. Use suggest_float(..., log=True) instead.\n",
      "  C = trial.suggest_loguniform('C', 1e-5, 1e2)\n",
      "/tmp/ipykernel_45425/3038806161.py:4: FutureWarning: suggest_loguniform has been deprecated in v3.0.0. This feature will be removed in v6.0.0. See https://github.com/optuna/optuna/releases/tag/v3.0.0. Use suggest_float(..., log=True) instead.\n",
      "  gamma = trial.suggest_loguniform('gamma', 1e-5, 1e2)\n",
      "[I 2023-12-15 21:10:39,715] Trial 4 finished with value: 0.539093206064009 and parameters: {'C': 0.00020641258068682951, 'gamma': 0.3650631585507101}. Best is trial 2 with value: 0.545199326221224.\n",
      "/tmp/ipykernel_45425/3038806161.py:3: FutureWarning: suggest_loguniform has been deprecated in v3.0.0. This feature will be removed in v6.0.0. See https://github.com/optuna/optuna/releases/tag/v3.0.0. Use suggest_float(..., log=True) instead.\n",
      "  C = trial.suggest_loguniform('C', 1e-5, 1e2)\n",
      "/tmp/ipykernel_45425/3038806161.py:4: FutureWarning: suggest_loguniform has been deprecated in v3.0.0. This feature will be removed in v6.0.0. See https://github.com/optuna/optuna/releases/tag/v3.0.0. Use suggest_float(..., log=True) instead.\n",
      "  gamma = trial.suggest_loguniform('gamma', 1e-5, 1e2)\n",
      "[I 2023-12-15 21:21:59,147] Trial 5 finished with value: 0.5392335766423357 and parameters: {'C': 0.003469512512372587, 'gamma': 0.0011300210548705887}. Best is trial 2 with value: 0.545199326221224.\n",
      "/tmp/ipykernel_45425/3038806161.py:3: FutureWarning: suggest_loguniform has been deprecated in v3.0.0. This feature will be removed in v6.0.0. See https://github.com/optuna/optuna/releases/tag/v3.0.0. Use suggest_float(..., log=True) instead.\n",
      "  C = trial.suggest_loguniform('C', 1e-5, 1e2)\n",
      "/tmp/ipykernel_45425/3038806161.py:4: FutureWarning: suggest_loguniform has been deprecated in v3.0.0. This feature will be removed in v6.0.0. See https://github.com/optuna/optuna/releases/tag/v3.0.0. Use suggest_float(..., log=True) instead.\n",
      "  gamma = trial.suggest_loguniform('gamma', 1e-5, 1e2)\n",
      "[I 2023-12-15 21:41:46,184] Trial 6 finished with value: 0.539093206064009 and parameters: {'C': 0.0020615362341102465, 'gamma': 0.1701464316432752}. Best is trial 2 with value: 0.545199326221224.\n",
      "/tmp/ipykernel_45425/3038806161.py:3: FutureWarning: suggest_loguniform has been deprecated in v3.0.0. This feature will be removed in v6.0.0. See https://github.com/optuna/optuna/releases/tag/v3.0.0. Use suggest_float(..., log=True) instead.\n",
      "  C = trial.suggest_loguniform('C', 1e-5, 1e2)\n",
      "/tmp/ipykernel_45425/3038806161.py:4: FutureWarning: suggest_loguniform has been deprecated in v3.0.0. This feature will be removed in v6.0.0. See https://github.com/optuna/optuna/releases/tag/v3.0.0. Use suggest_float(..., log=True) instead.\n",
      "  gamma = trial.suggest_loguniform('gamma', 1e-5, 1e2)\n",
      "[I 2023-12-15 21:51:46,949] Trial 7 finished with value: 0.5417602470522178 and parameters: {'C': 0.002586946422320889, 'gamma': 0.004392902511626879}. Best is trial 2 with value: 0.545199326221224.\n",
      "/tmp/ipykernel_45425/3038806161.py:3: FutureWarning: suggest_loguniform has been deprecated in v3.0.0. This feature will be removed in v6.0.0. See https://github.com/optuna/optuna/releases/tag/v3.0.0. Use suggest_float(..., log=True) instead.\n",
      "  C = trial.suggest_loguniform('C', 1e-5, 1e2)\n",
      "/tmp/ipykernel_45425/3038806161.py:4: FutureWarning: suggest_loguniform has been deprecated in v3.0.0. This feature will be removed in v6.0.0. See https://github.com/optuna/optuna/releases/tag/v3.0.0. Use suggest_float(..., log=True) instead.\n",
      "  gamma = trial.suggest_loguniform('gamma', 1e-5, 1e2)\n",
      "[I 2023-12-15 21:59:43,511] Trial 8 finished with value: 0.539093206064009 and parameters: {'C': 5.075768617035279e-05, 'gamma': 2.5000811381909545}. Best is trial 2 with value: 0.545199326221224.\n",
      "/tmp/ipykernel_45425/3038806161.py:3: FutureWarning: suggest_loguniform has been deprecated in v3.0.0. This feature will be removed in v6.0.0. See https://github.com/optuna/optuna/releases/tag/v3.0.0. Use suggest_float(..., log=True) instead.\n",
      "  C = trial.suggest_loguniform('C', 1e-5, 1e2)\n",
      "/tmp/ipykernel_45425/3038806161.py:4: FutureWarning: suggest_loguniform has been deprecated in v3.0.0. This feature will be removed in v6.0.0. See https://github.com/optuna/optuna/releases/tag/v3.0.0. Use suggest_float(..., log=True) instead.\n",
      "  gamma = trial.suggest_loguniform('gamma', 1e-5, 1e2)\n",
      "[I 2023-12-15 22:08:15,079] Trial 9 finished with value: 0.539093206064009 and parameters: {'C': 7.797431996680382e-05, 'gamma': 0.00020367830440784992}. Best is trial 2 with value: 0.545199326221224.\n"
     ]
    },
    {
     "name": "stdout",
     "output_type": "stream",
     "text": [
      "Best hyperparameters: {'C': 0.1585029365329744, 'gamma': 0.21584698459088567}\n",
      "Accuracy: 0.545199326221224\n"
     ]
    }
   ],
   "source": [
    "study = optuna.create_study(direction='maximize')\n",
    "study.optimize(objective, n_trials=10)\n",
    "\n",
    "best_params = study.best_params\n",
    "print(\"Best hyperparameters:\", best_params)\n",
    "\n",
    "# Train SVM using the best hyperparameters\n",
    "best_svm = SVC(C=best_params['C'], gamma=best_params['gamma'])\n",
    "best_svm.fit(X_train, Y_train)\n",
    "\n",
    "# Evaluate the best SVM model\n",
    "preds = best_svm.predict(X_test)\n",
    "acc = accuracy_score(Y_test, preds)\n",
    "print(f\"Accuracy: {acc}\")"
   ]
  },
  {
   "cell_type": "code",
   "execution_count": 6,
   "metadata": {},
   "outputs": [
    {
     "data": {
      "text/plain": [
       "(30530, 136)"
      ]
     },
     "execution_count": 6,
     "metadata": {},
     "output_type": "execute_result"
    }
   ],
   "source": [
    "test_df = pd.read_csv(\"./test_data.csv\")\n",
    "test_df.shape"
   ]
  },
  {
   "cell_type": "code",
   "execution_count": 7,
   "metadata": {},
   "outputs": [
    {
     "name": "stderr",
     "output_type": "stream",
     "text": [
      "/home/sankalp/anaconda3/lib/python3.11/site-packages/sklearn/base.py:457: UserWarning: X has feature names, but SVC was fitted without feature names\n",
      "  warnings.warn(\n"
     ]
    },
    {
     "data": {
      "text/plain": [
       "array([2, 2, 2, ..., 2, 2, 2])"
      ]
     },
     "execution_count": 7,
     "metadata": {},
     "output_type": "execute_result"
    }
   ],
   "source": [
    "test_pred = best_svm.predict(test_df)\n",
    "test_pred"
   ]
  },
  {
   "cell_type": "code",
   "execution_count": null,
   "metadata": {},
   "outputs": [],
   "source": [
    "df_output = pd.read_csv(\"./canadian-hospital-re-admittance-challenge/sample_submission.csv\")\n",
    "df_output[\"readmission_id\"] = test_pred\n",
    "df_output.to_csv(\"submission_svm.csv\", index=False)"
   ]
  }
 ],
 "metadata": {
  "kernelspec": {
   "display_name": "base",
   "language": "python",
   "name": "python3"
  },
  "language_info": {
   "codemirror_mode": {
    "name": "ipython",
    "version": 3
   },
   "file_extension": ".py",
   "mimetype": "text/x-python",
   "name": "python",
   "nbconvert_exporter": "python",
   "pygments_lexer": "ipython3",
   "version": "3.11.5"
  }
 },
 "nbformat": 4,
 "nbformat_minor": 2
}
