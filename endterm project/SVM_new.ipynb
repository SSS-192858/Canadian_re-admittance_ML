{
  "cells": [
    {
      "cell_type": "code",
      "execution_count": 1,
      "metadata": {
        "id": "Y2_tO3TFHhBM"
      },
      "outputs": [],
      "source": [
        "import pandas as pd\n",
        "from sklearn.model_selection import train_test_split\n",
        "from sklearn.svm import SVC\n",
        "from sklearn.metrics import accuracy_score\n",
        "import optuna"
      ]
    },
    {
      "cell_type": "code",
      "execution_count": 2,
      "metadata": {},
      "outputs": [],
      "source": [
        "train_data = pd.read_csv(\"./processed_data.csv\")"
      ]
    },
    {
      "cell_type": "code",
      "execution_count": 3,
      "metadata": {
        "id": "mdnNWZbKjehq"
      },
      "outputs": [],
      "source": [
        "X = train_data.drop('readmission_id', axis=1)\n",
        "y = train_data['readmission_id']\n",
        "X_train, X_val, y_train, y_val = train_test_split(X, y, test_size=0.2, random_state=42)"
      ]
    },
    {
      "cell_type": "code",
      "execution_count": 4,
      "metadata": {
        "id": "J-tFmdr1mtSv"
      },
      "outputs": [
        {
          "name": "stdout",
          "output_type": "stream",
          "text": [
            "Polynomial Kernel Accuracy: 0.6428972487366648\n"
          ]
        }
      ],
      "source": [
        "# svm_poly = SVC(kernel='poly', degree=3, random_state=42)\n",
        "# svm_poly.fit(X_train, y_train)\n",
        "# y_pred_poly = svm_poly.predict(X_val)\n",
        "# accuracy_poly = accuracy_score(y_val, y_pred_poly)\n",
        "# print(f'Polynomial Kernel Accuracy: {accuracy_poly}')"
      ]
    },
    {
      "cell_type": "code",
      "execution_count": 5,
      "metadata": {
        "colab": {
          "base_uri": "https://localhost:8080/"
        },
        "id": "DLqsO-H7tKN2",
        "outputId": "d3b009a3-30a5-4e68-94d0-6769b3496791"
      },
      "outputs": [
        {
          "name": "stdout",
          "output_type": "stream",
          "text": [
            "RBF Kernel Accuracy: 0.6424761370016845\n"
          ]
        }
      ],
      "source": [
        "# svm_rbf = SVC(kernel='rbf', random_state=42)\n",
        "# svm_rbf.fit(X_train, y_train)\n",
        "# y_pred_rbf = svm_rbf.predict(X_val)\n",
        "# accuracy_rbf = accuracy_score(y_val, y_pred_rbf)\n",
        "# print(f'RBF Kernel Accuracy: {accuracy_rbf}')"
      ]
    },
    {
      "cell_type": "code",
      "execution_count": null,
      "metadata": {},
      "outputs": [],
      "source": [
        "# Define the objective function for SVM and hyperparameter tuning\n",
        "def objective(trial):\n",
        "    C = trial.suggest_loguniform('C', 1e-5, 1e2)\n",
        "    gamma = trial.suggest_loguniform('gamma', 1e-5, 1e2)\n",
        "\n",
        "    svm = SVC(C=C, gamma=gamma, kernel='rbf', random_state=42)\n",
        "    svm.fit(X_train, y_train)\n",
        "    \n",
        "    preds = svm.predict(X_val)\n",
        "    acc = accuracy_score(y_val, preds)\n",
        "    return acc"
      ]
    },
    {
      "cell_type": "code",
      "execution_count": null,
      "metadata": {},
      "outputs": [],
      "source": [
        "study = optuna.create_study(direction='maximize')\n",
        "study.optimize(objective, n_trials=10)\n",
        "\n",
        "best_params = study.best_params\n",
        "print(\"Best hyperparameters:\", best_params)\n",
        "\n",
        "# Train SVM using the best hyperparameters\n",
        "best_svm = SVC(C=best_params['C'], gamma=best_params['gamma'], kernel='rbf', random_state=42)\n",
        "best_svm.fit(X_train, y_train)\n",
        "\n",
        "# Evaluate the best SVM model\n",
        "preds = best_svm.predict(X_val)\n",
        "acc = accuracy_score(y_val, preds)\n",
        "print(f\"Accuracy: {acc}\")"
      ]
    },
    {
      "cell_type": "code",
      "execution_count": 6,
      "metadata": {},
      "outputs": [],
      "source": [
        "X_test = pd.read_csv(\"./test_data.csv\")\n",
        "test_predictions_rbf = best_svm.predict(X_test)"
      ]
    },
    {
      "cell_type": "code",
      "execution_count": 8,
      "metadata": {
        "id": "0_43CnH4xb94"
      },
      "outputs": [],
      "source": [
        "df_output = pd.read_csv(\"../canadian-hospital-re-admittance-challenge/sample_submission.csv\")\n",
        "df_output[\"readmission_id\"] = test_predictions_rbf\n",
        "df_output.to_csv(\"submission_svm1.csv\", index=False)"
      ]
    }
  ],
  "metadata": {
    "colab": {
      "provenance": []
    },
    "kernelspec": {
      "display_name": "Python 3",
      "name": "python3"
    },
    "language_info": {
      "codemirror_mode": {
        "name": "ipython",
        "version": 3
      },
      "file_extension": ".py",
      "mimetype": "text/x-python",
      "name": "python",
      "nbconvert_exporter": "python",
      "pygments_lexer": "ipython3",
      "version": "3.10.9"
    }
  },
  "nbformat": 4,
  "nbformat_minor": 0
}
