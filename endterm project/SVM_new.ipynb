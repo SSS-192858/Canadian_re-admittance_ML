{
  "cells": [
    {
      "cell_type": "markdown",
      "metadata": {},
      "source": [
        "# Hospital Readmission Prediction - Support Vector Machine\n",
        "\n",
        "This notebook contain the code for Candian Hospital Re-Admission using support vector machines."
      ]
    },
    {
      "cell_type": "code",
      "execution_count": 1,
      "metadata": {
        "id": "Y2_tO3TFHhBM"
      },
      "outputs": [],
      "source": [
        "import pandas as pd\n",
        "from sklearn.model_selection import train_test_split\n",
        "from sklearn.svm import SVC\n",
        "from sklearn.metrics import accuracy_score, confusion_matrix, ConfusionMatrixDisplay\n",
        "import matplotlib.pyplot as plt\n",
        "import optuna"
      ]
    },
    {
      "cell_type": "code",
      "execution_count": 2,
      "metadata": {},
      "outputs": [],
      "source": [
        "train_data = pd.read_csv(\"./processed_data.csv\")"
      ]
    },
    {
      "cell_type": "markdown",
      "metadata": {},
      "source": [
        "We then did that appropriate model, and then did the test,train split with 80:20 ratio."
      ]
    },
    {
      "cell_type": "code",
      "execution_count": 3,
      "metadata": {
        "id": "mdnNWZbKjehq"
      },
      "outputs": [],
      "source": [
        "X = train_data.drop('readmission_id', axis=1)\n",
        "y = train_data['readmission_id']\n",
        "X_train, X_val, y_train, y_val = train_test_split(X, y, test_size=0.2, random_state=42)"
      ]
    },
    {
      "cell_type": "code",
      "execution_count": 4,
      "metadata": {
        "id": "J-tFmdr1mtSv"
      },
      "outputs": [],
      "source": [
        "# svm_poly = SVC(kernel='poly', degree=3, random_state=42)\n",
        "# svm_poly.fit(X_train, y_train)\n",
        "# y_pred_poly = svm_poly.predict(X_val)\n",
        "# accuracy_poly = accuracy_score(y_val, y_pred_poly)\n",
        "# print(f'Polynomial Kernel Accuracy: {accuracy_poly}')"
      ]
    },
    {
      "cell_type": "code",
      "execution_count": 5,
      "metadata": {
        "colab": {
          "base_uri": "https://localhost:8080/"
        },
        "id": "DLqsO-H7tKN2",
        "outputId": "d3b009a3-30a5-4e68-94d0-6769b3496791"
      },
      "outputs": [],
      "source": [
        "# svm_rbf = SVC(kernel='rbf', random_state=42)\n",
        "# svm_rbf.fit(X_train, y_train)\n",
        "# y_pred_rbf = svm_rbf.predict(X_val)\n",
        "# accuracy_rbf = accuracy_score(y_val, y_pred_rbf)\n",
        "# print(f'RBF Kernel Accuracy: {accuracy_rbf}')"
      ]
    },
    {
      "cell_type": "markdown",
      "metadata": {},
      "source": [
        "Used Optuna to tune the hyper parameter and then get the best accuracy."
      ]
    },
    {
      "cell_type": "code",
      "execution_count": 6,
      "metadata": {},
      "outputs": [],
      "source": [
        "# Define the objective function for SVM and hyperparameter tuning\n",
        "def objective(trial):\n",
        "    C = trial.suggest_loguniform('C', 1e-5, 1e2)\n",
        "    gamma = trial.suggest_loguniform('gamma', 1e-5, 1e2)\n",
        "\n",
        "    svm = SVC(C=C, gamma=gamma, kernel='rbf', random_state=42)\n",
        "    svm.fit(X_train, y_train)\n",
        "    \n",
        "    preds = svm.predict(X_val)\n",
        "    acc = accuracy_score(y_val, preds)\n",
        "    return acc"
      ]
    },
    {
      "cell_type": "code",
      "execution_count": 7,
      "metadata": {},
      "outputs": [
        {
          "name": "stderr",
          "output_type": "stream",
          "text": [
            "[I 2023-12-17 12:05:16,383] A new study created in memory with name: no-name-9b955443-c0fc-4a91-93a3-ebeef065b37d\n",
            "/tmp/ipykernel_531952/121262366.py:3: FutureWarning: suggest_loguniform has been deprecated in v3.0.0. This feature will be removed in v6.0.0. See https://github.com/optuna/optuna/releases/tag/v3.0.0. Use suggest_float(..., log=True) instead.\n",
            "  C = trial.suggest_loguniform('C', 1e-5, 1e2)\n",
            "/tmp/ipykernel_531952/121262366.py:4: FutureWarning: suggest_loguniform has been deprecated in v3.0.0. This feature will be removed in v6.0.0. See https://github.com/optuna/optuna/releases/tag/v3.0.0. Use suggest_float(..., log=True) instead.\n",
            "  gamma = trial.suggest_loguniform('gamma', 1e-5, 1e2)\n",
            "[I 2023-12-17 12:30:29,403] Trial 0 finished with value: 0.5446378439079169 and parameters: {'C': 0.11318607501722285, 'gamma': 0.06159210189031682}. Best is trial 0 with value: 0.5446378439079169.\n",
            "/tmp/ipykernel_531952/121262366.py:3: FutureWarning: suggest_loguniform has been deprecated in v3.0.0. This feature will be removed in v6.0.0. See https://github.com/optuna/optuna/releases/tag/v3.0.0. Use suggest_float(..., log=True) instead.\n",
            "  C = trial.suggest_loguniform('C', 1e-5, 1e2)\n",
            "/tmp/ipykernel_531952/121262366.py:4: FutureWarning: suggest_loguniform has been deprecated in v3.0.0. This feature will be removed in v6.0.0. See https://github.com/optuna/optuna/releases/tag/v3.0.0. Use suggest_float(..., log=True) instead.\n",
            "  gamma = trial.suggest_loguniform('gamma', 1e-5, 1e2)\n",
            "[I 2023-12-17 12:44:01,000] Trial 1 finished with value: 0.6704800673778776 and parameters: {'C': 0.6510347470006014, 'gamma': 0.004644005707484254}. Best is trial 1 with value: 0.6704800673778776.\n",
            "/tmp/ipykernel_531952/121262366.py:3: FutureWarning: suggest_loguniform has been deprecated in v3.0.0. This feature will be removed in v6.0.0. See https://github.com/optuna/optuna/releases/tag/v3.0.0. Use suggest_float(..., log=True) instead.\n",
            "  C = trial.suggest_loguniform('C', 1e-5, 1e2)\n",
            "/tmp/ipykernel_531952/121262366.py:4: FutureWarning: suggest_loguniform has been deprecated in v3.0.0. This feature will be removed in v6.0.0. See https://github.com/optuna/optuna/releases/tag/v3.0.0. Use suggest_float(..., log=True) instead.\n",
            "  gamma = trial.suggest_loguniform('gamma', 1e-5, 1e2)\n",
            "[I 2023-12-17 12:53:40,842] Trial 2 finished with value: 0.5298287478944413 and parameters: {'C': 0.00010329009262612027, 'gamma': 1.1743344617620482e-05}. Best is trial 1 with value: 0.6704800673778776.\n",
            "/tmp/ipykernel_531952/121262366.py:3: FutureWarning: suggest_loguniform has been deprecated in v3.0.0. This feature will be removed in v6.0.0. See https://github.com/optuna/optuna/releases/tag/v3.0.0. Use suggest_float(..., log=True) instead.\n",
            "  C = trial.suggest_loguniform('C', 1e-5, 1e2)\n",
            "/tmp/ipykernel_531952/121262366.py:4: FutureWarning: suggest_loguniform has been deprecated in v3.0.0. This feature will be removed in v6.0.0. See https://github.com/optuna/optuna/releases/tag/v3.0.0. Use suggest_float(..., log=True) instead.\n",
            "  gamma = trial.suggest_loguniform('gamma', 1e-5, 1e2)\n",
            "[I 2023-12-17 14:01:45,469] Trial 3 finished with value: 0.5298287478944413 and parameters: {'C': 4.57188019693193, 'gamma': 20.083646976920118}. Best is trial 1 with value: 0.6704800673778776.\n",
            "/tmp/ipykernel_531952/121262366.py:3: FutureWarning: suggest_loguniform has been deprecated in v3.0.0. This feature will be removed in v6.0.0. See https://github.com/optuna/optuna/releases/tag/v3.0.0. Use suggest_float(..., log=True) instead.\n",
            "  C = trial.suggest_loguniform('C', 1e-5, 1e2)\n",
            "/tmp/ipykernel_531952/121262366.py:4: FutureWarning: suggest_loguniform has been deprecated in v3.0.0. This feature will be removed in v6.0.0. See https://github.com/optuna/optuna/releases/tag/v3.0.0. Use suggest_float(..., log=True) instead.\n",
            "  gamma = trial.suggest_loguniform('gamma', 1e-5, 1e2)\n",
            "[I 2023-12-17 14:11:07,758] Trial 4 finished with value: 0.5298287478944413 and parameters: {'C': 5.54614727030827e-05, 'gamma': 0.0003153575212374719}. Best is trial 1 with value: 0.6704800673778776.\n",
            "/tmp/ipykernel_531952/121262366.py:3: FutureWarning: suggest_loguniform has been deprecated in v3.0.0. This feature will be removed in v6.0.0. See https://github.com/optuna/optuna/releases/tag/v3.0.0. Use suggest_float(..., log=True) instead.\n",
            "  C = trial.suggest_loguniform('C', 1e-5, 1e2)\n",
            "/tmp/ipykernel_531952/121262366.py:4: FutureWarning: suggest_loguniform has been deprecated in v3.0.0. This feature will be removed in v6.0.0. See https://github.com/optuna/optuna/releases/tag/v3.0.0. Use suggest_float(..., log=True) instead.\n",
            "  gamma = trial.suggest_loguniform('gamma', 1e-5, 1e2)\n",
            "[I 2023-12-17 14:24:32,910] Trial 5 finished with value: 0.6948343627175744 and parameters: {'C': 17.612834341019255, 'gamma': 0.00025923625194586937}. Best is trial 5 with value: 0.6948343627175744.\n",
            "/tmp/ipykernel_531952/121262366.py:3: FutureWarning: suggest_loguniform has been deprecated in v3.0.0. This feature will be removed in v6.0.0. See https://github.com/optuna/optuna/releases/tag/v3.0.0. Use suggest_float(..., log=True) instead.\n",
            "  C = trial.suggest_loguniform('C', 1e-5, 1e2)\n",
            "/tmp/ipykernel_531952/121262366.py:4: FutureWarning: suggest_loguniform has been deprecated in v3.0.0. This feature will be removed in v6.0.0. See https://github.com/optuna/optuna/releases/tag/v3.0.0. Use suggest_float(..., log=True) instead.\n",
            "  gamma = trial.suggest_loguniform('gamma', 1e-5, 1e2)\n",
            "[I 2023-12-17 14:42:04,903] Trial 6 finished with value: 0.6921673217293656 and parameters: {'C': 82.92845944581819, 'gamma': 6.692016208964762e-05}. Best is trial 5 with value: 0.6948343627175744.\n",
            "/tmp/ipykernel_531952/121262366.py:3: FutureWarning: suggest_loguniform has been deprecated in v3.0.0. This feature will be removed in v6.0.0. See https://github.com/optuna/optuna/releases/tag/v3.0.0. Use suggest_float(..., log=True) instead.\n",
            "  C = trial.suggest_loguniform('C', 1e-5, 1e2)\n",
            "/tmp/ipykernel_531952/121262366.py:4: FutureWarning: suggest_loguniform has been deprecated in v3.0.0. This feature will be removed in v6.0.0. See https://github.com/optuna/optuna/releases/tag/v3.0.0. Use suggest_float(..., log=True) instead.\n",
            "  gamma = trial.suggest_loguniform('gamma', 1e-5, 1e2)\n",
            "[I 2023-12-17 14:51:59,792] Trial 7 finished with value: 0.5298287478944413 and parameters: {'C': 0.006286725241252671, 'gamma': 3.0428244365485875e-05}. Best is trial 5 with value: 0.6948343627175744.\n",
            "/tmp/ipykernel_531952/121262366.py:3: FutureWarning: suggest_loguniform has been deprecated in v3.0.0. This feature will be removed in v6.0.0. See https://github.com/optuna/optuna/releases/tag/v3.0.0. Use suggest_float(..., log=True) instead.\n",
            "  C = trial.suggest_loguniform('C', 1e-5, 1e2)\n",
            "/tmp/ipykernel_531952/121262366.py:4: FutureWarning: suggest_loguniform has been deprecated in v3.0.0. This feature will be removed in v6.0.0. See https://github.com/optuna/optuna/releases/tag/v3.0.0. Use suggest_float(..., log=True) instead.\n",
            "  gamma = trial.suggest_loguniform('gamma', 1e-5, 1e2)\n",
            "[I 2023-12-17 15:01:13,258] Trial 8 finished with value: 0.5298287478944413 and parameters: {'C': 4.661667619559428e-05, 'gamma': 0.006977606454932908}. Best is trial 5 with value: 0.6948343627175744.\n",
            "/tmp/ipykernel_531952/121262366.py:3: FutureWarning: suggest_loguniform has been deprecated in v3.0.0. This feature will be removed in v6.0.0. See https://github.com/optuna/optuna/releases/tag/v3.0.0. Use suggest_float(..., log=True) instead.\n",
            "  C = trial.suggest_loguniform('C', 1e-5, 1e2)\n",
            "/tmp/ipykernel_531952/121262366.py:4: FutureWarning: suggest_loguniform has been deprecated in v3.0.0. This feature will be removed in v6.0.0. See https://github.com/optuna/optuna/releases/tag/v3.0.0. Use suggest_float(..., log=True) instead.\n",
            "  gamma = trial.suggest_loguniform('gamma', 1e-5, 1e2)\n",
            "[I 2023-12-17 15:10:34,801] Trial 9 finished with value: 0.5298287478944413 and parameters: {'C': 6.22756467941663e-05, 'gamma': 0.001919158159543005}. Best is trial 5 with value: 0.6948343627175744.\n"
          ]
        },
        {
          "name": "stdout",
          "output_type": "stream",
          "text": [
            "Best hyperparameters: {'C': 17.612834341019255, 'gamma': 0.00025923625194586937}\n",
            "Accuracy: 0.6948343627175744\n"
          ]
        }
      ],
      "source": [
        "study = optuna.create_study(direction='maximize')\n",
        "study.optimize(objective, n_trials=10)\n",
        "\n",
        "best_params = study.best_params\n",
        "print(\"Best hyperparameters:\", best_params)\n",
        "\n",
        "# Train SVM using the best hyperparameters\n",
        "best_svm = SVC(C=best_params['C'], gamma=best_params['gamma'], kernel='rbf', random_state=42)\n",
        "best_svm.fit(X_train, y_train)\n",
        "\n",
        "# Evaluate the best SVM model\n",
        "preds = best_svm.predict(X_val)\n",
        "acc = accuracy_score(y_val, preds)\n",
        "print(f\"Accuracy: {acc}\")"
      ]
    },
    {
      "cell_type": "code",
      "execution_count": 8,
      "metadata": {},
      "outputs": [
        {
          "data": {
            "image/png": "[encoded data removed]",
            "text/plain": [
              "<Figure size 640x480 with 2 Axes>"
            ]
          },
          "metadata": {},
          "output_type": "display_data"
        }
      ],
      "source": [
        "cm = confusion_matrix(y_val, preds)\n",
        "disp = ConfusionMatrixDisplay(confusion_matrix=cm, display_labels=range(3))\n",
        "disp.plot()\n",
        "plt.show()"
      ]
    },
    {
      "cell_type": "code",
      "execution_count": 9,
      "metadata": {},
      "outputs": [],
      "source": [
        "X_test = pd.read_csv(\"./test_data.csv\")\n",
        "test_predictions_rbf = best_svm.predict(X_test)"
      ]
    },
    {
      "cell_type": "code",
      "execution_count": null,
      "metadata": {
        "id": "0_43CnH4xb94"
      },
      "outputs": [],
      "source": [
        "df_output = pd.read_csv(\"../canadian-hospital-re-admittance-challenge/sample_submission.csv\")\n",
        "df_output[\"readmission_id\"] = test_predictions_rbf\n",
        "df_output.to_csv(\"submission_svm1.csv\", index=False)"
      ]
    }
  ],
  "metadata": {
    "colab": {
      "provenance": []
    },
    "kernelspec": {
      "display_name": "Python 3",
      "name": "python3"
    },
    "language_info": {
      "codemirror_mode": {
        "name": "ipython",
        "version": 3
      },
      "file_extension": ".py",
      "mimetype": "text/x-python",
      "name": "python",
      "nbconvert_exporter": "python",
      "pygments_lexer": "ipython3",
      "version": "3.10.9"
    }
  },
  "nbformat": 4,
  "nbformat_minor": 0
}
